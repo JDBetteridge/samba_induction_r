{
 "cells": [
  {
   "cell_type": "markdown",
   "metadata": {},
   "source": [
    "# Answers"
   ]
  },
  {
   "cell_type": "markdown",
   "metadata": {},
   "source": [
    "## 1\n",
    "Use the ToothGrowth data.\n",
    "On the same plotting window create two separage graphs side by side. \n",
    "1. On the first one plot length against dose as above but using red squares as plotting symbols instead of black circles. Label your x and y axes \"Dose\" and \"Length\" respectively. Add also a title to the plot. \n",
    "2. On the second graph plot length against supplement. Label the x and y axes and the graph accordingly."
   ]
  },
  {
   "cell_type": "code",
   "execution_count": null,
   "metadata": {},
   "outputs": [],
   "source": [
    "par(mfrow = c(1, 2))\n",
    "plot(dose, len, type = \"p\", pch = 0, col = \"red\", xlab = \"Dose\", ylab = \"Length\", main = \"Length vs Dose\")\n",
    "plot(supp, len, xlab = \"Supplement\", ylab = \"Length\", main = \"Length vs Supplement\")"
   ]
  },
  {
   "cell_type": "markdown",
   "metadata": {},
   "source": [
    "## 2\n",
    "Recreate the plot of length against dose, incorporating the following changes:\n",
    "\n",
    "1. Change the axis labels to \"Dose\" and \"Length\". \n",
    "2. Use different colours and plotting symbols for the two different supplements. Hint. Use dose[supp == \"OJ\"] to select the elements of dose which correspond to supp = OJ. \n",
    "3. Draw the regression line of length against dose. The coefficients of the regression line  α+βxα+βx  can be obtained using the following formulae:  β̂ =cor(x,y)×sd(y)/sd(x)β^=cor(x,y)×sd(y)/sd(x) ,  α̂ =y¯−β̂ x¯α^=y¯−β^x¯ . \n",
    "4. Add a legend to your plot explaining each component of the graph."
   ]
  },
  {
   "cell_type": "code",
   "execution_count": null,
   "metadata": {},
   "outputs": [],
   "source": [
    "plot(dose, len, type = \"n\", xlab = \"Dose\", ylab = \"Length\") # Draw the axes only\n",
    "points(dose[supp == \"OJ\"], len[supp == \"OJ\"], col = 2, pch = 0)\n",
    "points(dose[supp == \"VC\"], len[supp == \"VC\"], col = 3, pch = 5)\n",
    "bhat <- cor(dose,len)*sd(len)/sd(dose)\n",
    "ahat <- mean(len) - bhat*mean(dose)\n",
    "abline(ahat, bhat)\n",
    "legend(\"bottomright\", legend = c(\"OJ\", \"VC\", \"LS fit\"), pch = c(0, 5, NA),\n",
    "       lty = c(NA, NA, 1), col = c(2, 3, 1))"
   ]
  },
  {
   "cell_type": "markdown",
   "metadata": {},
   "source": [
    "## 3  \n",
    "Consider the data generated using the following R commands\n",
    "```{r, eval = FALSE}\n",
    "n <- 500\n",
    "x <- rnorm(n, mean = 1, sd = 2)\n",
    "y <- 2*x + rnorm(n, mean = 0, sd = 3)\n",
    "```\n",
    "1. Draw a scatterplot of `y` against `x`.\n",
    "2. Overlay the scatterplot with a contour plot of the true joint distribution of `x` and `y` in red colour.\n",
    "\n",
    "*Hint.* If $(Z_1, Z_2)$ are bivariate standard normally distributed with correlation $\\rho$, then $(X_1, X_2)$ where $X_1 = \\mu_1 + \\sigma_1 Z_1$ and $X_2 = \\mu_2 + \\sigma_2 Z_2$ are bivariate normally distributed with correlation $\\rho$, mean $(\\mu_1, \\mu_2)$ and standard deviations $\\sigma_1$ and $\\sigma_2$. Then the density of $(X_1, X_2)$ is $$\\frac{1}{\\sigma_1 \\sigma_2} f_{(Z_1,Z_2)}\\biggl( \\frac{x_1 - \\mu_1}{\\sigma_1}, \\frac{x_2 - \\mu_2}{\\sigma_2} ; \\rho \\biggr)$$\n",
    " where $f_{(Z_1,Z_2)}(z_1,z_2;\\rho)$ is the density of $(Z_1,Z_2)$."
   ]
  },
  {
   "cell_type": "code",
   "execution_count": null,
   "metadata": {},
   "outputs": [],
   "source": [
    "n <- 500\n",
    "x <- rnorm(n, mean = 1, sd = 2)\n",
    "y <- 2*x + rnorm(n, mean = 0, sd = 3)\n",
    "\n",
    "plot(x, y, xlim = c(-7, 9), ylim = c(-18, 22))\n",
    "sval <- seq(-4, 4, length.out = 101) # Range of standard normal values\n",
    "xval <- 1 + 2*sval\n",
    "yval <- 2 + 5*sval\n",
    "zval <- dbsnorm(sval, sval, rho = 8/(2*5))/(2*5)\n",
    "contour(xval, yval, zval, add = TRUE, col = \"red\")"
   ]
  }
 ],
 "metadata": {
  "kernelspec": {
   "display_name": "R",
   "language": "R",
   "name": "ir"
  },
  "language_info": {
   "codemirror_mode": "r",
   "file_extension": ".r",
   "mimetype": "text/x-r-source",
   "name": "R",
   "pygments_lexer": "r",
   "version": "3.5.1"
  }
 },
 "nbformat": 4,
 "nbformat_minor": 2
}
