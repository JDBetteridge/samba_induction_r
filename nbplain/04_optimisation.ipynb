{
 "cells": [
  {
   "cell_type": "markdown",
   "metadata": {},
   "source": [
    "# Code Optimisation"
   ]
  },
  {
   "cell_type": "markdown",
   "metadata": {},
   "source": [
    "## Timing R commands\n",
    "\n",
    "The function `system.time` returns the computing time of R commands. "
   ]
  },
  {
   "cell_type": "code",
   "execution_count": 2,
   "metadata": {},
   "outputs": [
    {
     "data": {
      "text/plain": [
       "   user  system elapsed \n",
       "   0.21    0.00    0.27 "
      ]
     },
     "metadata": {},
     "output_type": "display_data"
    }
   ],
   "source": [
    "system.time({x <- qt(runif(1e4), df = 0.5)}) # Compute quantiles of the t dist'n"
   ]
  },
  {
   "cell_type": "markdown",
   "metadata": {},
   "source": [
    "## Array pre-allocation\n",
    "\n",
    "In the above example, the variable `x` is a vector of `1e4` elements. When calling the function `qt`, some space in the computer memory is pre-allocated to hold these `1e4` elements. This takes time as can be seen in the example below."
   ]
  },
  {
   "cell_type": "code",
   "execution_count": 4,
   "metadata": {},
   "outputs": [],
   "source": [
    "n <- 1e4\n",
    "u <- runif(n)"
   ]
  },
  {
   "cell_type": "markdown",
   "metadata": {},
   "source": [
    "## Pre-allocate memory"
   ]
  },
  {
   "cell_type": "code",
   "execution_count": 5,
   "metadata": {},
   "outputs": [
    {
     "data": {
      "text/plain": [
       "   user  system elapsed \n",
       "   0.22    0.00    0.21 "
      ]
     },
     "metadata": {},
     "output_type": "display_data"
    }
   ],
   "source": [
    "system.time({\n",
    "  x1 <- numeric(n) # Here we pre-allocate memory\n",
    "  for (i in 1:n) x1[i] <- qt(u[i], df = 0.5)\n",
    "})"
   ]
  },
  {
   "cell_type": "markdown",
   "metadata": {},
   "source": [
    "## Without memory pre-allocation"
   ]
  },
  {
   "cell_type": "code",
   "execution_count": 6,
   "metadata": {},
   "outputs": [
    {
     "data": {
      "text/plain": [
       "   user  system elapsed \n",
       "   0.47    0.00    0.49 "
      ]
     },
     "metadata": {},
     "output_type": "display_data"
    }
   ],
   "source": [
    "system.time({\n",
    "  x2 <- c() # x2 is initially empty\n",
    "  for (i in 1:n) x2 <- c(x2, qt(u[i], df = 0.5)) # Join x2 with the most recent calculation\n",
    "})"
   ]
  },
  {
   "cell_type": "markdown",
   "metadata": {},
   "source": [
    "In the case for `x2`, the memory is allocated within the `for` loop so there are `n` such operations. This slowed down the code.\n",
    "\n",
    "## Vectorising code\n",
    "\n",
    "### The `for` loop\n",
    "\n",
    "Preferably loops should be avoided when possible. Consider the following example."
   ]
  },
  {
   "cell_type": "code",
   "execution_count": 7,
   "metadata": {},
   "outputs": [
    {
     "data": {
      "text/plain": [
       "   user  system elapsed \n",
       "   0.23    0.00    0.24 "
      ]
     },
     "metadata": {},
     "output_type": "display_data"
    },
    {
     "data": {
      "text/plain": [
       "   user  system elapsed \n",
       "   0.20    0.00    0.21 "
      ]
     },
     "metadata": {},
     "output_type": "display_data"
    }
   ],
   "source": [
    "n <- 1e4\n",
    "u <- runif(n)\n",
    "qf <- qp <- numeric(n) # Placeholder for storing the output of the commands below\n",
    "\n",
    "## Loop version\n",
    "system.time({\n",
    "  for (i in 1:n) {\n",
    "    qf[i] <- qt(u[i], df = 0.5)\n",
    "  }\n",
    "})\n",
    "\n",
    "## Parallel version\n",
    "system.time({\n",
    "  qp <- qt(u, df = 0.5)\n",
    "})"
   ]
  },
  {
   "cell_type": "markdown",
   "metadata": {},
   "source": [
    "The reason for the slower code in the loop is the following. Every line of code must first be translated into native computer language. In the parallel version, the translation only occurs once. In the the looppy version it occurs `n` times. This costs time. \n",
    "\n",
    "### Using `apply` and `lapply`\n",
    "One benefit of `for` loops is that the code is sometimes easier to read. In these cases it is not obvious how to vectorise the code. Consider for example the following:"
   ]
  },
  {
   "cell_type": "code",
   "execution_count": 8,
   "metadata": {},
   "outputs": [],
   "source": [
    "# Code to compute the average length for each variable and species using a loop.\n",
    "\n",
    "data(iris3) # An array of dimension 50 by 4 by 3\n",
    "avglen_f <- matrix(0, 4, 3)\n",
    "for (i in 1:4) {\n",
    "  for (j in 1:3) {\n",
    "    avglen_f[i, j] <- mean(iris3[, i, j])\n",
    "  }\n",
    "}"
   ]
  },
  {
   "cell_type": "markdown",
   "metadata": {},
   "source": [
    "The above code can be vectorised (and simplified) with the aid of the function `apply` as follows"
   ]
  },
  {
   "cell_type": "code",
   "execution_count": 10,
   "metadata": {},
   "outputs": [],
   "source": [
    "### Code to compute the average length for each variable and species using apply.\n",
    "avglen_p <- apply(iris3, c(2, 3), mean)"
   ]
  },
  {
   "cell_type": "markdown",
   "metadata": {},
   "source": [
    "In words the above code says \"apply the function `mean` cycling through the dimensions 2 and 3 of the array `iris3`.\" The function `mean` will be called 6 times without using R loops. The input to the function each time will be the vector `iris3[, 1, 1]`, `iris3[, 1, 2]`, etc. Note that the function to be applied need not have a name, e.g., here is the same result using an anonymous function"
   ]
  },
  {
   "cell_type": "code",
   "execution_count": 11,
   "metadata": {},
   "outputs": [],
   "source": [
    "### Code to compute the average length for each variable and species by applying an anonymous function.\n",
    "avglen_p <- apply(iris3, c(2, 3), function(x) {sum(x)/length(x)})\n"
   ]
  },
  {
   "cell_type": "markdown",
   "metadata": {},
   "source": [
    "In the above `x` denotes the vector input to the anonymous function. The anonymous function is quite flexible in the sense that the variables used in the body of the function can come from the current environment. In the following example the variable `p` is not inputted to the function but its value is taken from the current environment."
   ]
  },
  {
   "cell_type": "code",
   "execution_count": 13,
   "metadata": {},
   "outputs": [],
   "source": [
    "n <- 15\n",
    "k <- 4\n",
    "x <- matrix(rnorm(n*k), n, k) # A matrix of k different standard normal samples of size n\n",
    "p <- c(.10, .50, .90) # A vector of probabilities\n",
    "z <- apply(x, 2, function(xi) quantile(xi, probs = p)) # Compute the quantiles for each sample. Note that p is not an argument to the function."
   ]
  },
  {
   "cell_type": "markdown",
   "metadata": {},
   "source": [
    "The function `apply` operates on arrays, i.e., objects whose dimension is not `NULL` and returns an array or a vector. The function `lapply` (and derivatives) operate on lists, or objects which can be coerced to lists. The loop cycles through each component of the list."
   ]
  },
  {
   "cell_type": "code",
   "execution_count": 14,
   "metadata": {},
   "outputs": [
    {
     "data": {
      "text/html": [
       "<dl>\n",
       "\t<dt>$len</dt>\n",
       "\t\t<dd>'numeric'</dd>\n",
       "\t<dt>$supp</dt>\n",
       "\t\t<dd>'factor'</dd>\n",
       "\t<dt>$dose</dt>\n",
       "\t\t<dd>'numeric'</dd>\n",
       "</dl>\n"
      ],
      "text/latex": [
       "\\begin{description}\n",
       "\\item[\\$len] 'numeric'\n",
       "\\item[\\$supp] 'factor'\n",
       "\\item[\\$dose] 'numeric'\n",
       "\\end{description}\n"
      ],
      "text/markdown": [
       "$len\n",
       ":   'numeric'\n",
       "$supp\n",
       ":   'factor'\n",
       "$dose\n",
       ":   'numeric'\n",
       "\n",
       "\n"
      ],
      "text/plain": [
       "$len\n",
       "[1] \"numeric\"\n",
       "\n",
       "$supp\n",
       "[1] \"factor\"\n",
       "\n",
       "$dose\n",
       "[1] \"numeric\"\n"
      ]
     },
     "metadata": {},
     "output_type": "display_data"
    },
    {
     "data": {
      "text/html": [
       "<table>\n",
       "<tbody>\n",
       "\t<tr><th scope=row>10%</th><td>-1.5284963 </td><td>-1.6856170 </td><td>-1.51878116</td><td>-1.54132887</td></tr>\n",
       "\t<tr><th scope=row>50%</th><td> 0.1021911 </td><td> 0.1471821 </td><td>-0.01557283</td><td> 0.01405035</td></tr>\n",
       "\t<tr><th scope=row>90%</th><td> 0.7980501 </td><td> 1.5306930 </td><td> 0.79179948</td><td> 1.12006630</td></tr>\n",
       "</tbody>\n",
       "</table>\n"
      ],
      "text/latex": [
       "\\begin{tabular}{r|llll}\n",
       "\t10\\% & -1.5284963  & -1.6856170  & -1.51878116 & -1.54132887\\\\\n",
       "\t50\\% &  0.1021911  &  0.1471821  & -0.01557283 &  0.01405035\\\\\n",
       "\t90\\% &  0.7980501  &  1.5306930  &  0.79179948 &  1.12006630\\\\\n",
       "\\end{tabular}\n"
      ],
      "text/markdown": [
       "\n",
       "| 10% | -1.5284963  | -1.6856170  | -1.51878116 | -1.54132887 | \n",
       "| 50% |  0.1021911  |  0.1471821  | -0.01557283 |  0.01405035 | \n",
       "| 90% |  0.7980501  |  1.5306930  |  0.79179948 |  1.12006630 | \n",
       "\n",
       "\n"
      ],
      "text/plain": [
       "    [,1]       [,2]       [,3]        [,4]       \n",
       "10% -1.5284963 -1.6856170 -1.51878116 -1.54132887\n",
       "50%  0.1021911  0.1471821 -0.01557283  0.01405035\n",
       "90%  0.7980501  1.5306930  0.79179948  1.12006630"
      ]
     },
     "metadata": {},
     "output_type": "display_data"
    },
    {
     "data": {
      "text/html": [
       "<ol>\n",
       "\t<li>1</li>\n",
       "\t<li>2</li>\n",
       "\t<li>3</li>\n",
       "\t<li>4</li>\n",
       "</ol>\n"
      ],
      "text/latex": [
       "\\begin{enumerate}\n",
       "\\item 1\n",
       "\\item 2\n",
       "\\item 3\n",
       "\\item 4\n",
       "\\end{enumerate}\n"
      ],
      "text/markdown": [
       "1. 1\n",
       "2. 2\n",
       "3. 3\n",
       "4. 4\n",
       "\n",
       "\n"
      ],
      "text/plain": [
       "[[1]]\n",
       "[1] 1\n",
       "\n",
       "[[2]]\n",
       "[1] 2\n",
       "\n",
       "[[3]]\n",
       "[1] 3\n",
       "\n",
       "[[4]]\n",
       "[1] 4\n"
      ]
     },
     "metadata": {},
     "output_type": "display_data"
    },
    {
     "data": {
      "text/html": [
       "<ol>\n",
       "\t<li><dl class=dl-horizontal>\n",
       "\t<dt>10%</dt>\n",
       "\t\t<dd>-1.52849629070893</dd>\n",
       "\t<dt>50%</dt>\n",
       "\t\t<dd>0.102191063800144</dd>\n",
       "\t<dt>90%</dt>\n",
       "\t\t<dd>0.798050068852753</dd>\n",
       "</dl>\n",
       "</li>\n",
       "\t<li><dl class=dl-horizontal>\n",
       "\t<dt>10%</dt>\n",
       "\t\t<dd>-1.68561704924263</dd>\n",
       "\t<dt>50%</dt>\n",
       "\t\t<dd>0.147182076424043</dd>\n",
       "\t<dt>90%</dt>\n",
       "\t\t<dd>1.53069304637887</dd>\n",
       "</dl>\n",
       "</li>\n",
       "\t<li><dl class=dl-horizontal>\n",
       "\t<dt>10%</dt>\n",
       "\t\t<dd>-1.5187811617768</dd>\n",
       "\t<dt>50%</dt>\n",
       "\t\t<dd>-0.0155728345097944</dd>\n",
       "\t<dt>90%</dt>\n",
       "\t\t<dd>0.791799476169284</dd>\n",
       "</dl>\n",
       "</li>\n",
       "\t<li><dl class=dl-horizontal>\n",
       "\t<dt>10%</dt>\n",
       "\t\t<dd>-1.54132887423393</dd>\n",
       "\t<dt>50%</dt>\n",
       "\t\t<dd>0.0140503523036888</dd>\n",
       "\t<dt>90%</dt>\n",
       "\t\t<dd>1.12006629943356</dd>\n",
       "</dl>\n",
       "</li>\n",
       "</ol>\n"
      ],
      "text/latex": [
       "\\begin{enumerate}\n",
       "\\item \\begin{description*}\n",
       "\\item[10\\textbackslash{}\\%] -1.52849629070893\n",
       "\\item[50\\textbackslash{}\\%] 0.102191063800144\n",
       "\\item[90\\textbackslash{}\\%] 0.798050068852753\n",
       "\\end{description*}\n",
       "\n",
       "\\item \\begin{description*}\n",
       "\\item[10\\textbackslash{}\\%] -1.68561704924263\n",
       "\\item[50\\textbackslash{}\\%] 0.147182076424043\n",
       "\\item[90\\textbackslash{}\\%] 1.53069304637887\n",
       "\\end{description*}\n",
       "\n",
       "\\item \\begin{description*}\n",
       "\\item[10\\textbackslash{}\\%] -1.5187811617768\n",
       "\\item[50\\textbackslash{}\\%] -0.0155728345097944\n",
       "\\item[90\\textbackslash{}\\%] 0.791799476169284\n",
       "\\end{description*}\n",
       "\n",
       "\\item \\begin{description*}\n",
       "\\item[10\\textbackslash{}\\%] -1.54132887423393\n",
       "\\item[50\\textbackslash{}\\%] 0.0140503523036888\n",
       "\\item[90\\textbackslash{}\\%] 1.12006629943356\n",
       "\\end{description*}\n",
       "\n",
       "\\end{enumerate}\n"
      ],
      "text/markdown": [
       "1. 10%\n",
       ":   -1.5284962907089350%\n",
       ":   0.10219106380014490%\n",
       ":   0.798050068852753\n",
       "\n",
       "\n",
       "2. 10%\n",
       ":   -1.6856170492426350%\n",
       ":   0.14718207642404390%\n",
       ":   1.53069304637887\n",
       "\n",
       "\n",
       "3. 10%\n",
       ":   -1.518781161776850%\n",
       ":   -0.015572834509794490%\n",
       ":   0.791799476169284\n",
       "\n",
       "\n",
       "4. 10%\n",
       ":   -1.5413288742339350%\n",
       ":   0.014050352303688890%\n",
       ":   1.12006629943356\n",
       "\n",
       "\n",
       "\n",
       "\n"
      ],
      "text/plain": [
       "[[1]]\n",
       "       10%        50%        90% \n",
       "-1.5284963  0.1021911  0.7980501 \n",
       "\n",
       "[[2]]\n",
       "       10%        50%        90% \n",
       "-1.6856170  0.1471821  1.5306930 \n",
       "\n",
       "[[3]]\n",
       "        10%         50%         90% \n",
       "-1.51878116 -0.01557283  0.79179948 \n",
       "\n",
       "[[4]]\n",
       "        10%         50%         90% \n",
       "-1.54132887  0.01405035  1.12006630 \n"
      ]
     },
     "metadata": {},
     "output_type": "display_data"
    },
    {
     "data": {
      "text/html": [
       "<table>\n",
       "<tbody>\n",
       "\t<tr><th scope=row>10%</th><td>-1.5284963 </td><td>-1.6856170 </td><td>-1.51878116</td><td>-1.54132887</td></tr>\n",
       "\t<tr><th scope=row>50%</th><td> 0.1021911 </td><td> 0.1471821 </td><td>-0.01557283</td><td> 0.01405035</td></tr>\n",
       "\t<tr><th scope=row>90%</th><td> 0.7980501 </td><td> 1.5306930 </td><td> 0.79179948</td><td> 1.12006630</td></tr>\n",
       "</tbody>\n",
       "</table>\n"
      ],
      "text/latex": [
       "\\begin{tabular}{r|llll}\n",
       "\t10\\% & -1.5284963  & -1.6856170  & -1.51878116 & -1.54132887\\\\\n",
       "\t50\\% &  0.1021911  &  0.1471821  & -0.01557283 &  0.01405035\\\\\n",
       "\t90\\% &  0.7980501  &  1.5306930  &  0.79179948 &  1.12006630\\\\\n",
       "\\end{tabular}\n"
      ],
      "text/markdown": [
       "\n",
       "| 10% | -1.5284963  | -1.6856170  | -1.51878116 | -1.54132887 | \n",
       "| 50% |  0.1021911  |  0.1471821  | -0.01557283 |  0.01405035 | \n",
       "| 90% |  0.7980501  |  1.5306930  |  0.79179948 |  1.12006630 | \n",
       "\n",
       "\n"
      ],
      "text/plain": [
       "    [,1]       [,2]       [,3]        [,4]       \n",
       "10% -1.5284963 -1.6856170 -1.51878116 -1.54132887\n",
       "50%  0.1021911  0.1471821 -0.01557283  0.01405035\n",
       "90%  0.7980501  1.5306930  0.79179948  1.12006630"
      ]
     },
     "metadata": {},
     "output_type": "display_data"
    }
   ],
   "source": [
    "### Return the type of each variable in the data frame\n",
    "lapply(ToothGrowth, class)\n",
    "n <- 15\n",
    "k <- 4\n",
    "x <- matrix(rnorm(n*k), n, k) # A matrix of k different standard normal samples of size n\n",
    "p <- c(.10, .50, .90) # A vector of probabilities\n",
    "apply(x, 2, function(xi) quantile(xi, probs = p))\n",
    "as.list(1:k)\n",
    "lapply(1:k, function(i) quantile(x[, i], probs = p))\n",
    "sapply(1:k, function(i) quantile(x[, i], probs = p))"
   ]
  },
  {
   "cell_type": "markdown",
   "metadata": {},
   "source": [
    "## Exercise: 1\n",
    "Consider the `ToothGrowth` data. \n",
    "1. Compute using `apply`, `lapply` etc the average growth (variable `len`) for the two different supplements (variable `supp`).\n",
    "2. Compute using `apply`, `lapply` etc the average growth (variable `len`) for each combination of supplement (variable `supp`) and dose (variable `dose`).\n",
    "\n",
    "[Solution]()"
   ]
  },
  {
   "cell_type": "markdown",
   "metadata": {},
   "source": [
    "## Solution+: 1  \n",
    "Consider the `ToothGrowth` data. \n",
    "1. Compute using `apply`, `lapply` etc the average growth (variable `len`) for the two different supplements (variable `supp`).\n",
    "2. Compute using `apply`, `lapply` etc the average growth (variable `len`) for each combination of supplement (variable `supp`) and dose (variable `dose`)."
   ]
  },
  {
   "cell_type": "code",
   "execution_count": 1,
   "metadata": {},
   "outputs": [],
   "source": [
    "attach(ToothGrowth)\n",
    "avg_s <- sapply(c(\"OJ\", \"VC\"), function(s) {mean(len[supp == s])})"
   ]
  },
  {
   "cell_type": "code",
   "execution_count": 2,
   "metadata": {},
   "outputs": [
    {
     "name": "stderr",
     "output_type": "stream",
     "text": [
      "The following objects are masked from ToothGrowth (pos = 3):\n",
      "\n",
      "    dose, len, supp\n",
      "\n"
     ]
    }
   ],
   "source": [
    "attach(ToothGrowth)\n",
    "avg_sd <- sapply(c(0.5, 1.0, 2.0), function(d) {sapply(c(\"OJ\", \"VC\"), function(s) {mean(len[supp == s & dose == d])})})\n",
    "# OR\n",
    "avg_sd <- mapply(function(s, d) {mean(len[supp == s & dose == d])}, \n",
    "                 rep(c(\"OJ\", \"VC\"), 3), rep(c(0.5, 1.0, 2.0), each = 2))"
   ]
  },
  {
   "cell_type": "markdown",
   "metadata": {},
   "source": [
    ": Solution+"
   ]
  },
  {
   "cell_type": "markdown",
   "metadata": {},
   "source": [
    "## Order of elements \n",
    "\n",
    "When we cannot avoid using loops, it is important to do it correctly. Consider the following two codes:"
   ]
  },
  {
   "cell_type": "code",
   "execution_count": 15,
   "metadata": {},
   "outputs": [
    {
     "ename": "ERROR",
     "evalue": "Error: cannot allocate vector of size 114.4 Mb\n",
     "output_type": "error",
     "traceback": [
      "Error: cannot allocate vector of size 114.4 Mb\nTraceback:\n",
      "1. array(runif(n * k * l), c(n, k, l))"
     ]
    }
   ],
   "source": [
    "n <- 1000\n",
    "k <- 100\n",
    "l <- 150\n",
    "u <- array(runif(n*k*l), c(n, k, l))\n",
    "x <- y <- matrix(0, k, l)\n",
    "\n",
    "## Loop through columns within each row\n",
    "system.time({\n",
    "  for (i in 1:k) {\n",
    "    for (j in 1:l) {\n",
    "      x[i, j] <- mad(u[, i, j])\n",
    "    }\n",
    "  }\n",
    "})"
   ]
  },
  {
   "cell_type": "code",
   "execution_count": 16,
   "metadata": {},
   "outputs": [
    {
     "ename": "ERROR",
     "evalue": "Error in u[, i, j]: incorrect number of dimensions\n",
     "output_type": "error",
     "traceback": [
      "Error in u[, i, j]: incorrect number of dimensions\nTraceback:\n",
      "1. system.time({\n .     for (j in 1:l) {\n .         for (i in 1:k) {\n .             y[i, j] <- mad(u[, i, j])\n .         }\n .     }\n . })",
      "2. mad(u[, i, j])   # at line 5 of file <text>"
     ]
    },
    {
     "name": "stderr",
     "output_type": "stream",
     "text": [
      "Timing stopped at: 0.02 0 0.01\n"
     ]
    }
   ],
   "source": [
    "## Loop through rows within each column\n",
    "system.time({\n",
    "  for (j in 1:l) {\n",
    "    for (i in 1:k) {\n",
    "      y[i, j] <- mad(u[, i, j])\n",
    "    }\n",
    "  }\n",
    "})"
   ]
  },
  {
   "cell_type": "markdown",
   "metadata": {},
   "source": [
    "The second code is slightly faster. This is due to the way arrays are stored in memory. The elements of the arrays `u`, `x`, and `y` occupy consecutive memory slots **column-wise**, e.g., `x[1,1]` is followed by `x[2,1]` and so on. It is faster to acess the memory in this sequence."
   ]
  },
  {
   "cell_type": "markdown",
   "metadata": {},
   "source": [
    "## Exercise: 2\n",
    "Consider the `topo` data provided by the package `MASS` containing the altitude `z` at 52 coordinates `x` and `y`.\n",
    "1. Use `for` loops efficiently to compute the matrix of pairwise distances between the locations given by the `x`, `y` coordinates. Compute only the lower triangular part of the matrix.\n",
    "2. The spherical correlation structure is given by the function $$r(d; \\theta) = \\begin{cases} 1 - 1.5 \\dfrac{d}{\\theta} + 0.5 \\biggl( \\dfrac{d}{\\theta} \\biggr)^3 & \\text{if $d < \\theta$,} \\\\\n",
    " 0 & \\text{otherwise.} \\end{cases}$$\n",
    "where $d$ is the distance between two coordinates and $\\theta$ is a parameter that controls the strength of the correlation. Write efficient parallel code to compute the correlation matrix for the sampling coordinates of the `topo` data set at $\\theta = 3$.\n",
    "\n",
    "[Solution]()"
   ]
  },
  {
   "cell_type": "markdown",
   "metadata": {},
   "source": [
    "## Solution+: 2 \n",
    "Consider the `topo` data provided by the package `MASS` containing the altitude `z` at 52 coordinates `x` and `y`.\n",
    "1. Use `for` loops efficiently to compute the matrix of pairwise distances between the locations given by the `x`, `y` coordinates. Compute only the lower triangular part of the matrix.\n",
    "2. The spherical correlation structure is given by the function $$r(d; \\theta) = \\begin{cases} 1 - 1.5 \\dfrac{d}{\\theta} + 0.5 \\biggl( \\dfrac{d}{\\theta} \\biggr)^3 & \\text{if $d < \\theta$,} \\\\\n",
    " 0 & \\text{otherwise.} \\end{cases}$$\n",
    "where $d$ is the distance between two coordinates and $\\theta$ is a parameter that controls the strength of the correlation. Write efficient parallel code to compute the correlation matrix for the sampling coordinates of the `topo` data set at $\\theta = 3$."
   ]
  },
  {
   "cell_type": "code",
   "execution_count": 4,
   "metadata": {},
   "outputs": [
    {
     "name": "stderr",
     "output_type": "stream",
     "text": [
      "The following objects are masked from topo (pos = 3):\n",
      "\n",
      "    x, y, z\n",
      "\n"
     ]
    }
   ],
   "source": [
    "library(MASS)\n",
    "attach(topo)\n",
    "n <- nrow(topo)\n",
    "\n",
    "distmat <- matrix(0, n, n) # Initialise memory for the matrix of distances\n",
    "for (j in 1:(n-1)) { # Loop across columns\n",
    "  for (i in (j+1):n) { # Loop across the lower triangular part\n",
    "    distmat[i, j] <- sqrt((x[i] - x[j])^2 + (y[i] - y[j])^2)\n",
    "  }\n",
    "}\n",
    "\n",
    "corrmat <- matrix(0, n, n) # Initialise memory for the correlation matrix\n",
    "theta <- 3\n",
    "rowindx <- matrix(1:n, n, n)\n",
    "lowtri <- rowindx > t(rowindx) # Identify the lower triangular part of the matrix\n",
    "idisttheta <- distmat < theta # Identify elements < theta\n",
    "disttheta <- distmat[idisttheta & lowtri]/theta\n",
    "corrmat[idisttheta & lowtri] <- 1 - 1.5*disttheta + .5*disttheta^3"
   ]
  },
  {
   "cell_type": "markdown",
   "metadata": {},
   "source": [
    ": solution+"
   ]
  },
  {
   "cell_type": "markdown",
   "metadata": {},
   "source": [
    "## Information: Further reading\n",
    "\n",
    " - See `?Rprof` for profiling R commands.\n",
    " - Use the `parallel` package for running commands trully in parallel on a computer with multiple cores.\n",
    " - Read the [R interface to C and FORTRAN](https://cran.r-project.org/doc/manuals/r-release/R-exts.html#System-and-foreign-language-interfaces) document for using compiled code in those languages within R."
   ]
  }
 ],
 "metadata": {
  "kernelspec": {
   "display_name": "R",
   "language": "R",
   "name": "ir"
  },
  "language_info": {
   "codemirror_mode": "r",
   "file_extension": ".r",
   "mimetype": "text/x-r-source",
   "name": "R",
   "pygments_lexer": "r",
   "version": "3.6.1"
  }
 },
 "nbformat": 4,
 "nbformat_minor": 2
}
