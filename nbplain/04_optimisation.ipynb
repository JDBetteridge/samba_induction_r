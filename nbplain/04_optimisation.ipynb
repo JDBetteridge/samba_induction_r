{
 "cells": [
  {
   "cell_type": "markdown",
   "metadata": {},
   "source": [
    "# Answers"
   ]
  },
  {
   "cell_type": "markdown",
   "metadata": {},
   "source": [
    "## 1  \n",
    "Consider the `ToothGrowth` data. \n",
    "1. Compute using `apply`, `lapply` etc the average growth (variable `len`) for the two different supplements (variable `supp`).\n",
    "2. Compute using `apply`, `lapply` etc the average growth (variable `len`) for each combination of supplement (variable `supp`) and dose (variable `dose`)."
   ]
  },
  {
   "cell_type": "code",
   "execution_count": 1,
   "metadata": {},
   "outputs": [],
   "source": [
    "attach(ToothGrowth)\n",
    "avg_s <- sapply(c(\"OJ\", \"VC\"), function(s) {mean(len[supp == s])})"
   ]
  },
  {
   "cell_type": "code",
   "execution_count": 2,
   "metadata": {},
   "outputs": [
    {
     "name": "stderr",
     "output_type": "stream",
     "text": [
      "The following objects are masked from ToothGrowth (pos = 3):\n",
      "\n",
      "    dose, len, supp\n",
      "\n"
     ]
    }
   ],
   "source": [
    "attach(ToothGrowth)\n",
    "avg_sd <- sapply(c(0.5, 1.0, 2.0), function(d) {sapply(c(\"OJ\", \"VC\"), function(s) {mean(len[supp == s & dose == d])})})\n",
    "# OR\n",
    "avg_sd <- mapply(function(s, d) {mean(len[supp == s & dose == d])}, \n",
    "                 rep(c(\"OJ\", \"VC\"), 3), rep(c(0.5, 1.0, 2.0), each = 2))"
   ]
  },
  {
   "cell_type": "markdown",
   "metadata": {},
   "source": [
    "## 2 \n",
    "Consider the `topo` data provided by the package `MASS` containing the altitude `z` at 52 coordinates `x` and `y`.\n",
    "1. Use `for` loops efficiently to compute the matrix of pairwise distances between the locations given by the `x`, `y` coordinates. Compute only the lower triangular part of the matrix.\n",
    "2. The spherical correlation structure is given by the function $$r(d; \\theta) = \\begin{cases} 1 - 1.5 \\dfrac{d}{\\theta} + 0.5 \\biggl( \\dfrac{d}{\\theta} \\biggr)^3 & \\text{if $d < \\theta$,} \\\\\n",
    " 0 & \\text{otherwise.} \\end{cases}$$\n",
    "where $d$ is the distance between two coordinates and $\\theta$ is a parameter that controls the strength of the correlation. Write efficient parallel code to compute the correlation matrix for the sampling coordinates of the `topo` data set at $\\theta = 3$."
   ]
  },
  {
   "cell_type": "code",
   "execution_count": 4,
   "metadata": {},
   "outputs": [
    {
     "name": "stderr",
     "output_type": "stream",
     "text": [
      "The following objects are masked from topo (pos = 3):\n",
      "\n",
      "    x, y, z\n",
      "\n"
     ]
    }
   ],
   "source": [
    "library(MASS)\n",
    "attach(topo)\n",
    "n <- nrow(topo)\n",
    "\n",
    "distmat <- matrix(0, n, n) # Initialise memory for the matrix of distances\n",
    "for (j in 1:(n-1)) { # Loop across columns\n",
    "  for (i in (j+1):n) { # Loop across the lower triangular part\n",
    "    distmat[i, j] <- sqrt((x[i] - x[j])^2 + (y[i] - y[j])^2)\n",
    "  }\n",
    "}\n",
    "\n",
    "corrmat <- matrix(0, n, n) # Initialise memory for the correlation matrix\n",
    "theta <- 3\n",
    "rowindx <- matrix(1:n, n, n)\n",
    "lowtri <- rowindx > t(rowindx) # Identify the lower triangular part of the matrix\n",
    "idisttheta <- distmat < theta # Identify elements < theta\n",
    "disttheta <- distmat[idisttheta & lowtri]/theta\n",
    "corrmat[idisttheta & lowtri] <- 1 - 1.5*disttheta + .5*disttheta^3"
   ]
  }
 ],
 "metadata": {
  "kernelspec": {
   "display_name": "R",
   "language": "R",
   "name": "ir"
  },
  "language_info": {
   "codemirror_mode": "r",
   "file_extension": ".r",
   "mimetype": "text/x-r-source",
   "name": "R",
   "pygments_lexer": "r",
   "version": "3.5.1"
  }
 },
 "nbformat": 4,
 "nbformat_minor": 2
}
