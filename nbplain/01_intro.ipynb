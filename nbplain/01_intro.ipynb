{
 "cells": [
  {
   "cell_type": "markdown",
   "metadata": {},
   "source": [
    "# Introduction\n",
    "\n",
    "Please work through the commands and check out functions used using `help()`. There is also a plain R script `Intro1.R` with most of the R commands, in case you want to execute the commands from the script."
   ]
  },
  {
   "cell_type": "markdown",
   "metadata": {},
   "source": [
    "## Information: Help\n",
    "Try out the following:\n",
    "- `?help`\n",
    "- `?variance`\n",
    "- `??variance`\n",
    "- `help.search(\"variance\")`\n",
    "- `help(var)`\n",
    "- `?&&`\n",
    "- `?\"&&\"`\n",
    "- `help.start()`"
   ]
  },
  {
   "cell_type": "markdown",
   "metadata": {},
   "source": [
    "## A brief demo\n",
    "Try out the following commands."
   ]
  },
  {
   "cell_type": "code",
   "execution_count": 1,
   "metadata": {
    "scrolled": true
   },
   "outputs": [
    {
     "data": {
      "text/html": [
       "5"
      ],
      "text/latex": [
       "5"
      ],
      "text/markdown": [
       "5"
      ],
      "text/plain": [
       "[1] 5"
      ]
     },
     "metadata": {},
     "output_type": "display_data"
    },
    {
     "data": {
      "text/html": [
       "0.000133830225764885"
      ],
      "text/latex": [
       "0.000133830225764885"
      ],
      "text/markdown": [
       "0.000133830225764885"
      ],
      "text/plain": [
       "[1] 0.0001338302"
      ]
     },
     "metadata": {},
     "output_type": "display_data"
    },
    {
     "data": {
      "text/html": [
       "0.000133830225764885"
      ],
      "text/latex": [
       "0.000133830225764885"
      ],
      "text/markdown": [
       "0.000133830225764885"
      ],
      "text/plain": [
       "[1] 0.0001338302"
      ]
     },
     "metadata": {},
     "output_type": "display_data"
    }
   ],
   "source": [
    "2 + 3\n",
    "\n",
    "x = 2 + 3\n",
    "\n",
    "exp(-4 * 4 / 2) / sqrt(2 * pi)\n",
    "\n",
    "dnorm(4, 0, 1) ## or dnorm(0, 4, 1)"
   ]
  },
  {
   "cell_type": "markdown",
   "metadata": {},
   "source": [
    "Note that \"=\" and \"<-\" are equivalent in R. For consistency with other languages this tutorial will use \"=\", however you can use \"<-\" if you prefer. You can also use \"->\" for assignment in the opposite direction but this is not frequently used."
   ]
  },
  {
   "cell_type": "code",
   "execution_count": 2,
   "metadata": {},
   "outputs": [
    {
     "data": {
      "text/html": [
       "5"
      ],
      "text/latex": [
       "5"
      ],
      "text/markdown": [
       "5"
      ],
      "text/plain": [
       "[1] 5"
      ]
     },
     "metadata": {},
     "output_type": "display_data"
    },
    {
     "data": {
      "text/html": [
       "5"
      ],
      "text/latex": [
       "5"
      ],
      "text/markdown": [
       "5"
      ],
      "text/plain": [
       "[1] 5"
      ]
     },
     "metadata": {},
     "output_type": "display_data"
    },
    {
     "data": {
      "text/html": [
       "5"
      ],
      "text/latex": [
       "5"
      ],
      "text/markdown": [
       "5"
      ],
      "text/plain": [
       "[1] 5"
      ]
     },
     "metadata": {},
     "output_type": "display_data"
    }
   ],
   "source": [
    "x =  2 + 3\n",
    "y <- 2 + 3\n",
    "2 + 3 -> z\n",
    "x\n",
    "y\n",
    "z"
   ]
  },
  {
   "cell_type": "markdown",
   "metadata": {},
   "source": [
    "## Data entry from keyboard"
   ]
  },
  {
   "cell_type": "code",
   "execution_count": 3,
   "metadata": {},
   "outputs": [
    {
     "data": {
      "text/html": [
       "<ol class=list-inline>\n",
       "\t<li>30</li>\n",
       "\t<li>40</li>\n",
       "\t<li>55</li>\n",
       "\t<li>46</li>\n",
       "\t<li>57</li>\n",
       "</ol>\n"
      ],
      "text/latex": [
       "\\begin{enumerate*}\n",
       "\\item 30\n",
       "\\item 40\n",
       "\\item 55\n",
       "\\item 46\n",
       "\\item 57\n",
       "\\end{enumerate*}\n"
      ],
      "text/markdown": [
       "1. 30\n",
       "2. 40\n",
       "3. 55\n",
       "4. 46\n",
       "5. 57\n",
       "\n",
       "\n"
      ],
      "text/plain": [
       "[1] 30 40 55 46 57"
      ]
     },
     "metadata": {},
     "output_type": "display_data"
    }
   ],
   "source": [
    "ages <- c(30, 40, 55, 46, 57)\n",
    "ages"
   ]
  },
  {
   "cell_type": "markdown",
   "metadata": {},
   "source": [
    "## Input data from spreadsheet\n",
    "Download the file [chickwt.csv](../data/chickwt.csv) and put it in the folder where you are running R."
   ]
  },
  {
   "cell_type": "code",
   "execution_count": 4,
   "metadata": {},
   "outputs": [
    {
     "data": {
      "text/plain": [
       "     weight             feed   \n",
       " Min.   :108.0   casein   :12  \n",
       " 1st Qu.:204.5   horsebean:10  \n",
       " Median :258.0   linseed  :12  \n",
       " Mean   :261.3   meatmeal :11  \n",
       " 3rd Qu.:323.5   soybean  :14  \n",
       " Max.   :423.0   sunflower:12  "
      ]
     },
     "metadata": {},
     "output_type": "display_data"
    },
    {
     "name": "stdout",
     "output_type": "stream",
     "text": [
      "'data.frame':\t71 obs. of  2 variables:\n",
      " $ weight: int  179 160 136 227 217 168 108 124 143 140 ...\n",
      " $ feed  : Factor w/ 6 levels \"casein\",\"horsebean\",..: 2 2 2 2 2 2 2 2 2 2 ...\n"
     ]
    }
   ],
   "source": [
    "mydata <- read.csv(\"chickwt.csv\")\n",
    "summary(mydata)\n",
    "str(mydata)\n",
    "write.table(mydata, file=\"mydata.txt\", sep=\";\") # write out as ASCI with ; as delimitor."
   ]
  },
  {
   "cell_type": "code",
   "execution_count": 5,
   "metadata": {},
   "outputs": [
    {
     "data": {
      "text/html": [
       "<ol class=list-inline>\n",
       "\t<li>179</li>\n",
       "\t<li>160</li>\n",
       "\t<li>136</li>\n",
       "\t<li>227</li>\n",
       "\t<li>217</li>\n",
       "\t<li>168</li>\n",
       "\t<li>108</li>\n",
       "\t<li>124</li>\n",
       "\t<li>143</li>\n",
       "\t<li>140</li>\n",
       "\t<li>309</li>\n",
       "\t<li>229</li>\n",
       "\t<li>181</li>\n",
       "\t<li>141</li>\n",
       "\t<li>260</li>\n",
       "\t<li>203</li>\n",
       "\t<li>148</li>\n",
       "\t<li>169</li>\n",
       "\t<li>213</li>\n",
       "\t<li>257</li>\n",
       "\t<li>244</li>\n",
       "\t<li>271</li>\n",
       "\t<li>243</li>\n",
       "\t<li>230</li>\n",
       "\t<li>248</li>\n",
       "\t<li>327</li>\n",
       "\t<li>329</li>\n",
       "\t<li>250</li>\n",
       "\t<li>193</li>\n",
       "\t<li>271</li>\n",
       "\t<li>316</li>\n",
       "\t<li>267</li>\n",
       "\t<li>199</li>\n",
       "\t<li>171</li>\n",
       "\t<li>158</li>\n",
       "\t<li>248</li>\n",
       "\t<li>423</li>\n",
       "\t<li>340</li>\n",
       "\t<li>392</li>\n",
       "\t<li>339</li>\n",
       "\t<li>341</li>\n",
       "\t<li>226</li>\n",
       "\t<li>320</li>\n",
       "\t<li>295</li>\n",
       "\t<li>334</li>\n",
       "\t<li>322</li>\n",
       "\t<li>297</li>\n",
       "\t<li>318</li>\n",
       "\t<li>325</li>\n",
       "\t<li>257</li>\n",
       "\t<li>303</li>\n",
       "\t<li>315</li>\n",
       "\t<li>380</li>\n",
       "\t<li>153</li>\n",
       "\t<li>263</li>\n",
       "\t<li>242</li>\n",
       "\t<li>206</li>\n",
       "\t<li>344</li>\n",
       "\t<li>258</li>\n",
       "\t<li>368</li>\n",
       "\t<li>390</li>\n",
       "\t<li>379</li>\n",
       "\t<li>260</li>\n",
       "\t<li>404</li>\n",
       "\t<li>318</li>\n",
       "\t<li>352</li>\n",
       "\t<li>359</li>\n",
       "\t<li>216</li>\n",
       "\t<li>222</li>\n",
       "\t<li>283</li>\n",
       "\t<li>332</li>\n",
       "</ol>\n"
      ],
      "text/latex": [
       "\\begin{enumerate*}\n",
       "\\item 179\n",
       "\\item 160\n",
       "\\item 136\n",
       "\\item 227\n",
       "\\item 217\n",
       "\\item 168\n",
       "\\item 108\n",
       "\\item 124\n",
       "\\item 143\n",
       "\\item 140\n",
       "\\item 309\n",
       "\\item 229\n",
       "\\item 181\n",
       "\\item 141\n",
       "\\item 260\n",
       "\\item 203\n",
       "\\item 148\n",
       "\\item 169\n",
       "\\item 213\n",
       "\\item 257\n",
       "\\item 244\n",
       "\\item 271\n",
       "\\item 243\n",
       "\\item 230\n",
       "\\item 248\n",
       "\\item 327\n",
       "\\item 329\n",
       "\\item 250\n",
       "\\item 193\n",
       "\\item 271\n",
       "\\item 316\n",
       "\\item 267\n",
       "\\item 199\n",
       "\\item 171\n",
       "\\item 158\n",
       "\\item 248\n",
       "\\item 423\n",
       "\\item 340\n",
       "\\item 392\n",
       "\\item 339\n",
       "\\item 341\n",
       "\\item 226\n",
       "\\item 320\n",
       "\\item 295\n",
       "\\item 334\n",
       "\\item 322\n",
       "\\item 297\n",
       "\\item 318\n",
       "\\item 325\n",
       "\\item 257\n",
       "\\item 303\n",
       "\\item 315\n",
       "\\item 380\n",
       "\\item 153\n",
       "\\item 263\n",
       "\\item 242\n",
       "\\item 206\n",
       "\\item 344\n",
       "\\item 258\n",
       "\\item 368\n",
       "\\item 390\n",
       "\\item 379\n",
       "\\item 260\n",
       "\\item 404\n",
       "\\item 318\n",
       "\\item 352\n",
       "\\item 359\n",
       "\\item 216\n",
       "\\item 222\n",
       "\\item 283\n",
       "\\item 332\n",
       "\\end{enumerate*}\n"
      ],
      "text/markdown": [
       "1. 179\n",
       "2. 160\n",
       "3. 136\n",
       "4. 227\n",
       "5. 217\n",
       "6. 168\n",
       "7. 108\n",
       "8. 124\n",
       "9. 143\n",
       "10. 140\n",
       "11. 309\n",
       "12. 229\n",
       "13. 181\n",
       "14. 141\n",
       "15. 260\n",
       "16. 203\n",
       "17. 148\n",
       "18. 169\n",
       "19. 213\n",
       "20. 257\n",
       "21. 244\n",
       "22. 271\n",
       "23. 243\n",
       "24. 230\n",
       "25. 248\n",
       "26. 327\n",
       "27. 329\n",
       "28. 250\n",
       "29. 193\n",
       "30. 271\n",
       "31. 316\n",
       "32. 267\n",
       "33. 199\n",
       "34. 171\n",
       "35. 158\n",
       "36. 248\n",
       "37. 423\n",
       "38. 340\n",
       "39. 392\n",
       "40. 339\n",
       "41. 341\n",
       "42. 226\n",
       "43. 320\n",
       "44. 295\n",
       "45. 334\n",
       "46. 322\n",
       "47. 297\n",
       "48. 318\n",
       "49. 325\n",
       "50. 257\n",
       "51. 303\n",
       "52. 315\n",
       "53. 380\n",
       "54. 153\n",
       "55. 263\n",
       "56. 242\n",
       "57. 206\n",
       "58. 344\n",
       "59. 258\n",
       "60. 368\n",
       "61. 390\n",
       "62. 379\n",
       "63. 260\n",
       "64. 404\n",
       "65. 318\n",
       "66. 352\n",
       "67. 359\n",
       "68. 216\n",
       "69. 222\n",
       "70. 283\n",
       "71. 332\n",
       "\n",
       "\n"
      ],
      "text/plain": [
       " [1] 179 160 136 227 217 168 108 124 143 140 309 229 181 141 260 203 148 169 213\n",
       "[20] 257 244 271 243 230 248 327 329 250 193 271 316 267 199 171 158 248 423 340\n",
       "[39] 392 339 341 226 320 295 334 322 297 318 325 257 303 315 380 153 263 242 206\n",
       "[58] 344 258 368 390 379 260 404 318 352 359 216 222 283 332"
      ]
     },
     "metadata": {},
     "output_type": "display_data"
    }
   ],
   "source": [
    "mydata$weight"
   ]
  },
  {
   "cell_type": "markdown",
   "metadata": {},
   "source": [
    "## Statistical summaries"
   ]
  },
  {
   "cell_type": "code",
   "execution_count": 6,
   "metadata": {},
   "outputs": [
    {
     "data": {
      "text/html": [
       "261.30985915493"
      ],
      "text/latex": [
       "261.30985915493"
      ],
      "text/markdown": [
       "261.30985915493"
      ],
      "text/plain": [
       "[1] 261.3099"
      ]
     },
     "metadata": {},
     "output_type": "display_data"
    },
    {
     "data": {
      "text/html": [
       "6095.50261569416"
      ],
      "text/latex": [
       "6095.50261569416"
      ],
      "text/markdown": [
       "6095.50261569416"
      ],
      "text/plain": [
       "[1] 6095.503"
      ]
     },
     "metadata": {},
     "output_type": "display_data"
    }
   ],
   "source": [
    "mean(mydata$weight)\n",
    "\n",
    "var(mydata$weight)"
   ]
  },
  {
   "cell_type": "markdown",
   "metadata": {},
   "source": [
    "## Fit a linear model"
   ]
  },
  {
   "cell_type": "code",
   "execution_count": 7,
   "metadata": {},
   "outputs": [
    {
     "data": {
      "text/plain": [
       "\n",
       "Call:\n",
       "lm(formula = weight ~ feed, data = mydata)\n",
       "\n",
       "Coefficients:\n",
       "  (Intercept)  feedhorsebean    feedlinseed   feedmeatmeal    feedsoybean  \n",
       "      323.583       -163.383       -104.833        -46.674        -77.155  \n",
       "feedsunflower  \n",
       "        5.333  \n"
      ]
     },
     "metadata": {},
     "output_type": "display_data"
    }
   ],
   "source": [
    "(mylm <- lm(weight ~ feed, mydata)) "
   ]
  },
  {
   "cell_type": "markdown",
   "metadata": {},
   "source": [
    "## Graphical"
   ]
  },
  {
   "cell_type": "code",
   "execution_count": 8,
   "metadata": {},
   "outputs": [
    {
     "data": {
      "image/png": "[encoded data removed]",
      "text/plain": [
       "Plot with title \"density.default(x = mydata$weight)\""
      ]
     },
     "metadata": {},
     "output_type": "display_data"
    },
    {
     "data": {
      "image/png": "[encoded data removed]",
      "text/plain": [
       "Plot with title \"\""
      ]
     },
     "metadata": {},
     "output_type": "display_data"
    },
    {
     "data": {
      "image/png": "[encoded data removed]",
      "text/plain": [
       "Plot with title \"GuineaPigs' Tooth Growth\""
      ]
     },
     "metadata": {},
     "output_type": "display_data"
    }
   ],
   "source": [
    "plot(density(mydata$weight)) # plot a kernel density estimate of the weight distribution\n",
    "par(mfrow=c(2,2)) # make next 4 plots appear in 2x2 subplot layout\n",
    "plot(mylm) # produce 4 plots showing diagnostic information from the linear model\n",
    "par(mfrow=c(1,1)) # reset to regular full sized plot layout\n",
    "\n",
    "#boxplots for tooth growth againts absorbic acid and orange juice using 'ToothGrowth' dataset\n",
    "boxplot(len ~ dose, data = ToothGrowth,\n",
    "        boxwex = 0.25, at = 1:3 - 0.2,\n",
    "        subset = supp == \"VC\", col = \"yellow\",\n",
    "        main = \"GuineaPigs' Tooth Growth\",\n",
    "        xlab = \"Vitamin C dose mg\",\n",
    "        ylab = \"tooth length\",\n",
    "        xlim = c(0.5, 3.5), ylim = c(0, 35), yaxs = \"i\")\n",
    "boxplot(len ~ dose, data = ToothGrowth, add = TRUE,\n",
    "        boxwex = 0.25, at = 1:3 + 0.2,\n",
    "        subset = supp == \"OJ\", col = \"orange\")\n",
    "legend(2, 9, c(\"Ascorbic acid\", \"Orange juice\"),\n",
    "       fill = c(\"yellow\", \"orange\"))"
   ]
  },
  {
   "cell_type": "markdown",
   "metadata": {},
   "source": [
    "## Matrices"
   ]
  },
  {
   "cell_type": "code",
   "execution_count": 9,
   "metadata": {},
   "outputs": [
    {
     "data": {
      "text/html": [
       "<dl class=dl-horizontal>\n",
       "\t<dt>weight</dt>\n",
       "\t\t<dd>261.30985915493</dd>\n",
       "\t<dt>feed</dt>\n",
       "\t\t<dd>3.57746478873239</dd>\n",
       "</dl>\n"
      ],
      "text/latex": [
       "\\begin{description*}\n",
       "\\item[weight] 261.30985915493\n",
       "\\item[feed] 3.57746478873239\n",
       "\\end{description*}\n"
      ],
      "text/markdown": [
       "weight\n",
       ":   261.30985915493feed\n",
       ":   3.57746478873239\n",
       "\n"
      ],
      "text/plain": [
       "    weight       feed \n",
       "261.309859   3.577465 "
      ]
     },
     "metadata": {},
     "output_type": "display_data"
    },
    {
     "data": {
      "text/html": [
       "<dl class=dl-horizontal>\n",
       "\t<dt>weight</dt>\n",
       "\t\t<dd>&lt;NA&gt;</dd>\n",
       "\t<dt>feed</dt>\n",
       "\t\t<dd>3.57746478873239</dd>\n",
       "</dl>\n"
      ],
      "text/latex": [
       "\\begin{description*}\n",
       "\\item[weight] <NA>\n",
       "\\item[feed] 3.57746478873239\n",
       "\\end{description*}\n"
      ],
      "text/markdown": [
       "weight\n",
       ":   &lt;NA&gt;feed\n",
       ":   3.57746478873239\n",
       "\n"
      ],
      "text/plain": [
       "  weight     feed \n",
       "      NA 3.577465 "
      ]
     },
     "metadata": {},
     "output_type": "display_data"
    },
    {
     "data": {
      "text/html": [
       "<dl class=dl-horizontal>\n",
       "\t<dt>weight</dt>\n",
       "\t\t<dd>261</dd>\n",
       "\t<dt>feed</dt>\n",
       "\t\t<dd>3.57746478873239</dd>\n",
       "</dl>\n"
      ],
      "text/latex": [
       "\\begin{description*}\n",
       "\\item[weight] 261\n",
       "\\item[feed] 3.57746478873239\n",
       "\\end{description*}\n"
      ],
      "text/markdown": [
       "weight\n",
       ":   261feed\n",
       ":   3.57746478873239\n",
       "\n"
      ],
      "text/plain": [
       "    weight       feed \n",
       "261.000000   3.577465 "
      ]
     },
     "metadata": {},
     "output_type": "display_data"
    }
   ],
   "source": [
    "mymat <- data.matrix(mydata) #save data in matrix format\n",
    "\n",
    "colMeans(mymat) #print mean of matrix columns\n",
    "mymat[70, 1] <- NA  #insert an NA value into column 1\n",
    "\n",
    "colMeans(mymat) #column means now give an error because of NA\n",
    "colMeans(mymat, na.rm=TRUE) #use na.rm flag to ignore entries that are NA"
   ]
  },
  {
   "cell_type": "markdown",
   "metadata": {},
   "source": [
    "## Specific Saving and Restoring"
   ]
  },
  {
   "cell_type": "code",
   "execution_count": 10,
   "metadata": {},
   "outputs": [],
   "source": [
    "save(mymat, file = \"mymat.RData\")\n",
    "\n",
    "load(\"mymat.RData\")"
   ]
  },
  {
   "cell_type": "markdown",
   "metadata": {},
   "source": [
    "## Install, load and explore the package `faraway`:"
   ]
  },
  {
   "cell_type": "code",
   "execution_count": 11,
   "metadata": {},
   "outputs": [
    {
     "name": "stderr",
     "output_type": "stream",
     "text": [
      "also installing the dependencies 'minqa', 'nloptr', 'statmod', 'RcppEigen', 'lme4'\n",
      "\n"
     ]
    },
    {
     "name": "stdout",
     "output_type": "stream",
     "text": [
      "package 'minqa' successfully unpacked and MD5 sums checked\n",
      "package 'nloptr' successfully unpacked and MD5 sums checked\n",
      "package 'statmod' successfully unpacked and MD5 sums checked\n",
      "package 'RcppEigen' successfully unpacked and MD5 sums checked\n",
      "package 'lme4' successfully unpacked and MD5 sums checked\n",
      "package 'faraway' successfully unpacked and MD5 sums checked\n",
      "\n",
      "The downloaded binary packages are in\n",
      "\tC:\\Users\\td314\\AppData\\Local\\Temp\\Rtmpq6pVfD\\downloaded_packages\n"
     ]
    }
   ],
   "source": [
    "install.packages(\"faraway\")"
   ]
  },
  {
   "cell_type": "code",
   "execution_count": 12,
   "metadata": {},
   "outputs": [
    {
     "name": "stderr",
     "output_type": "stream",
     "text": [
      "Warning message:\n",
      "\"package 'faraway' was built under R version 3.6.3\""
     ]
    }
   ],
   "source": [
    "library(faraway) # attaches the package to the search path\n",
    "library(help=faraway) # gives you a list of all available objects and functions in the package"
   ]
  }
 ],
 "metadata": {
  "kernelspec": {
   "display_name": "R",
   "language": "R",
   "name": "ir"
  },
  "language_info": {
   "codemirror_mode": "r",
   "file_extension": ".r",
   "mimetype": "text/x-r-source",
   "name": "R",
   "pygments_lexer": "r",
   "version": "3.6.1"
  }
 },
 "nbformat": 4,
 "nbformat_minor": 2
}
