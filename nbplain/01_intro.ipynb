{
 "cells": [
  {
   "cell_type": "markdown",
   "metadata": {},
   "source": [
    "# Introduction\n",
    "\n",
    "Please work through the commands and check out functions used using `help()`. There is also a plain R script `Intro1.R` with most of the R commands, in case you want to execute the commands from the script."
   ]
  },
  {
   "cell_type": "markdown",
   "metadata": {},
   "source": [
    "## Information: Help\n",
    "Try out the following:\n",
    "- `?help`\n",
    "- `?variance`\n",
    "- `??variance`\n",
    "- `help.search(\"variance\")`\n",
    "- `help(var)`\n",
    "- `?&&`\n",
    "- `?\"&&\"`\n",
    "- `help.start()`"
   ]
  },
  {
   "cell_type": "markdown",
   "metadata": {},
   "source": [
    "## A brief demo\n",
    "Try out the following commands."
   ]
  },
  {
   "cell_type": "code",
   "execution_count": null,
   "metadata": {},
   "outputs": [],
   "source": [
    "2 + 3\n",
    "\n",
    "x <- 2 + 3\n",
    "\n",
    "exp(-4 * 4 / 2) / sqrt(2 * pi)\n",
    "\n",
    "dnorm(4, 0, 1) ## or dnorm(0, 4, 1)"
   ]
  },
  {
   "cell_type": "markdown",
   "metadata": {},
   "source": [
    "## Data entry from keyboard"
   ]
  },
  {
   "cell_type": "code",
   "execution_count": null,
   "metadata": {},
   "outputs": [],
   "source": [
    "ages <- c(30, 40, 55, 46, 57)\n",
    "ages"
   ]
  },
  {
   "cell_type": "markdown",
   "metadata": {},
   "source": [
    "## Input data from spreadsheet\n",
    "Download the file [chickwt.csv](../data/chickwt.csv) and put it in the folder where you are running R."
   ]
  },
  {
   "cell_type": "code",
   "execution_count": null,
   "metadata": {},
   "outputs": [],
   "source": [
    "mydata <- read.csv(\"chickwt.csv\")\n",
    "summary(mydata)\n",
    "str(mydata)\n",
    "write.table(mydata, file=\"mydata.txt\", sep=\";\") # write out as ASCI with ; as delimitor."
   ]
  },
  {
   "cell_type": "markdown",
   "metadata": {},
   "source": [
    "## Statistical summaries"
   ]
  },
  {
   "cell_type": "code",
   "execution_count": null,
   "metadata": {},
   "outputs": [],
   "source": [
    "mean(mydata$weight)\n",
    "\n",
    "var(mydata$weight)"
   ]
  },
  {
   "cell_type": "markdown",
   "metadata": {},
   "source": [
    "## Modelling"
   ]
  },
  {
   "cell_type": "code",
   "execution_count": null,
   "metadata": {},
   "outputs": [],
   "source": [
    "(mylm <- lm(weight ~ feed, mydata)) # linear model"
   ]
  },
  {
   "cell_type": "markdown",
   "metadata": {},
   "source": [
    "## Graphical"
   ]
  },
  {
   "cell_type": "code",
   "execution_count": null,
   "metadata": {},
   "outputs": [],
   "source": [
    "plot(density(mydata$weight))\n",
    "par(mfrow=c(2,2))\n",
    "plot(mylm)\n",
    "\n",
    "boxplot(len ~ dose, data = ToothGrowth,\n",
    "        boxwex = 0.25, at = 1:3 - 0.2,\n",
    "        subset = supp == \"VC\", col = \"yellow\",\n",
    "        main = \"GuineaPigs' Tooth Growth\",\n",
    "        xlab = \"Vitamin C dose mg\",\n",
    "        ylab = \"tooth length\",\n",
    "        xlim = c(0.5, 3.5), ylim = c(0, 35), yaxs = \"i\")\n",
    "boxplot(len ~ dose, data = ToothGrowth, add = TRUE,\n",
    "        boxwex = 0.25, at = 1:3 + 0.2,\n",
    "        subset = supp == \"OJ\", col = \"orange\")\n",
    "legend(2, 9, c(\"Ascorbic acid\", \"Orange juice\"),\n",
    "       fill = c(\"yellow\", \"orange\"))"
   ]
  },
  {
   "cell_type": "markdown",
   "metadata": {},
   "source": [
    "## Matrices"
   ]
  },
  {
   "cell_type": "code",
   "execution_count": null,
   "metadata": {},
   "outputs": [],
   "source": [
    "mymat <- data.matrix(mydata)\n",
    "\n",
    "colMeans(mymat)\n",
    "mymat[70, 1] <- NA\n",
    "\n",
    "colMeans(mymat)\n",
    "colMeans(mymat, na.rm=TRUE)"
   ]
  },
  {
   "cell_type": "markdown",
   "metadata": {},
   "source": [
    "## Specific Saving and Restoring"
   ]
  },
  {
   "cell_type": "code",
   "execution_count": null,
   "metadata": {},
   "outputs": [],
   "source": [
    "save(mymat, file = \"mymat.RData\") ## check out where mymat.RData is stored\n",
    "\n",
    "load(\"mymat.RData\")"
   ]
  },
  {
   "cell_type": "markdown",
   "metadata": {},
   "source": [
    "## Install, load and explore the package `faraway`:"
   ]
  },
  {
   "cell_type": "code",
   "execution_count": null,
   "metadata": {},
   "outputs": [],
   "source": [
    "install.packages(\"faraway\", lib=\"/u/r/nha20/maths-files-nha20/Rlocal\") # lib gives local directory for packages, replace with you local directory\n",
    "install.packages(\"faraway\", dependencies=T,lib=\"/u/r/nha20/maths-files-nha20/Rlocal\")"
   ]
  },
  {
   "cell_type": "markdown",
   "metadata": {},
   "source": [
    "## What is the difference between the two commands above?\n",
    "(You will need to change the path in the first line)"
   ]
  },
  {
   "cell_type": "code",
   "execution_count": null,
   "metadata": {},
   "outputs": [],
   "source": [
    ".libPaths(\"/u/r/nha20/maths-files-nha20/Rlocal/\") # attaching the local package directory to search path\n",
    "search()\n",
    "library(faraway) # attaches the package to the search path\n",
    "search()\n",
    "searchpaths()\n",
    "library(help=faraway) # gives you a list of all available objects and functions in the package"
   ]
  },
  {
   "cell_type": "markdown",
   "metadata": {},
   "source": [
    "## If a package is not on CRAN it can be installed like this: "
   ]
  },
  {
   "cell_type": "code",
   "execution_count": null,
   "metadata": {},
   "outputs": [],
   "source": [
    "install.packages(\"INLA\", repos=\"http://www.math.ntnu.no/inla/R/training\")"
   ]
  }
 ],
 "metadata": {
  "kernelspec": {
   "display_name": "R",
   "language": "R",
   "name": "ir"
  },
  "language_info": {
   "codemirror_mode": "r",
   "file_extension": ".r",
   "mimetype": "text/x-r-source",
   "name": "R",
   "pygments_lexer": "r",
   "version": "3.6.1"
  }
 },
 "nbformat": 4,
 "nbformat_minor": 2
}
