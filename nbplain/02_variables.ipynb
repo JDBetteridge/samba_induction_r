{
 "cells": [
  {
   "cell_type": "markdown",
   "metadata": {},
   "source": [
    "# Variables, data frames, indexing, functions etc"
   ]
  },
  {
   "cell_type": "code",
   "execution_count": null,
   "metadata": {},
   "outputs": [],
   "source": [
    "#setwd(\"/maths/research/nha20/Teach/RIntroCourse\") Set working directory & ensure any files used are in this directory."
   ]
  },
  {
   "cell_type": "markdown",
   "metadata": {},
   "source": [
    "## Computer representation of numbers\n",
    "\n",
    "Real numbers are not stored exactly on computers. Use binary version of ``scientific'' notation e.g. $1.234 \\times 10^2$. This needs care e.g."
   ]
  },
  {
   "cell_type": "code",
   "execution_count": 1,
   "metadata": {},
   "outputs": [
    {
     "data": {
      "text/html": [
       "<ol class=list-inline>\n",
       "\t<li>0</li>\n",
       "\t<li>0.1</li>\n",
       "\t<li>0.2</li>\n",
       "\t<li>0.3</li>\n",
       "\t<li>0.4</li>\n",
       "\t<li>0.5</li>\n",
       "</ol>\n"
      ],
      "text/latex": [
       "\\begin{enumerate*}\n",
       "\\item 0\n",
       "\\item 0.1\n",
       "\\item 0.2\n",
       "\\item 0.3\n",
       "\\item 0.4\n",
       "\\item 0.5\n",
       "\\end{enumerate*}\n"
      ],
      "text/markdown": [
       "1. 0\n",
       "2. 0.1\n",
       "3. 0.2\n",
       "4. 0.3\n",
       "5. 0.4\n",
       "6. 0.5\n",
       "\n",
       "\n"
      ],
      "text/plain": [
       "[1] 0.0 0.1 0.2 0.3 0.4 0.5"
      ]
     },
     "metadata": {},
     "output_type": "display_data"
    }
   ],
   "source": [
    "\n",
    "x <- seq(0, 0.5, 0.1) ##generate a sequence from 0 to 0.5 in steps of 0.1\n",
    "x ##Look at x\n"
   ]
  },
  {
   "cell_type": "markdown",
   "metadata": {},
   "source": [
    "Is x equal to (0, 0.1, 0.2, 0.3, 0.4, 0.5)? To find out, type"
   ]
  },
  {
   "cell_type": "markdown",
   "metadata": {},
   "source": [
    "x == c(0, 0.1, 0.2, 0.3, 0.4, 0.5)\n"
   ]
  },
  {
   "cell_type": "markdown",
   "metadata": {},
   "source": [
    "This is known as _FAQ 7.31_: see [https://cran.r-project.org/doc/FAQ/R-FAQ.html]."
   ]
  },
  {
   "cell_type": "markdown",
   "metadata": {},
   "source": [
    "## Rounding problems\n",
    "\n",
    "Tiny inaccuracies can accumulate:\n",
    "  \n",
    "The sample variance of a vector ```x``` is often calculated as  \n",
    "  \n",
    "   $var (x) = (\\sum x^2-n\\bar{x}^2) / (n-1)$\n",
    "\n",
    "Try it out and compare it with ```var()```: "
   ]
  },
  {
   "cell_type": "markdown",
   "metadata": {},
   "source": [
    " \n",
    "myvar <- function(x) (sum(x^2) - length(x) * mean(x)^2) / (length(x) - 1)\n",
    "x <- seq(1:100)\n",
    "myvar(x)\n",
    "var(x)\n",
    "x <- seq(1:100) + 10000000000\n",
    "myvar(x)\n",
    "var(x)"
   ]
  },
  {
   "cell_type": "markdown",
   "metadata": {},
   "source": [
    "Can you see why there was a problem?"
   ]
  },
  {
   "cell_type": "markdown",
   "metadata": {},
   "source": [
    "## Variables\n",
    "\n",
    "Basic Types of Variables\n",
    "\n",
    "Variables are the equivalent of memories in your calculator. But you can have unlimited (almost!) quantities of them and they have names of your choosing. And different   types. The basic types are\n",
    "\n",
    " + integer\n",
    " + double\n",
    " + character\n",
    " + logical: these take one of the two values ```TRUE``` or ```FALSE```\n",
    "    (or ```NA```, see later)\n",
    " + factor or categorical\n",
    " "
   ]
  },
  {
   "cell_type": "markdown",
   "metadata": {},
   "source": [
    "## More Specialised Classes\n",
    "\n",
    "As well as the basic types of variables, R recognises many more complicated  objects such as \n",
    "\n",
    "* **vectors**, **matrices**, **arrays**: groups of objects all of the same type\n",
    " \n",
    "* **lists** of other objects which may be of different types\n",
    "\n",
    "*  Specialised objects such as **Dates**, **Linear Model fits**"
   ]
  },
  {
   "cell_type": "markdown",
   "metadata": {},
   "source": [
    "  \n",
    "## Special values of objects\n",
    "\n",
    "There are some types of data which need to be treated specially in calculations:\n",
    "\n",
    "* ```NA``` The value ```NA``` is given to any data which R\n",
    "    knows to be missing. This is not a character string, so a\n",
    "    character string with value ```\"NA\"``` will be treated differently\n",
    "    from one with the value ```NA```.\n",
    "\n",
    "*  ```Inf``` The result of e.g. dividing any non-zero number by zero\n",
    "\n",
    "*  ```NaN``` The result of e.g. attempting to find the logarithm of a\n",
    " negative number."
   ]
  },
  {
   "cell_type": "code",
   "execution_count": null,
   "metadata": {},
   "outputs": [],
   "source": [
    " \n",
    "as.numeric(c(\"a\", \"1\"))\n",
    "x / 0\n",
    "log(-x)"
   ]
  },
  {
   "cell_type": "markdown",
   "metadata": {},
   "source": [
    "   \n",
    "## Factors\n",
    "\n",
    "Factors are variables which can only take one of a finite set of discrete values. They naturally occur as vectors, and can be\n",
    "\n",
    "* **numeric** e.g. drug doses with values 1mg, 2mg, 5mg\n",
    "* or **character** e.g. voting intention with values Liberal Democrat, Conservative, Labour, Other\n",
    "  \n",
    "Although factors are stored as numbers, along with the label\n",
    "corresponding to each number, they cannot be treated as numeric. Would\n",
    "it make sense to ask R to calculate ```mean(voting intention)```?\n",
    "\n",
    "A more useful function for factors is ```table``` which will count\n",
    "how many of each value occur in the vector.\n",
    "\n",
    "\n",
    "## Ordered Factors\n",
    "\n",
    "Some factor variables have a natural ordering. Drug doses do, but\n",
    "voting intentions usually do not. R will treat the two types\n",
    "differently. It is important not to allow R to treat non-ordered\n",
    "factors as ordered ones, since the results could be meaningless.\n",
    "\n",
    "## Creating factors\n",
    "\n",
    "Use ```cut``` to create factor variables from continuous ones:"
   ]
  },
  {
   "cell_type": "markdown",
   "metadata": {},
   "source": [
    "age <- runif(100) * 50\n",
    "table(cut(age, c(0, 10, 20, 30, 40, 50)))"
   ]
  },
  {
   "cell_type": "markdown",
   "metadata": {},
   "source": [
    "The function `factor()` can be used to create factor variables from characters.\n",
    "\n",
    "## Data frames \n",
    "* For storing data which is a collection of observations (rows) of a set of variables (columns). E.g. book titles and prices.\n",
    "* Similar to a matrix but variables in different columns can have different types.\n",
    "* Always the same number of entries in each row, although some may be missing (```NA```).\n",
    "* Can be formed by reading in data e.g. from a spreadsheet, or constructed using the function ```data.frame```.\n",
    "\n",
    "You will need the following file [Example Chicken weights csv](../data/chickwt.csv)\n",
    "\n",
    "Download the file from the link to the folder where you are running R."
   ]
  },
  {
   "cell_type": "code",
   "execution_count": null,
   "metadata": {},
   "outputs": [],
   "source": [
    "head(mydata <- read.csv('chickwt.csv'))"
   ]
  },
  {
   "cell_type": "markdown",
   "metadata": {},
   "source": [
    "## Lists\n",
    "\n",
    "A data frame is a kind of list, which is a vector\n",
    "of objects of possibly different types. For example, an employee\n",
    "record might be created by"
   ]
  },
  {
   "cell_type": "code",
   "execution_count": null,
   "metadata": {},
   "outputs": [],
   "source": [
    "Empl <- list(employee = \"Anna\", spouse = \"Fred\", children = 3,\n",
    "             child.ages = c(4, 7, 9))\n",
    "Empl"
   ]
  },
  {
   "cell_type": "markdown",
   "metadata": {},
   "source": [
    "Try the following:"
   ]
  },
  {
   "cell_type": "code",
   "execution_count": null,
   "metadata": {},
   "outputs": [],
   "source": [
    "Empl[[1]]\n",
    "Empl$spouse\n",
    "\n",
    "Empl[[4]]\n",
    "length(Empl[[4]]) # numeric vector of length 3\n",
    "\n",
    "Empl[4]\n",
    "length(Empl[4]) # list of length 1\n",
    "Empl[[2:4]] # note that this will produce an error\n",
    "Empl[2:4]  # this works"
   ]
  },
  {
   "cell_type": "markdown",
   "metadata": {},
   "source": [
    "Components are always numbered and may be referred to by\n",
    "number. e.g. ```Empl[[1]]```. If they are named, can also be\n",
    "referred to by name using the \\$ operator eg. ```Empl$spouse```\n",
    "\n",
    "## Keeping track of objects\n",
    "\n",
    "Once you have created some objects, how do you remind yourself what you called them? "
   ]
  },
  {
   "cell_type": "code",
   "execution_count": null,
   "metadata": {},
   "outputs": [],
   "source": [
    "ls()\n",
    "str(Empl)"
   ]
  },
  {
   "cell_type": "markdown",
   "metadata": {},
   "source": [
    "```ls()``` lists the names of all the objects in you workspace and ```str()`` gives information about a specific object.\n",
    "\n",
    "## Operators\n",
    "\n",
    "Arithmetic Operators: ```+, - , /, *, ^```."
   ]
  },
  {
   "cell_type": "code",
   "execution_count": null,
   "metadata": {},
   "outputs": [],
   "source": [
    "3^2\n",
    "10 %% 3 # modulo reduction\n",
    "10 %/% 3 # integer division\n",
    "\n",
    "a <- matrix(1:4, nrow=2)\n",
    "b <- matrix(c(2, 1, 2, 4), nrow=2)\n",
    "a %*% b # matrix multiplication"
   ]
  },
  {
   "cell_type": "markdown",
   "metadata": {},
   "source": [
    "Operators can also be used on vectors, with recycling if necessary. "
   ]
  },
  {
   "cell_type": "markdown",
   "metadata": {},
   "source": [
    "```R\n",
    "x <- c(1, 2, 3, 4)\n",
    "y <- c(5, 6)\n",
    "x + 3\n",
    "#(4,5,6,7) and\n",
    "x + y\n",
    "#(6,8,8,10)\n",
    "```"
   ]
  },
  {
   "cell_type": "markdown",
   "metadata": {},
   "source": [
    "## Logical operators\n",
    "\n",
    "* ```==``` (equal), ```!=``` (not equal), ```>, <, >=, <=```\n",
    "\n",
    "* ```!``` (not), ```|``` (or), ```||``` (or), ```&``` (and) ```&&``` (and)\n",
    "\n",
    "* ```|```, ```&``` work on vectors \n",
    "\n",
    "* ```||``` and ```&&``` consider only one element"
   ]
  },
  {
   "cell_type": "markdown",
   "metadata": {},
   "source": [
    "Examples:"
   ]
  },
  {
   "cell_type": "code",
   "execution_count": null,
   "metadata": {},
   "outputs": [],
   "source": [
    "x <- c(TRUE, FALSE, TRUE)\n",
    "y <- c(FALSE, TRUE, TRUE)\n",
    "\n",
    "x | y\n",
    "x || y\n",
    "\n",
    "x & y\n",
    "x && y\n",
    "x[3] && y[3]"
   ]
  },
  {
   "cell_type": "markdown",
   "metadata": {},
   "source": [
    "The && is also a \"short circuit and\", i.e. it won't evaluate its second argument if the first argument is FALSE. Compare the following"
   ]
  },
  {
   "cell_type": "code",
   "execution_count": null,
   "metadata": {},
   "outputs": [],
   "source": [
    "x <- -1\n",
    "\n",
    "(x > 0) & (log(x) > 0)\n",
    "\n",
    "(x > 0) && (log(x) > 0)"
   ]
  },
  {
   "cell_type": "markdown",
   "metadata": {},
   "source": [
    "## Dates\n",
    "Example:"
   ]
  },
  {
   "cell_type": "code",
   "execution_count": null,
   "metadata": {},
   "outputs": [],
   "source": [
    "myDate <- as.Date('10-Jan-1993', format=\"%d-%b-%Y\")\n",
    "\n",
    "class(myDate)\n",
    "as.numeric(myDate)\n",
    "\n",
    "myDate2 <- as.Date('10-Jan-1994', format=\"%d-%b-%Y\")\n",
    "\n",
    "myDate2-myDate # can substract two dates"
   ]
  },
  {
   "cell_type": "markdown",
   "metadata": {},
   "source": [
    "```Date```class does not deal with times. Classes ```POSICXct``` and ```POSIXlt``` deal with time zones.  \n",
    "\n",
    "\n",
    "## Some useful functions\n",
    "Look at the following functions:"
   ]
  },
  {
   "cell_type": "code",
   "execution_count": null,
   "metadata": {},
   "outputs": [],
   "source": [
    "c(1, \"a\")\n",
    "1:5\n",
    "c(1,2,3,4,5)\n",
    "seq(1, 10, by=2)\n",
    "rep(c(1, 2), times=3) \n",
    "rep(c(1, 2), each=3) \n",
    "rep(c(1, 2), c(2, 3)) \n",
    "\n",
    "\n",
    "paste(c(1, 2), c('x', 'y', 'z'))\n",
    "paste(c(1, 2), c('x', 'y', 'z'), collapse=' ')\n",
    "\n",
    "sort(mydata$weight)\n",
    "sort(mydata$weight, decreasing=TRUE)\n",
    "\n",
    "table(rpois(20, 5))"
   ]
  },
  {
   "cell_type": "markdown",
   "metadata": {},
   "source": [
    "## Matrices, arrays and indexing"
   ]
  },
  {
   "cell_type": "code",
   "execution_count": null,
   "metadata": {},
   "outputs": [],
   "source": [
    "(mymat <- matrix(1:12, 3, 4)) # Entries go down columns unless you specify byrow=TRUE.\n",
    "dim(mymat)\n",
    "myarr<-mymat\n",
    "dim(myarr) <-c(3,2,2) # creating an array\n",
    "myarr\n",
    "myarr[,,1] # using indexing to select the entries of the arrays third dimension y\n",
    "\n",
    "x <-c(2,4,6,8,10,12)\n",
    "names(x) <- c(\"a\", \"b\", \"c\", \"d\", \"e\", \"f\")\n",
    "\n",
    "## Use different types of indices\n",
    "x[c(1,3,6,5)] \n",
    "x[c(\"a\",\"c\",\"f\", \"e\")] ## gives same as above\n",
    "x[c(TRUE,FALSE,TRUE,rep(FALSE,3))] # can also use logical vectors to select entries\n",
    "x[c(-1,-4)] ## exclude first and fourth entry\n",
    "\n",
    "y<-x\n",
    "(y[] <- 0 ) ## Empty. Select all, useful to replace all vector entries\n",
    "names(y) ## will be the same as before\n",
    "\n",
    "# compare with:\n",
    "y<-x\n",
    "(y<-0) \n",
    "\n",
    "# Recycling:\n",
    "x[c(1,3)] <-4.5 # recycling will be used if sub-vector selected for replacement is longer than the right-hand side.\n",
    "\n",
    "(x[10] <- 8) # replacing to an index greater than the length of the vector extends it, filling in with NA's\n",
    "\n",
    "x[11] # returns NA\n",
    "\n",
    "# indexing matrices and arrays\n",
    "mymat[1:2, -2]\n",
    "mymat[mymat>1] <- NA # note: no comma\n",
    "mymat[cbind(rep(1,3), c(2,3,4))] <- NA\n",
    "\n",
    "# If the result has length 1 in any dimension, this is dropped unless you use the argument drop=FALSE:\n",
    "mydata[1:2, 1] #is a vector\n",
    "mydata[1, 1:2] #is a data.frame\n",
    "class(mydata[1:2, 1])\n",
    "class(mydata[1, 1:2])\n",
    "mydata[mydata$weight > 400,]"
   ]
  },
  {
   "cell_type": "markdown",
   "metadata": {},
   "source": [
    "## Indexing data frames\n",
    "\n",
    "* Data frames can be indexed like matrices, but only ```drop``` dimensions if you select from a single column, not if you select from a single row.\n",
    "\n",
    "* If you select rows from a data frame with only one column the result will be a vector unless you use ```drop=FALSE```\n",
    "\n",
    "* Often want to select the rows of a data frame which meet some criterion.\n",
    "\n",
    "* use logical indexing"
   ]
  },
  {
   "cell_type": "code",
   "execution_count": null,
   "metadata": {},
   "outputs": [],
   "source": [
    "mydata[1,]\n",
    "attributes(mydata[,2])\n",
    "\n",
    "mydata[mydata$weight> 400,]"
   ]
  },
  {
   "cell_type": "markdown",
   "metadata": {},
   "source": [
    "## More Examples on matrices: Lower triangular, adding matrices, eigenvalues, column sums, ...\n",
    "\n",
    "Check out the following:"
   ]
  },
  {
   "cell_type": "code",
   "execution_count": null,
   "metadata": {},
   "outputs": [],
   "source": [
    "mymat <- matrix(1:12, nrow=3, )\n",
    "mymat\n",
    "mymat2 <- matrix(1:12, nrow=3, byrow=TRUE)\n",
    "mymat2\n",
    "mymat + mymat2\n",
    "mymat %*% t(mymat2)\n",
    "\n",
    "mysq <- matrix(rnorm(9), nrow=3)\n",
    "solve(mysq)\n",
    "\n",
    "mysym <- mysq\n",
    "mysym[lower.tri(mysym)] <-\n",
    "\tmysym[upper.tri(mysym)]\n",
    "eigen(mysym)\n",
    "colSums(mymat)"
   ]
  },
  {
   "cell_type": "markdown",
   "metadata": {},
   "source": [
    "## Functions\n",
    "\n",
    "Writing simple functions:"
   ]
  },
  {
   "cell_type": "code",
   "execution_count": null,
   "metadata": {},
   "outputs": [],
   "source": [
    "x <- rnorm(100, mean=0.3, sd=1.2)\n",
    "\n",
    "\n",
    "std.dev <- function(x) sqrt(var(x)) # function to calculate the standard deviation of a vector\n",
    "\n",
    "# function to calculate the two-tailed p-value of a t.test\n",
    "# note that function arguments can have default values\n",
    "t.test.p <- function(x, mu=0)  {\n",
    "    n <- length(x)\n",
    "    t <- sqrt(n) * (mean(x) - mu) /\n",
    "\t\tstd.dev(x)\n",
    "    2 * (1 - pt(abs(t), n - 1)) # the object of the final line will be returned\n",
    "}\n",
    "\n",
    "std.dev(x)\n",
    "t.test.p(x) # this will use the default value for mu\n",
    "t.test.p(mu=1, x=x) \n",
    "t.test.p(x, 1)"
   ]
  },
  {
   "cell_type": "markdown",
   "metadata": {},
   "source": [
    "## Flow control: if, for , while, repeat\n"
   ]
  },
  {
   "cell_type": "code",
   "execution_count": null,
   "metadata": {},
   "outputs": [],
   "source": [
    "myfn <- function(n=100)\n",
    "{\n",
    "    tmp <- rep(NA, 3)\n",
    "    tmp[1] <- mean(runif(n))\n",
    "    tmp[2] <- mean(runif(n))\n",
    "    tmp[3] <- mean(runif(n))\n",
    "    mean(tmp[tmp > .2])\n",
    "}\n",
    "set.seed(1)\n",
    "myfn()\n",
    "myfn(1000)"
   ]
  },
  {
   "cell_type": "markdown",
   "metadata": {},
   "source": [
    "## Control flow: if\n",
    "Example"
   ]
  },
  {
   "cell_type": "code",
   "execution_count": null,
   "metadata": {},
   "outputs": [],
   "source": [
    "myfna <- function(n=100)\n",
    "{\n",
    "    tmp <- rep(NA, 3)\n",
    "    x <- mean(runif(n))\n",
    "    if (x > 0.2)\n",
    "        tmp[1] <- x\n",
    "    x <- mean(runif(n))\n",
    "    if (x > 0.2)\n",
    "        tmp[2] <- x\n",
    "    x <- mean(runif(n))\n",
    "    if (x > 0.2)\n",
    "        tmp[3] <- x\n",
    "    mean(tmp, na.rm=TRUE)\n",
    "}\n",
    "set.seed(1)\n",
    "myfna()\n",
    "myfna(1000)"
   ]
  },
  {
   "cell_type": "markdown",
   "metadata": {},
   "source": [
    "## Control Flow: For "
   ]
  },
  {
   "cell_type": "code",
   "execution_count": null,
   "metadata": {},
   "outputs": [],
   "source": [
    "myfn1 <- function(obs=10, n=100)\n",
    "{\n",
    "    x <- rep(NA, n)\n",
    "    for (i in 1:n)\n",
    "    {\n",
    "        tmp <- runif(obs)\n",
    "        x[i] <- mean(tmp)\n",
    "    }\n",
    "    c(mn=mean(x), std=sd(x))\n",
    "}\n",
    "set.seed(1)\n",
    "myfn1()\n",
    "myfn1(1000)"
   ]
  },
  {
   "cell_type": "markdown",
   "metadata": {},
   "source": [
    "The functions ```while``` and ```repeat``` don't require loop variables."
   ]
  },
  {
   "cell_type": "markdown",
   "metadata": {},
   "source": [
    "## The function ifelse\n",
    "\n",
    "The function ```ifelse``` reduces the need for loops and can make code more efficient. Example:\n",
    "```{r}\n",
    "x <- c(0, 1, 1, 2)\n",
    "y <- c(44, 45, 56, 77)\n",
    "\n",
    "z <- rep(NA, 4)\n",
    "for (i in 1:length(x))\n",
    "{\n",
    "    if (x[i] > 0)\n",
    "        z[i] <- y[i] / x[i]\n",
    "    else\n",
    "        z[i] <- y[i] / 99\n",
    "}\n",
    "z\n",
    "```\n",
    "This can be replaced by:\n",
    "```{r}\n",
    "(z <- ifelse(x > 0, y / x, y / 99))\n",
    "```"
   ]
  },
  {
   "cell_type": "markdown",
   "metadata": {},
   "source": [
    "## Exercise: 1\n",
    "\n",
    "*  Create a vector containing all the dates in 2007, using ```seq``` and ```as.Date```.\n",
    "\n",
    "* There is a version of ```cut``` for dates, called ```cut.Date```. Use this to create a factor with values corresponding to the date of the first day of the week in which each of these dates falls. Start the weeks on Sundays.\n",
    "\n",
    "* Create ```x```, a vector of length 100, with integer values in the range $1:5$, randomly ordered. (Hint: look at the function ```sample```.)\n",
    "\n",
    "* Use ```paste``` to create a vector of labels: `(\"Colour 1\", \"Colour 2\", \"Colour 3\", \"Colour 4\", \"Colour 5\")`\n",
    "\n",
    "*  Use the ```factor``` command to create a factor from the vector ```x```,  with the labels created above.\n",
    "\n",
    "* Create a data frame with 100 rows and two columns, one containing a random sample of the vector of dates created above, and the other containing the factor vector of colour names.\n",
    "  \n",
    "* Select the rows for which the date is after 1st June 2007.\n",
    "\n",
    "[Solution]()"
   ]
  },
  {
   "cell_type": "markdown",
   "metadata": {},
   "source": [
    "## Solution+: 1\n",
    "*  Create a vector containing all the dates in 2007, using ```seq``` and ```as.Date```."
   ]
  },
  {
   "cell_type": "code",
   "execution_count": 3,
   "metadata": {},
   "outputs": [
    {
     "data": {
      "text/html": [
       "<time datetime=\"2007-12-31\">2007-12-31</time>"
      ],
      "text/latex": [
       "2007-12-31"
      ],
      "text/markdown": [
       "2007-12-31"
      ],
      "text/plain": [
       "[1] \"2007-12-31\""
      ]
     },
     "metadata": {},
     "output_type": "display_data"
    }
   ],
   "source": [
    "myDate1 <- as.Date('1-Jan-2007', format=\"%d-%b-%Y\")\n",
    "myDate2 <- myDate1+364\n",
    "myDate2"
   ]
  },
  {
   "cell_type": "code",
   "execution_count": 4,
   "metadata": {},
   "outputs": [],
   "source": [
    "dates2007<-seq(myDate1,myDate2,1)"
   ]
  },
  {
   "cell_type": "markdown",
   "metadata": {},
   "source": [
    "* There is a version of ```cut``` for dates, called ```cut.Date```. Use this\n",
    "  to create a factor with values corresponding to the date of the first day of\n",
    "  the week in which each of these dates falls. Start the weeks on Sundays."
   ]
  },
  {
   "cell_type": "code",
   "execution_count": 5,
   "metadata": {},
   "outputs": [
    {
     "data": {
      "text/plain": [
       "fdate\n",
       "2006-12-31 2007-01-07 2007-01-14 2007-01-21 2007-01-28 2007-02-04 2007-02-11 \n",
       "         6          7          7          7          7          7          7 \n",
       "2007-02-18 2007-02-25 2007-03-04 2007-03-11 2007-03-18 2007-03-25 2007-04-01 \n",
       "         7          7          7          7          7          7          7 \n",
       "2007-04-08 2007-04-15 2007-04-22 2007-04-29 2007-05-06 2007-05-13 2007-05-20 \n",
       "         7          7          7          7          7          7          7 \n",
       "2007-05-27 2007-06-03 2007-06-10 2007-06-17 2007-06-24 2007-07-01 2007-07-08 \n",
       "         7          7          7          7          7          7          7 \n",
       "2007-07-15 2007-07-22 2007-07-29 2007-08-05 2007-08-12 2007-08-19 2007-08-26 \n",
       "         7          7          7          7          7          7          7 \n",
       "2007-09-02 2007-09-09 2007-09-16 2007-09-23 2007-09-30 2007-10-07 2007-10-14 \n",
       "         7          7          7          7          7          7          7 \n",
       "2007-10-21 2007-10-28 2007-11-04 2007-11-11 2007-11-18 2007-11-25 2007-12-02 \n",
       "         7          7          7          7          7          7          7 \n",
       "2007-12-09 2007-12-16 2007-12-23 2007-12-30 \n",
       "         7          7          7          2 "
      ]
     },
     "metadata": {},
     "output_type": "display_data"
    }
   ],
   "source": [
    "fdate<-cut.Date(dates2007, \"weeks\",start.on.monday=FALSE)\n",
    "table(fdate)"
   ]
  },
  {
   "cell_type": "markdown",
   "metadata": {},
   "source": [
    "* Create ```x```, a vector of length 100, with integer values in the range\n",
    "  $1:5$, randomly ordered. (Hint: look at the function ```sample```.)"
   ]
  },
  {
   "cell_type": "code",
   "execution_count": 6,
   "metadata": {},
   "outputs": [
    {
     "data": {
      "text/html": [
       "<ol class=list-inline>\n",
       "\t<li>2</li>\n",
       "\t<li>2</li>\n",
       "\t<li>1</li>\n",
       "\t<li>5</li>\n",
       "\t<li>1</li>\n",
       "\t<li>2</li>\n",
       "\t<li>3</li>\n",
       "\t<li>5</li>\n",
       "\t<li>4</li>\n",
       "\t<li>1</li>\n",
       "\t<li>4</li>\n",
       "\t<li>3</li>\n",
       "\t<li>5</li>\n",
       "\t<li>2</li>\n",
       "\t<li>1</li>\n",
       "\t<li>3</li>\n",
       "\t<li>4</li>\n",
       "\t<li>2</li>\n",
       "\t<li>1</li>\n",
       "\t<li>4</li>\n",
       "\t<li>4</li>\n",
       "\t<li>4</li>\n",
       "\t<li>3</li>\n",
       "\t<li>2</li>\n",
       "\t<li>4</li>\n",
       "\t<li>5</li>\n",
       "\t<li>1</li>\n",
       "\t<li>4</li>\n",
       "\t<li>2</li>\n",
       "\t<li>4</li>\n",
       "\t<li>4</li>\n",
       "\t<li>5</li>\n",
       "\t<li>1</li>\n",
       "\t<li>5</li>\n",
       "\t<li>5</li>\n",
       "\t<li>1</li>\n",
       "\t<li>3</li>\n",
       "\t<li>4</li>\n",
       "\t<li>5</li>\n",
       "\t<li>2</li>\n",
       "\t<li>1</li>\n",
       "\t<li>1</li>\n",
       "\t<li>2</li>\n",
       "\t<li>5</li>\n",
       "\t<li>4</li>\n",
       "\t<li>3</li>\n",
       "\t<li>2</li>\n",
       "\t<li>2</li>\n",
       "\t<li>3</li>\n",
       "\t<li>1</li>\n",
       "\t<li>4</li>\n",
       "\t<li>4</li>\n",
       "\t<li>4</li>\n",
       "\t<li>1</li>\n",
       "\t<li>3</li>\n",
       "\t<li>4</li>\n",
       "\t<li>1</li>\n",
       "\t<li>5</li>\n",
       "\t<li>4</li>\n",
       "\t<li>1</li>\n",
       "\t<li>2</li>\n",
       "\t<li>1</li>\n",
       "\t<li>5</li>\n",
       "\t<li>3</li>\n",
       "\t<li>2</li>\n",
       "\t<li>1</li>\n",
       "\t<li>4</li>\n",
       "\t<li>1</li>\n",
       "\t<li>5</li>\n",
       "\t<li>4</li>\n",
       "\t<li>5</li>\n",
       "\t<li>1</li>\n",
       "\t<li>3</li>\n",
       "\t<li>4</li>\n",
       "\t<li>3</li>\n",
       "\t<li>5</li>\n",
       "\t<li>3</li>\n",
       "\t<li>5</li>\n",
       "\t<li>1</li>\n",
       "\t<li>2</li>\n",
       "\t<li>5</li>\n",
       "\t<li>4</li>\n",
       "\t<li>5</li>\n",
       "\t<li>2</li>\n",
       "\t<li>2</li>\n",
       "\t<li>4</li>\n",
       "\t<li>1</li>\n",
       "\t<li>3</li>\n",
       "\t<li>2</li>\n",
       "\t<li>2</li>\n",
       "\t<li>4</li>\n",
       "\t<li>5</li>\n",
       "\t<li>3</li>\n",
       "\t<li>3</li>\n",
       "\t<li>3</li>\n",
       "\t<li>1</li>\n",
       "\t<li>2</li>\n",
       "\t<li>4</li>\n",
       "\t<li>3</li>\n",
       "\t<li>1</li>\n",
       "</ol>\n"
      ],
      "text/latex": [
       "\\begin{enumerate*}\n",
       "\\item 2\n",
       "\\item 2\n",
       "\\item 1\n",
       "\\item 5\n",
       "\\item 1\n",
       "\\item 2\n",
       "\\item 3\n",
       "\\item 5\n",
       "\\item 4\n",
       "\\item 1\n",
       "\\item 4\n",
       "\\item 3\n",
       "\\item 5\n",
       "\\item 2\n",
       "\\item 1\n",
       "\\item 3\n",
       "\\item 4\n",
       "\\item 2\n",
       "\\item 1\n",
       "\\item 4\n",
       "\\item 4\n",
       "\\item 4\n",
       "\\item 3\n",
       "\\item 2\n",
       "\\item 4\n",
       "\\item 5\n",
       "\\item 1\n",
       "\\item 4\n",
       "\\item 2\n",
       "\\item 4\n",
       "\\item 4\n",
       "\\item 5\n",
       "\\item 1\n",
       "\\item 5\n",
       "\\item 5\n",
       "\\item 1\n",
       "\\item 3\n",
       "\\item 4\n",
       "\\item 5\n",
       "\\item 2\n",
       "\\item 1\n",
       "\\item 1\n",
       "\\item 2\n",
       "\\item 5\n",
       "\\item 4\n",
       "\\item 3\n",
       "\\item 2\n",
       "\\item 2\n",
       "\\item 3\n",
       "\\item 1\n",
       "\\item 4\n",
       "\\item 4\n",
       "\\item 4\n",
       "\\item 1\n",
       "\\item 3\n",
       "\\item 4\n",
       "\\item 1\n",
       "\\item 5\n",
       "\\item 4\n",
       "\\item 1\n",
       "\\item 2\n",
       "\\item 1\n",
       "\\item 5\n",
       "\\item 3\n",
       "\\item 2\n",
       "\\item 1\n",
       "\\item 4\n",
       "\\item 1\n",
       "\\item 5\n",
       "\\item 4\n",
       "\\item 5\n",
       "\\item 1\n",
       "\\item 3\n",
       "\\item 4\n",
       "\\item 3\n",
       "\\item 5\n",
       "\\item 3\n",
       "\\item 5\n",
       "\\item 1\n",
       "\\item 2\n",
       "\\item 5\n",
       "\\item 4\n",
       "\\item 5\n",
       "\\item 2\n",
       "\\item 2\n",
       "\\item 4\n",
       "\\item 1\n",
       "\\item 3\n",
       "\\item 2\n",
       "\\item 2\n",
       "\\item 4\n",
       "\\item 5\n",
       "\\item 3\n",
       "\\item 3\n",
       "\\item 3\n",
       "\\item 1\n",
       "\\item 2\n",
       "\\item 4\n",
       "\\item 3\n",
       "\\item 1\n",
       "\\end{enumerate*}\n"
      ],
      "text/markdown": [
       "1. 2\n",
       "2. 2\n",
       "3. 1\n",
       "4. 5\n",
       "5. 1\n",
       "6. 2\n",
       "7. 3\n",
       "8. 5\n",
       "9. 4\n",
       "10. 1\n",
       "11. 4\n",
       "12. 3\n",
       "13. 5\n",
       "14. 2\n",
       "15. 1\n",
       "16. 3\n",
       "17. 4\n",
       "18. 2\n",
       "19. 1\n",
       "20. 4\n",
       "21. 4\n",
       "22. 4\n",
       "23. 3\n",
       "24. 2\n",
       "25. 4\n",
       "26. 5\n",
       "27. 1\n",
       "28. 4\n",
       "29. 2\n",
       "30. 4\n",
       "31. 4\n",
       "32. 5\n",
       "33. 1\n",
       "34. 5\n",
       "35. 5\n",
       "36. 1\n",
       "37. 3\n",
       "38. 4\n",
       "39. 5\n",
       "40. 2\n",
       "41. 1\n",
       "42. 1\n",
       "43. 2\n",
       "44. 5\n",
       "45. 4\n",
       "46. 3\n",
       "47. 2\n",
       "48. 2\n",
       "49. 3\n",
       "50. 1\n",
       "51. 4\n",
       "52. 4\n",
       "53. 4\n",
       "54. 1\n",
       "55. 3\n",
       "56. 4\n",
       "57. 1\n",
       "58. 5\n",
       "59. 4\n",
       "60. 1\n",
       "61. 2\n",
       "62. 1\n",
       "63. 5\n",
       "64. 3\n",
       "65. 2\n",
       "66. 1\n",
       "67. 4\n",
       "68. 1\n",
       "69. 5\n",
       "70. 4\n",
       "71. 5\n",
       "72. 1\n",
       "73. 3\n",
       "74. 4\n",
       "75. 3\n",
       "76. 5\n",
       "77. 3\n",
       "78. 5\n",
       "79. 1\n",
       "80. 2\n",
       "81. 5\n",
       "82. 4\n",
       "83. 5\n",
       "84. 2\n",
       "85. 2\n",
       "86. 4\n",
       "87. 1\n",
       "88. 3\n",
       "89. 2\n",
       "90. 2\n",
       "91. 4\n",
       "92. 5\n",
       "93. 3\n",
       "94. 3\n",
       "95. 3\n",
       "96. 1\n",
       "97. 2\n",
       "98. 4\n",
       "99. 3\n",
       "100. 1\n",
       "\n",
       "\n"
      ],
      "text/plain": [
       "  [1] 2 2 1 5 1 2 3 5 4 1 4 3 5 2 1 3 4 2 1 4 4 4 3 2 4 5 1 4 2 4 4 5 1 5 5 1 3\n",
       " [38] 4 5 2 1 1 2 5 4 3 2 2 3 1 4 4 4 1 3 4 1 5 4 1 2 1 5 3 2 1 4 1 5 4 5 1 3 4\n",
       " [75] 3 5 3 5 1 2 5 4 5 2 2 4 1 3 2 2 4 5 3 3 3 1 2 4 3 1"
      ]
     },
     "metadata": {},
     "output_type": "display_data"
    }
   ],
   "source": [
    "sample(1:5,100,replace=TRUE)"
   ]
  },
  {
   "cell_type": "markdown",
   "metadata": {},
   "source": [
    "* Use ```paste``` to create a vector of labels:\n",
    "    (\"Colour 1\", \"Colour 2\", \"Colour 3\", \"Colour 4\", \"Colour 5\")"
   ]
  },
  {
   "cell_type": "code",
   "execution_count": 7,
   "metadata": {},
   "outputs": [
    {
     "data": {
      "text/html": [
       "<ol class=list-inline>\n",
       "\t<li>'Colour 1'</li>\n",
       "\t<li>'Colour 2'</li>\n",
       "\t<li>'Colour 3'</li>\n",
       "\t<li>'Colour 4'</li>\n",
       "\t<li>'Colour 5'</li>\n",
       "</ol>\n"
      ],
      "text/latex": [
       "\\begin{enumerate*}\n",
       "\\item 'Colour 1'\n",
       "\\item 'Colour 2'\n",
       "\\item 'Colour 3'\n",
       "\\item 'Colour 4'\n",
       "\\item 'Colour 5'\n",
       "\\end{enumerate*}\n"
      ],
      "text/markdown": [
       "1. 'Colour 1'\n",
       "2. 'Colour 2'\n",
       "3. 'Colour 3'\n",
       "4. 'Colour 4'\n",
       "5. 'Colour 5'\n",
       "\n",
       "\n"
      ],
      "text/plain": [
       "[1] \"Colour 1\" \"Colour 2\" \"Colour 3\" \"Colour 4\" \"Colour 5\""
      ]
     },
     "metadata": {},
     "output_type": "display_data"
    }
   ],
   "source": [
    "x <-paste(\"Colour\",1:5)\n",
    "x"
   ]
  },
  {
   "cell_type": "markdown",
   "metadata": {},
   "source": [
    "*  Use the ```factor``` command to create a factor from the vector ```x```,\n",
    "  with the labels created above."
   ]
  },
  {
   "cell_type": "code",
   "execution_count": 8,
   "metadata": {},
   "outputs": [
    {
     "data": {
      "text/plain": [
       "xf\n",
       "Colour 1 Colour 2 Colour 3 Colour 4 Colour 5 \n",
       "       1        1        1        1        1 "
      ]
     },
     "metadata": {},
     "output_type": "display_data"
    }
   ],
   "source": [
    "xf<-factor(x)\n",
    "table(xf)"
   ]
  },
  {
   "cell_type": "code",
   "execution_count": 9,
   "metadata": {},
   "outputs": [
    {
     "data": {
      "text/html": [
       "<ol class=list-inline>\n",
       "\t<li>Colour 1</li>\n",
       "\t<li>Colour 2</li>\n",
       "\t<li>Colour 3</li>\n",
       "\t<li>Colour 4</li>\n",
       "\t<li>Colour 5</li>\n",
       "</ol>\n",
       "\n",
       "<details>\n",
       "\t<summary style=display:list-item;cursor:pointer>\n",
       "\t\t<strong>Levels</strong>:\n",
       "\t</summary>\n",
       "\t<ol class=list-inline>\n",
       "\t\t<li>'Colour 1'</li>\n",
       "\t\t<li>'Colour 2'</li>\n",
       "\t\t<li>'Colour 3'</li>\n",
       "\t\t<li>'Colour 4'</li>\n",
       "\t\t<li>'Colour 5'</li>\n",
       "\t</ol>\n",
       "</details>"
      ],
      "text/latex": [
       "\\begin{enumerate*}\n",
       "\\item Colour 1\n",
       "\\item Colour 2\n",
       "\\item Colour 3\n",
       "\\item Colour 4\n",
       "\\item Colour 5\n",
       "\\end{enumerate*}\n",
       "\n",
       "\\emph{Levels}: \\begin{enumerate*}\n",
       "\\item 'Colour 1'\n",
       "\\item 'Colour 2'\n",
       "\\item 'Colour 3'\n",
       "\\item 'Colour 4'\n",
       "\\item 'Colour 5'\n",
       "\\end{enumerate*}\n"
      ],
      "text/markdown": [
       "1. Colour 1\n",
       "2. Colour 2\n",
       "3. Colour 3\n",
       "4. Colour 4\n",
       "5. Colour 5\n",
       "\n",
       "\n",
       "\n",
       "**Levels**: 1. 'Colour 1'\n",
       "2. 'Colour 2'\n",
       "3. 'Colour 3'\n",
       "4. 'Colour 4'\n",
       "5. 'Colour 5'\n",
       "\n",
       "\n"
      ],
      "text/plain": [
       "[1] Colour 1 Colour 2 Colour 3 Colour 4 Colour 5\n",
       "Levels: Colour 1 Colour 2 Colour 3 Colour 4 Colour 5"
      ]
     },
     "metadata": {},
     "output_type": "display_data"
    }
   ],
   "source": [
    "xf"
   ]
  },
  {
   "cell_type": "markdown",
   "metadata": {},
   "source": [
    "* Create a data frame with 100 rows and two columns, one containing a random\n",
    "  sample of the vector of dates created above, and the other containing the\n",
    "  factor vector of colour names."
   ]
  },
  {
   "cell_type": "code",
   "execution_count": 10,
   "metadata": {},
   "outputs": [
    {
     "data": {
      "text/html": [
       "<table>\n",
       "<thead><tr><th scope=col>d</th><th scope=col>c</th></tr></thead>\n",
       "<tbody>\n",
       "\t<tr><td>2007-01-28</td><td>Colour 1  </td></tr>\n",
       "\t<tr><td>2007-12-06</td><td>Colour 2  </td></tr>\n",
       "\t<tr><td>2007-03-13</td><td>Colour 3  </td></tr>\n",
       "\t<tr><td>2007-06-18</td><td>Colour 4  </td></tr>\n",
       "\t<tr><td>2007-11-21</td><td>Colour 5  </td></tr>\n",
       "\t<tr><td>2007-10-07</td><td>Colour 1  </td></tr>\n",
       "\t<tr><td>2007-12-17</td><td>Colour 2  </td></tr>\n",
       "\t<tr><td>2007-12-29</td><td>Colour 3  </td></tr>\n",
       "\t<tr><td>2007-03-19</td><td>Colour 4  </td></tr>\n",
       "\t<tr><td>2007-12-02</td><td>Colour 5  </td></tr>\n",
       "\t<tr><td>2007-06-13</td><td>Colour 1  </td></tr>\n",
       "\t<tr><td>2007-03-26</td><td>Colour 2  </td></tr>\n",
       "\t<tr><td>2007-12-31</td><td>Colour 3  </td></tr>\n",
       "\t<tr><td>2007-01-04</td><td>Colour 4  </td></tr>\n",
       "\t<tr><td>2007-06-02</td><td>Colour 5  </td></tr>\n",
       "\t<tr><td>2007-06-29</td><td>Colour 1  </td></tr>\n",
       "\t<tr><td>2007-09-07</td><td>Colour 2  </td></tr>\n",
       "\t<tr><td>2007-09-30</td><td>Colour 3  </td></tr>\n",
       "\t<tr><td>2007-06-15</td><td>Colour 4  </td></tr>\n",
       "\t<tr><td>2007-03-17</td><td>Colour 5  </td></tr>\n",
       "\t<tr><td>2007-02-07</td><td>Colour 1  </td></tr>\n",
       "\t<tr><td>2007-03-26</td><td>Colour 2  </td></tr>\n",
       "\t<tr><td>2007-10-06</td><td>Colour 3  </td></tr>\n",
       "\t<tr><td>2007-10-11</td><td>Colour 4  </td></tr>\n",
       "\t<tr><td>2007-06-29</td><td>Colour 5  </td></tr>\n",
       "\t<tr><td>2007-05-07</td><td>Colour 1  </td></tr>\n",
       "\t<tr><td>2007-05-10</td><td>Colour 2  </td></tr>\n",
       "\t<tr><td>2007-04-12</td><td>Colour 3  </td></tr>\n",
       "\t<tr><td>2007-07-05</td><td>Colour 4  </td></tr>\n",
       "\t<tr><td>2007-03-20</td><td>Colour 5  </td></tr>\n",
       "\t<tr><td>...</td><td>...</td></tr>\n",
       "\t<tr><td>2007-05-14</td><td>Colour 1  </td></tr>\n",
       "\t<tr><td>2007-03-02</td><td>Colour 2  </td></tr>\n",
       "\t<tr><td>2007-08-07</td><td>Colour 3  </td></tr>\n",
       "\t<tr><td>2007-07-24</td><td>Colour 4  </td></tr>\n",
       "\t<tr><td>2007-01-18</td><td>Colour 5  </td></tr>\n",
       "\t<tr><td>2007-02-13</td><td>Colour 1  </td></tr>\n",
       "\t<tr><td>2007-05-12</td><td>Colour 2  </td></tr>\n",
       "\t<tr><td>2007-05-08</td><td>Colour 3  </td></tr>\n",
       "\t<tr><td>2007-03-29</td><td>Colour 4  </td></tr>\n",
       "\t<tr><td>2007-06-08</td><td>Colour 5  </td></tr>\n",
       "\t<tr><td>2007-06-17</td><td>Colour 1  </td></tr>\n",
       "\t<tr><td>2007-06-22</td><td>Colour 2  </td></tr>\n",
       "\t<tr><td>2007-11-10</td><td>Colour 3  </td></tr>\n",
       "\t<tr><td>2007-11-18</td><td>Colour 4  </td></tr>\n",
       "\t<tr><td>2007-09-07</td><td>Colour 5  </td></tr>\n",
       "\t<tr><td>2007-02-09</td><td>Colour 1  </td></tr>\n",
       "\t<tr><td>2007-05-08</td><td>Colour 2  </td></tr>\n",
       "\t<tr><td>2007-10-02</td><td>Colour 3  </td></tr>\n",
       "\t<tr><td>2007-12-03</td><td>Colour 4  </td></tr>\n",
       "\t<tr><td>2007-04-02</td><td>Colour 5  </td></tr>\n",
       "\t<tr><td>2007-01-08</td><td>Colour 1  </td></tr>\n",
       "\t<tr><td>2007-06-30</td><td>Colour 2  </td></tr>\n",
       "\t<tr><td>2007-11-26</td><td>Colour 3  </td></tr>\n",
       "\t<tr><td>2007-09-30</td><td>Colour 4  </td></tr>\n",
       "\t<tr><td>2007-02-27</td><td>Colour 5  </td></tr>\n",
       "\t<tr><td>2007-09-04</td><td>Colour 1  </td></tr>\n",
       "\t<tr><td>2007-06-02</td><td>Colour 2  </td></tr>\n",
       "\t<tr><td>2007-03-15</td><td>Colour 3  </td></tr>\n",
       "\t<tr><td>2007-03-17</td><td>Colour 4  </td></tr>\n",
       "\t<tr><td>2007-05-14</td><td>Colour 5  </td></tr>\n",
       "</tbody>\n",
       "</table>\n"
      ],
      "text/latex": [
       "\\begin{tabular}{r|ll}\n",
       " d & c\\\\\n",
       "\\hline\n",
       "\t 2007-01-28 & Colour 1  \\\\\n",
       "\t 2007-12-06 & Colour 2  \\\\\n",
       "\t 2007-03-13 & Colour 3  \\\\\n",
       "\t 2007-06-18 & Colour 4  \\\\\n",
       "\t 2007-11-21 & Colour 5  \\\\\n",
       "\t 2007-10-07 & Colour 1  \\\\\n",
       "\t 2007-12-17 & Colour 2  \\\\\n",
       "\t 2007-12-29 & Colour 3  \\\\\n",
       "\t 2007-03-19 & Colour 4  \\\\\n",
       "\t 2007-12-02 & Colour 5  \\\\\n",
       "\t 2007-06-13 & Colour 1  \\\\\n",
       "\t 2007-03-26 & Colour 2  \\\\\n",
       "\t 2007-12-31 & Colour 3  \\\\\n",
       "\t 2007-01-04 & Colour 4  \\\\\n",
       "\t 2007-06-02 & Colour 5  \\\\\n",
       "\t 2007-06-29 & Colour 1  \\\\\n",
       "\t 2007-09-07 & Colour 2  \\\\\n",
       "\t 2007-09-30 & Colour 3  \\\\\n",
       "\t 2007-06-15 & Colour 4  \\\\\n",
       "\t 2007-03-17 & Colour 5  \\\\\n",
       "\t 2007-02-07 & Colour 1  \\\\\n",
       "\t 2007-03-26 & Colour 2  \\\\\n",
       "\t 2007-10-06 & Colour 3  \\\\\n",
       "\t 2007-10-11 & Colour 4  \\\\\n",
       "\t 2007-06-29 & Colour 5  \\\\\n",
       "\t 2007-05-07 & Colour 1  \\\\\n",
       "\t 2007-05-10 & Colour 2  \\\\\n",
       "\t 2007-04-12 & Colour 3  \\\\\n",
       "\t 2007-07-05 & Colour 4  \\\\\n",
       "\t 2007-03-20 & Colour 5  \\\\\n",
       "\t ... & ...\\\\\n",
       "\t 2007-05-14 & Colour 1  \\\\\n",
       "\t 2007-03-02 & Colour 2  \\\\\n",
       "\t 2007-08-07 & Colour 3  \\\\\n",
       "\t 2007-07-24 & Colour 4  \\\\\n",
       "\t 2007-01-18 & Colour 5  \\\\\n",
       "\t 2007-02-13 & Colour 1  \\\\\n",
       "\t 2007-05-12 & Colour 2  \\\\\n",
       "\t 2007-05-08 & Colour 3  \\\\\n",
       "\t 2007-03-29 & Colour 4  \\\\\n",
       "\t 2007-06-08 & Colour 5  \\\\\n",
       "\t 2007-06-17 & Colour 1  \\\\\n",
       "\t 2007-06-22 & Colour 2  \\\\\n",
       "\t 2007-11-10 & Colour 3  \\\\\n",
       "\t 2007-11-18 & Colour 4  \\\\\n",
       "\t 2007-09-07 & Colour 5  \\\\\n",
       "\t 2007-02-09 & Colour 1  \\\\\n",
       "\t 2007-05-08 & Colour 2  \\\\\n",
       "\t 2007-10-02 & Colour 3  \\\\\n",
       "\t 2007-12-03 & Colour 4  \\\\\n",
       "\t 2007-04-02 & Colour 5  \\\\\n",
       "\t 2007-01-08 & Colour 1  \\\\\n",
       "\t 2007-06-30 & Colour 2  \\\\\n",
       "\t 2007-11-26 & Colour 3  \\\\\n",
       "\t 2007-09-30 & Colour 4  \\\\\n",
       "\t 2007-02-27 & Colour 5  \\\\\n",
       "\t 2007-09-04 & Colour 1  \\\\\n",
       "\t 2007-06-02 & Colour 2  \\\\\n",
       "\t 2007-03-15 & Colour 3  \\\\\n",
       "\t 2007-03-17 & Colour 4  \\\\\n",
       "\t 2007-05-14 & Colour 5  \\\\\n",
       "\\end{tabular}\n"
      ],
      "text/markdown": [
       "\n",
       "d | c | \n",
       "|---|---|---|---|---|---|---|---|---|---|---|---|---|---|---|---|---|---|---|---|---|---|---|---|---|---|---|---|---|---|---|---|---|---|---|---|---|---|---|---|---|---|---|---|---|---|---|---|---|---|---|---|---|---|---|---|---|---|---|---|---|\n",
       "| 2007-01-28 | Colour 1   | \n",
       "| 2007-12-06 | Colour 2   | \n",
       "| 2007-03-13 | Colour 3   | \n",
       "| 2007-06-18 | Colour 4   | \n",
       "| 2007-11-21 | Colour 5   | \n",
       "| 2007-10-07 | Colour 1   | \n",
       "| 2007-12-17 | Colour 2   | \n",
       "| 2007-12-29 | Colour 3   | \n",
       "| 2007-03-19 | Colour 4   | \n",
       "| 2007-12-02 | Colour 5   | \n",
       "| 2007-06-13 | Colour 1   | \n",
       "| 2007-03-26 | Colour 2   | \n",
       "| 2007-12-31 | Colour 3   | \n",
       "| 2007-01-04 | Colour 4   | \n",
       "| 2007-06-02 | Colour 5   | \n",
       "| 2007-06-29 | Colour 1   | \n",
       "| 2007-09-07 | Colour 2   | \n",
       "| 2007-09-30 | Colour 3   | \n",
       "| 2007-06-15 | Colour 4   | \n",
       "| 2007-03-17 | Colour 5   | \n",
       "| 2007-02-07 | Colour 1   | \n",
       "| 2007-03-26 | Colour 2   | \n",
       "| 2007-10-06 | Colour 3   | \n",
       "| 2007-10-11 | Colour 4   | \n",
       "| 2007-06-29 | Colour 5   | \n",
       "| 2007-05-07 | Colour 1   | \n",
       "| 2007-05-10 | Colour 2   | \n",
       "| 2007-04-12 | Colour 3   | \n",
       "| 2007-07-05 | Colour 4   | \n",
       "| 2007-03-20 | Colour 5   | \n",
       "| ... | ... | \n",
       "| 2007-05-14 | Colour 1   | \n",
       "| 2007-03-02 | Colour 2   | \n",
       "| 2007-08-07 | Colour 3   | \n",
       "| 2007-07-24 | Colour 4   | \n",
       "| 2007-01-18 | Colour 5   | \n",
       "| 2007-02-13 | Colour 1   | \n",
       "| 2007-05-12 | Colour 2   | \n",
       "| 2007-05-08 | Colour 3   | \n",
       "| 2007-03-29 | Colour 4   | \n",
       "| 2007-06-08 | Colour 5   | \n",
       "| 2007-06-17 | Colour 1   | \n",
       "| 2007-06-22 | Colour 2   | \n",
       "| 2007-11-10 | Colour 3   | \n",
       "| 2007-11-18 | Colour 4   | \n",
       "| 2007-09-07 | Colour 5   | \n",
       "| 2007-02-09 | Colour 1   | \n",
       "| 2007-05-08 | Colour 2   | \n",
       "| 2007-10-02 | Colour 3   | \n",
       "| 2007-12-03 | Colour 4   | \n",
       "| 2007-04-02 | Colour 5   | \n",
       "| 2007-01-08 | Colour 1   | \n",
       "| 2007-06-30 | Colour 2   | \n",
       "| 2007-11-26 | Colour 3   | \n",
       "| 2007-09-30 | Colour 4   | \n",
       "| 2007-02-27 | Colour 5   | \n",
       "| 2007-09-04 | Colour 1   | \n",
       "| 2007-06-02 | Colour 2   | \n",
       "| 2007-03-15 | Colour 3   | \n",
       "| 2007-03-17 | Colour 4   | \n",
       "| 2007-05-14 | Colour 5   | \n",
       "\n",
       "\n"
      ],
      "text/plain": [
       "    d          c       \n",
       "1   2007-01-28 Colour 1\n",
       "2   2007-12-06 Colour 2\n",
       "3   2007-03-13 Colour 3\n",
       "4   2007-06-18 Colour 4\n",
       "5   2007-11-21 Colour 5\n",
       "6   2007-10-07 Colour 1\n",
       "7   2007-12-17 Colour 2\n",
       "8   2007-12-29 Colour 3\n",
       "9   2007-03-19 Colour 4\n",
       "10  2007-12-02 Colour 5\n",
       "11  2007-06-13 Colour 1\n",
       "12  2007-03-26 Colour 2\n",
       "13  2007-12-31 Colour 3\n",
       "14  2007-01-04 Colour 4\n",
       "15  2007-06-02 Colour 5\n",
       "16  2007-06-29 Colour 1\n",
       "17  2007-09-07 Colour 2\n",
       "18  2007-09-30 Colour 3\n",
       "19  2007-06-15 Colour 4\n",
       "20  2007-03-17 Colour 5\n",
       "21  2007-02-07 Colour 1\n",
       "22  2007-03-26 Colour 2\n",
       "23  2007-10-06 Colour 3\n",
       "24  2007-10-11 Colour 4\n",
       "25  2007-06-29 Colour 5\n",
       "26  2007-05-07 Colour 1\n",
       "27  2007-05-10 Colour 2\n",
       "28  2007-04-12 Colour 3\n",
       "29  2007-07-05 Colour 4\n",
       "30  2007-03-20 Colour 5\n",
       "... ...        ...     \n",
       "71  2007-05-14 Colour 1\n",
       "72  2007-03-02 Colour 2\n",
       "73  2007-08-07 Colour 3\n",
       "74  2007-07-24 Colour 4\n",
       "75  2007-01-18 Colour 5\n",
       "76  2007-02-13 Colour 1\n",
       "77  2007-05-12 Colour 2\n",
       "78  2007-05-08 Colour 3\n",
       "79  2007-03-29 Colour 4\n",
       "80  2007-06-08 Colour 5\n",
       "81  2007-06-17 Colour 1\n",
       "82  2007-06-22 Colour 2\n",
       "83  2007-11-10 Colour 3\n",
       "84  2007-11-18 Colour 4\n",
       "85  2007-09-07 Colour 5\n",
       "86  2007-02-09 Colour 1\n",
       "87  2007-05-08 Colour 2\n",
       "88  2007-10-02 Colour 3\n",
       "89  2007-12-03 Colour 4\n",
       "90  2007-04-02 Colour 5\n",
       "91  2007-01-08 Colour 1\n",
       "92  2007-06-30 Colour 2\n",
       "93  2007-11-26 Colour 3\n",
       "94  2007-09-30 Colour 4\n",
       "95  2007-02-27 Colour 5\n",
       "96  2007-09-04 Colour 1\n",
       "97  2007-06-02 Colour 2\n",
       "98  2007-03-15 Colour 3\n",
       "99  2007-03-17 Colour 4\n",
       "100 2007-05-14 Colour 5"
      ]
     },
     "metadata": {},
     "output_type": "display_data"
    }
   ],
   "source": [
    "(datf<-data.frame(d=sample(dates2007,100,replace=TRUE),c=xf)  )"
   ]
  },
  {
   "cell_type": "markdown",
   "metadata": {},
   "source": [
    "  \n",
    "* Select the rows for which the date is after 1st June 2007."
   ]
  },
  {
   "cell_type": "code",
   "execution_count": 11,
   "metadata": {},
   "outputs": [
    {
     "data": {
      "text/html": [
       "<table>\n",
       "<thead><tr><th></th><th scope=col>d</th><th scope=col>c</th></tr></thead>\n",
       "<tbody>\n",
       "\t<tr><th scope=row>2</th><td>2007-12-06</td><td>Colour 2  </td></tr>\n",
       "\t<tr><th scope=row>4</th><td>2007-06-18</td><td>Colour 4  </td></tr>\n",
       "\t<tr><th scope=row>5</th><td>2007-11-21</td><td>Colour 5  </td></tr>\n",
       "\t<tr><th scope=row>6</th><td>2007-10-07</td><td>Colour 1  </td></tr>\n",
       "\t<tr><th scope=row>7</th><td>2007-12-17</td><td>Colour 2  </td></tr>\n",
       "\t<tr><th scope=row>8</th><td>2007-12-29</td><td>Colour 3  </td></tr>\n",
       "\t<tr><th scope=row>10</th><td>2007-12-02</td><td>Colour 5  </td></tr>\n",
       "\t<tr><th scope=row>11</th><td>2007-06-13</td><td>Colour 1  </td></tr>\n",
       "\t<tr><th scope=row>13</th><td>2007-12-31</td><td>Colour 3  </td></tr>\n",
       "\t<tr><th scope=row>15</th><td>2007-06-02</td><td>Colour 5  </td></tr>\n",
       "\t<tr><th scope=row>16</th><td>2007-06-29</td><td>Colour 1  </td></tr>\n",
       "\t<tr><th scope=row>17</th><td>2007-09-07</td><td>Colour 2  </td></tr>\n",
       "\t<tr><th scope=row>18</th><td>2007-09-30</td><td>Colour 3  </td></tr>\n",
       "\t<tr><th scope=row>19</th><td>2007-06-15</td><td>Colour 4  </td></tr>\n",
       "\t<tr><th scope=row>23</th><td>2007-10-06</td><td>Colour 3  </td></tr>\n",
       "\t<tr><th scope=row>24</th><td>2007-10-11</td><td>Colour 4  </td></tr>\n",
       "\t<tr><th scope=row>25</th><td>2007-06-29</td><td>Colour 5  </td></tr>\n",
       "\t<tr><th scope=row>29</th><td>2007-07-05</td><td>Colour 4  </td></tr>\n",
       "\t<tr><th scope=row>31</th><td>2007-09-26</td><td>Colour 1  </td></tr>\n",
       "\t<tr><th scope=row>32</th><td>2007-07-27</td><td>Colour 2  </td></tr>\n",
       "\t<tr><th scope=row>33</th><td>2007-07-29</td><td>Colour 3  </td></tr>\n",
       "\t<tr><th scope=row>34</th><td>2007-07-08</td><td>Colour 4  </td></tr>\n",
       "\t<tr><th scope=row>36</th><td>2007-11-14</td><td>Colour 1  </td></tr>\n",
       "\t<tr><th scope=row>38</th><td>2007-10-08</td><td>Colour 3  </td></tr>\n",
       "\t<tr><th scope=row>39</th><td>2007-07-24</td><td>Colour 4  </td></tr>\n",
       "\t<tr><th scope=row>40</th><td>2007-10-03</td><td>Colour 5  </td></tr>\n",
       "\t<tr><th scope=row>41</th><td>2007-10-27</td><td>Colour 1  </td></tr>\n",
       "\t<tr><th scope=row>42</th><td>2007-08-07</td><td>Colour 2  </td></tr>\n",
       "\t<tr><th scope=row>43</th><td>2007-12-05</td><td>Colour 3  </td></tr>\n",
       "\t<tr><th scope=row>44</th><td>2007-09-27</td><td>Colour 4  </td></tr>\n",
       "\t<tr><th scope=row>...</th><td>...</td><td>...</td></tr>\n",
       "\t<tr><th scope=row>48</th><td>2007-09-18</td><td>Colour 3  </td></tr>\n",
       "\t<tr><th scope=row>49</th><td>2007-10-21</td><td>Colour 4  </td></tr>\n",
       "\t<tr><th scope=row>51</th><td>2007-10-23</td><td>Colour 1  </td></tr>\n",
       "\t<tr><th scope=row>52</th><td>2007-06-28</td><td>Colour 2  </td></tr>\n",
       "\t<tr><th scope=row>54</th><td>2007-10-25</td><td>Colour 4  </td></tr>\n",
       "\t<tr><th scope=row>56</th><td>2007-08-26</td><td>Colour 1  </td></tr>\n",
       "\t<tr><th scope=row>57</th><td>2007-06-12</td><td>Colour 2  </td></tr>\n",
       "\t<tr><th scope=row>58</th><td>2007-07-31</td><td>Colour 3  </td></tr>\n",
       "\t<tr><th scope=row>59</th><td>2007-10-23</td><td>Colour 4  </td></tr>\n",
       "\t<tr><th scope=row>60</th><td>2007-06-15</td><td>Colour 5  </td></tr>\n",
       "\t<tr><th scope=row>61</th><td>2007-12-09</td><td>Colour 1  </td></tr>\n",
       "\t<tr><th scope=row>63</th><td>2007-08-12</td><td>Colour 3  </td></tr>\n",
       "\t<tr><th scope=row>64</th><td>2007-06-10</td><td>Colour 4  </td></tr>\n",
       "\t<tr><th scope=row>66</th><td>2007-10-28</td><td>Colour 1  </td></tr>\n",
       "\t<tr><th scope=row>69</th><td>2007-12-14</td><td>Colour 4  </td></tr>\n",
       "\t<tr><th scope=row>73</th><td>2007-08-07</td><td>Colour 3  </td></tr>\n",
       "\t<tr><th scope=row>74</th><td>2007-07-24</td><td>Colour 4  </td></tr>\n",
       "\t<tr><th scope=row>80</th><td>2007-06-08</td><td>Colour 5  </td></tr>\n",
       "\t<tr><th scope=row>81</th><td>2007-06-17</td><td>Colour 1  </td></tr>\n",
       "\t<tr><th scope=row>82</th><td>2007-06-22</td><td>Colour 2  </td></tr>\n",
       "\t<tr><th scope=row>83</th><td>2007-11-10</td><td>Colour 3  </td></tr>\n",
       "\t<tr><th scope=row>84</th><td>2007-11-18</td><td>Colour 4  </td></tr>\n",
       "\t<tr><th scope=row>85</th><td>2007-09-07</td><td>Colour 5  </td></tr>\n",
       "\t<tr><th scope=row>88</th><td>2007-10-02</td><td>Colour 3  </td></tr>\n",
       "\t<tr><th scope=row>89</th><td>2007-12-03</td><td>Colour 4  </td></tr>\n",
       "\t<tr><th scope=row>92</th><td>2007-06-30</td><td>Colour 2  </td></tr>\n",
       "\t<tr><th scope=row>93</th><td>2007-11-26</td><td>Colour 3  </td></tr>\n",
       "\t<tr><th scope=row>94</th><td>2007-09-30</td><td>Colour 4  </td></tr>\n",
       "\t<tr><th scope=row>96</th><td>2007-09-04</td><td>Colour 1  </td></tr>\n",
       "\t<tr><th scope=row>97</th><td>2007-06-02</td><td>Colour 2  </td></tr>\n",
       "</tbody>\n",
       "</table>\n"
      ],
      "text/latex": [
       "\\begin{tabular}{r|ll}\n",
       "  & d & c\\\\\n",
       "\\hline\n",
       "\t2 & 2007-12-06 & Colour 2  \\\\\n",
       "\t4 & 2007-06-18 & Colour 4  \\\\\n",
       "\t5 & 2007-11-21 & Colour 5  \\\\\n",
       "\t6 & 2007-10-07 & Colour 1  \\\\\n",
       "\t7 & 2007-12-17 & Colour 2  \\\\\n",
       "\t8 & 2007-12-29 & Colour 3  \\\\\n",
       "\t10 & 2007-12-02 & Colour 5  \\\\\n",
       "\t11 & 2007-06-13 & Colour 1  \\\\\n",
       "\t13 & 2007-12-31 & Colour 3  \\\\\n",
       "\t15 & 2007-06-02 & Colour 5  \\\\\n",
       "\t16 & 2007-06-29 & Colour 1  \\\\\n",
       "\t17 & 2007-09-07 & Colour 2  \\\\\n",
       "\t18 & 2007-09-30 & Colour 3  \\\\\n",
       "\t19 & 2007-06-15 & Colour 4  \\\\\n",
       "\t23 & 2007-10-06 & Colour 3  \\\\\n",
       "\t24 & 2007-10-11 & Colour 4  \\\\\n",
       "\t25 & 2007-06-29 & Colour 5  \\\\\n",
       "\t29 & 2007-07-05 & Colour 4  \\\\\n",
       "\t31 & 2007-09-26 & Colour 1  \\\\\n",
       "\t32 & 2007-07-27 & Colour 2  \\\\\n",
       "\t33 & 2007-07-29 & Colour 3  \\\\\n",
       "\t34 & 2007-07-08 & Colour 4  \\\\\n",
       "\t36 & 2007-11-14 & Colour 1  \\\\\n",
       "\t38 & 2007-10-08 & Colour 3  \\\\\n",
       "\t39 & 2007-07-24 & Colour 4  \\\\\n",
       "\t40 & 2007-10-03 & Colour 5  \\\\\n",
       "\t41 & 2007-10-27 & Colour 1  \\\\\n",
       "\t42 & 2007-08-07 & Colour 2  \\\\\n",
       "\t43 & 2007-12-05 & Colour 3  \\\\\n",
       "\t44 & 2007-09-27 & Colour 4  \\\\\n",
       "\t... & ... & ...\\\\\n",
       "\t48 & 2007-09-18 & Colour 3  \\\\\n",
       "\t49 & 2007-10-21 & Colour 4  \\\\\n",
       "\t51 & 2007-10-23 & Colour 1  \\\\\n",
       "\t52 & 2007-06-28 & Colour 2  \\\\\n",
       "\t54 & 2007-10-25 & Colour 4  \\\\\n",
       "\t56 & 2007-08-26 & Colour 1  \\\\\n",
       "\t57 & 2007-06-12 & Colour 2  \\\\\n",
       "\t58 & 2007-07-31 & Colour 3  \\\\\n",
       "\t59 & 2007-10-23 & Colour 4  \\\\\n",
       "\t60 & 2007-06-15 & Colour 5  \\\\\n",
       "\t61 & 2007-12-09 & Colour 1  \\\\\n",
       "\t63 & 2007-08-12 & Colour 3  \\\\\n",
       "\t64 & 2007-06-10 & Colour 4  \\\\\n",
       "\t66 & 2007-10-28 & Colour 1  \\\\\n",
       "\t69 & 2007-12-14 & Colour 4  \\\\\n",
       "\t73 & 2007-08-07 & Colour 3  \\\\\n",
       "\t74 & 2007-07-24 & Colour 4  \\\\\n",
       "\t80 & 2007-06-08 & Colour 5  \\\\\n",
       "\t81 & 2007-06-17 & Colour 1  \\\\\n",
       "\t82 & 2007-06-22 & Colour 2  \\\\\n",
       "\t83 & 2007-11-10 & Colour 3  \\\\\n",
       "\t84 & 2007-11-18 & Colour 4  \\\\\n",
       "\t85 & 2007-09-07 & Colour 5  \\\\\n",
       "\t88 & 2007-10-02 & Colour 3  \\\\\n",
       "\t89 & 2007-12-03 & Colour 4  \\\\\n",
       "\t92 & 2007-06-30 & Colour 2  \\\\\n",
       "\t93 & 2007-11-26 & Colour 3  \\\\\n",
       "\t94 & 2007-09-30 & Colour 4  \\\\\n",
       "\t96 & 2007-09-04 & Colour 1  \\\\\n",
       "\t97 & 2007-06-02 & Colour 2  \\\\\n",
       "\\end{tabular}\n"
      ],
      "text/markdown": [
       "\n",
       "| <!--/--> | d | c | \n",
       "|---|---|---|---|---|---|---|---|---|---|---|---|---|---|---|---|---|---|---|---|---|---|---|---|---|---|---|---|---|---|---|---|---|---|---|---|---|---|---|---|---|---|---|---|---|---|---|---|---|---|---|---|---|---|---|---|---|---|---|---|---|\n",
       "| 2 | 2007-12-06 | Colour 2   | \n",
       "| 4 | 2007-06-18 | Colour 4   | \n",
       "| 5 | 2007-11-21 | Colour 5   | \n",
       "| 6 | 2007-10-07 | Colour 1   | \n",
       "| 7 | 2007-12-17 | Colour 2   | \n",
       "| 8 | 2007-12-29 | Colour 3   | \n",
       "| 10 | 2007-12-02 | Colour 5   | \n",
       "| 11 | 2007-06-13 | Colour 1   | \n",
       "| 13 | 2007-12-31 | Colour 3   | \n",
       "| 15 | 2007-06-02 | Colour 5   | \n",
       "| 16 | 2007-06-29 | Colour 1   | \n",
       "| 17 | 2007-09-07 | Colour 2   | \n",
       "| 18 | 2007-09-30 | Colour 3   | \n",
       "| 19 | 2007-06-15 | Colour 4   | \n",
       "| 23 | 2007-10-06 | Colour 3   | \n",
       "| 24 | 2007-10-11 | Colour 4   | \n",
       "| 25 | 2007-06-29 | Colour 5   | \n",
       "| 29 | 2007-07-05 | Colour 4   | \n",
       "| 31 | 2007-09-26 | Colour 1   | \n",
       "| 32 | 2007-07-27 | Colour 2   | \n",
       "| 33 | 2007-07-29 | Colour 3   | \n",
       "| 34 | 2007-07-08 | Colour 4   | \n",
       "| 36 | 2007-11-14 | Colour 1   | \n",
       "| 38 | 2007-10-08 | Colour 3   | \n",
       "| 39 | 2007-07-24 | Colour 4   | \n",
       "| 40 | 2007-10-03 | Colour 5   | \n",
       "| 41 | 2007-10-27 | Colour 1   | \n",
       "| 42 | 2007-08-07 | Colour 2   | \n",
       "| 43 | 2007-12-05 | Colour 3   | \n",
       "| 44 | 2007-09-27 | Colour 4   | \n",
       "| ... | ... | ... | \n",
       "| 48 | 2007-09-18 | Colour 3   | \n",
       "| 49 | 2007-10-21 | Colour 4   | \n",
       "| 51 | 2007-10-23 | Colour 1   | \n",
       "| 52 | 2007-06-28 | Colour 2   | \n",
       "| 54 | 2007-10-25 | Colour 4   | \n",
       "| 56 | 2007-08-26 | Colour 1   | \n",
       "| 57 | 2007-06-12 | Colour 2   | \n",
       "| 58 | 2007-07-31 | Colour 3   | \n",
       "| 59 | 2007-10-23 | Colour 4   | \n",
       "| 60 | 2007-06-15 | Colour 5   | \n",
       "| 61 | 2007-12-09 | Colour 1   | \n",
       "| 63 | 2007-08-12 | Colour 3   | \n",
       "| 64 | 2007-06-10 | Colour 4   | \n",
       "| 66 | 2007-10-28 | Colour 1   | \n",
       "| 69 | 2007-12-14 | Colour 4   | \n",
       "| 73 | 2007-08-07 | Colour 3   | \n",
       "| 74 | 2007-07-24 | Colour 4   | \n",
       "| 80 | 2007-06-08 | Colour 5   | \n",
       "| 81 | 2007-06-17 | Colour 1   | \n",
       "| 82 | 2007-06-22 | Colour 2   | \n",
       "| 83 | 2007-11-10 | Colour 3   | \n",
       "| 84 | 2007-11-18 | Colour 4   | \n",
       "| 85 | 2007-09-07 | Colour 5   | \n",
       "| 88 | 2007-10-02 | Colour 3   | \n",
       "| 89 | 2007-12-03 | Colour 4   | \n",
       "| 92 | 2007-06-30 | Colour 2   | \n",
       "| 93 | 2007-11-26 | Colour 3   | \n",
       "| 94 | 2007-09-30 | Colour 4   | \n",
       "| 96 | 2007-09-04 | Colour 1   | \n",
       "| 97 | 2007-06-02 | Colour 2   | \n",
       "\n",
       "\n"
      ],
      "text/plain": [
       "    d          c       \n",
       "2   2007-12-06 Colour 2\n",
       "4   2007-06-18 Colour 4\n",
       "5   2007-11-21 Colour 5\n",
       "6   2007-10-07 Colour 1\n",
       "7   2007-12-17 Colour 2\n",
       "8   2007-12-29 Colour 3\n",
       "10  2007-12-02 Colour 5\n",
       "11  2007-06-13 Colour 1\n",
       "13  2007-12-31 Colour 3\n",
       "15  2007-06-02 Colour 5\n",
       "16  2007-06-29 Colour 1\n",
       "17  2007-09-07 Colour 2\n",
       "18  2007-09-30 Colour 3\n",
       "19  2007-06-15 Colour 4\n",
       "23  2007-10-06 Colour 3\n",
       "24  2007-10-11 Colour 4\n",
       "25  2007-06-29 Colour 5\n",
       "29  2007-07-05 Colour 4\n",
       "31  2007-09-26 Colour 1\n",
       "32  2007-07-27 Colour 2\n",
       "33  2007-07-29 Colour 3\n",
       "34  2007-07-08 Colour 4\n",
       "36  2007-11-14 Colour 1\n",
       "38  2007-10-08 Colour 3\n",
       "39  2007-07-24 Colour 4\n",
       "40  2007-10-03 Colour 5\n",
       "41  2007-10-27 Colour 1\n",
       "42  2007-08-07 Colour 2\n",
       "43  2007-12-05 Colour 3\n",
       "44  2007-09-27 Colour 4\n",
       "... ...        ...     \n",
       "48  2007-09-18 Colour 3\n",
       "49  2007-10-21 Colour 4\n",
       "51  2007-10-23 Colour 1\n",
       "52  2007-06-28 Colour 2\n",
       "54  2007-10-25 Colour 4\n",
       "56  2007-08-26 Colour 1\n",
       "57  2007-06-12 Colour 2\n",
       "58  2007-07-31 Colour 3\n",
       "59  2007-10-23 Colour 4\n",
       "60  2007-06-15 Colour 5\n",
       "61  2007-12-09 Colour 1\n",
       "63  2007-08-12 Colour 3\n",
       "64  2007-06-10 Colour 4\n",
       "66  2007-10-28 Colour 1\n",
       "69  2007-12-14 Colour 4\n",
       "73  2007-08-07 Colour 3\n",
       "74  2007-07-24 Colour 4\n",
       "80  2007-06-08 Colour 5\n",
       "81  2007-06-17 Colour 1\n",
       "82  2007-06-22 Colour 2\n",
       "83  2007-11-10 Colour 3\n",
       "84  2007-11-18 Colour 4\n",
       "85  2007-09-07 Colour 5\n",
       "88  2007-10-02 Colour 3\n",
       "89  2007-12-03 Colour 4\n",
       "92  2007-06-30 Colour 2\n",
       "93  2007-11-26 Colour 3\n",
       "94  2007-09-30 Colour 4\n",
       "96  2007-09-04 Colour 1\n",
       "97  2007-06-02 Colour 2"
      ]
     },
     "metadata": {},
     "output_type": "display_data"
    }
   ],
   "source": [
    "datf[datf$d-as.Date('1-June-2007', format=\"%d-%b-%Y\")>0,]"
   ]
  },
  {
   "cell_type": "markdown",
   "metadata": {},
   "source": [
    ":Solution+"
   ]
  },
  {
   "cell_type": "markdown",
   "metadata": {},
   "source": [
    "## Exercise: 2\n",
    "\n",
    "* Generate a matrix with 10 rows and 5 columns, with random entries between 0 and 10. (Hint: look at ```runif```)\n",
    "\n",
    "*  Write a function using ```for``` to calculate the column means of the matrix.\n",
    "\n",
    "*  Extract the even rows from the matrix.\n",
    "\n",
    "[Solution]()"
   ]
  },
  {
   "cell_type": "markdown",
   "metadata": {},
   "source": [
    "## Solution+: 2"
   ]
  },
  {
   "cell_type": "markdown",
   "metadata": {},
   "source": [
    "* Generate a matrix with 10 rows and 5 columns, with random entries\n",
    "  between 0 and 10. (Hint: look at ```runif```)"
   ]
  },
  {
   "cell_type": "code",
   "execution_count": 12,
   "metadata": {},
   "outputs": [],
   "source": [
    "matti<-matrix(runif(50,0,10),nrow=10)"
   ]
  },
  {
   "cell_type": "markdown",
   "metadata": {},
   "source": [
    "*  Write a function using ```for``` to calculate the column means of\n",
    "  the matrix."
   ]
  },
  {
   "cell_type": "code",
   "execution_count": 13,
   "metadata": {},
   "outputs": [
    {
     "data": {
      "text/html": [
       "<ol class=list-inline>\n",
       "\t<li>4.33525441563688</li>\n",
       "\t<li>4.02132455212995</li>\n",
       "\t<li>5.08030531811528</li>\n",
       "\t<li>5.22214761795476</li>\n",
       "\t<li>5.49278488778509</li>\n",
       "</ol>\n"
      ],
      "text/latex": [
       "\\begin{enumerate*}\n",
       "\\item 4.33525441563688\n",
       "\\item 4.02132455212995\n",
       "\\item 5.08030531811528\n",
       "\\item 5.22214761795476\n",
       "\\item 5.49278488778509\n",
       "\\end{enumerate*}\n"
      ],
      "text/markdown": [
       "1. 4.33525441563688\n",
       "2. 4.02132455212995\n",
       "3. 5.08030531811528\n",
       "4. 5.22214761795476\n",
       "5. 5.49278488778509\n",
       "\n",
       "\n"
      ],
      "text/plain": [
       "[1] 4.335254 4.021325 5.080305 5.222148 5.492785"
      ]
     },
     "metadata": {},
     "output_type": "display_data"
    }
   ],
   "source": [
    "for (i in 1:5) mean(matti[,i])\n",
    "apply(matti,2,mean)"
   ]
  },
  {
   "cell_type": "markdown",
   "metadata": {},
   "source": [
    "*  Extract the even rows from the matrix."
   ]
  },
  {
   "cell_type": "code",
   "execution_count": 14,
   "metadata": {},
   "outputs": [
    {
     "data": {
      "text/html": [
       "<table>\n",
       "<tbody>\n",
       "\t<tr><td>1.809024 </td><td>7.4299051</td><td>2.914167 </td><td>7.9939373</td><td>3.804061 </td></tr>\n",
       "\t<tr><td>9.422536 </td><td>2.1948195</td><td>9.004747 </td><td>1.7392336</td><td>7.476902 </td></tr>\n",
       "\t<tr><td>4.024851 </td><td>9.8905019</td><td>3.193427 </td><td>6.3106328</td><td>7.187629 </td></tr>\n",
       "\t<tr><td>5.633283 </td><td>5.6588363</td><td>2.141353 </td><td>2.4566433</td><td>7.913578 </td></tr>\n",
       "\t<tr><td>6.239367 </td><td>0.6260394</td><td>8.586384 </td><td>0.7935159</td><td>1.967952 </td></tr>\n",
       "</tbody>\n",
       "</table>\n"
      ],
      "text/latex": [
       "\\begin{tabular}{lllll}\n",
       "\t 1.809024  & 7.4299051 & 2.914167  & 7.9939373 & 3.804061 \\\\\n",
       "\t 9.422536  & 2.1948195 & 9.004747  & 1.7392336 & 7.476902 \\\\\n",
       "\t 4.024851  & 9.8905019 & 3.193427  & 6.3106328 & 7.187629 \\\\\n",
       "\t 5.633283  & 5.6588363 & 2.141353  & 2.4566433 & 7.913578 \\\\\n",
       "\t 6.239367  & 0.6260394 & 8.586384  & 0.7935159 & 1.967952 \\\\\n",
       "\\end{tabular}\n"
      ],
      "text/markdown": [
       "\n",
       "| 1.809024  | 7.4299051 | 2.914167  | 7.9939373 | 3.804061  | \n",
       "| 9.422536  | 2.1948195 | 9.004747  | 1.7392336 | 7.476902  | \n",
       "| 4.024851  | 9.8905019 | 3.193427  | 6.3106328 | 7.187629  | \n",
       "| 5.633283  | 5.6588363 | 2.141353  | 2.4566433 | 7.913578  | \n",
       "| 6.239367  | 0.6260394 | 8.586384  | 0.7935159 | 1.967952  | \n",
       "\n",
       "\n"
      ],
      "text/plain": [
       "     [,1]     [,2]      [,3]     [,4]      [,5]    \n",
       "[1,] 1.809024 7.4299051 2.914167 7.9939373 3.804061\n",
       "[2,] 9.422536 2.1948195 9.004747 1.7392336 7.476902\n",
       "[3,] 4.024851 9.8905019 3.193427 6.3106328 7.187629\n",
       "[4,] 5.633283 5.6588363 2.141353 2.4566433 7.913578\n",
       "[5,] 6.239367 0.6260394 8.586384 0.7935159 1.967952"
      ]
     },
     "metadata": {},
     "output_type": "display_data"
    }
   ],
   "source": [
    "matti[seq(2,10,2),]"
   ]
  },
  {
   "cell_type": "markdown",
   "metadata": {},
   "source": [
    ": solution+"
   ]
  }
 ],
 "metadata": {
  "kernelspec": {
   "display_name": "R",
   "language": "R",
   "name": "ir"
  },
  "language_info": {
   "codemirror_mode": "r",
   "file_extension": ".r",
   "mimetype": "text/x-r-source",
   "name": "R",
   "pygments_lexer": "r",
   "version": "3.6.1"
  }
 },
 "nbformat": 4,
 "nbformat_minor": 2
}
