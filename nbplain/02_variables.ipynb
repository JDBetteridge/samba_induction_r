{
 "cells": [
  {
   "cell_type": "markdown",
   "metadata": {},
   "source": [
    "# Variables, data frames, indexing, functions etc"
   ]
  },
  {
   "cell_type": "code",
   "execution_count": null,
   "metadata": {},
   "outputs": [],
   "source": [
    "#setwd(\"/maths/research/nha20/Teach/RIntroCourse\") Set working directory & ensure any files used are in this directory."
   ]
  },
  {
   "cell_type": "markdown",
   "metadata": {},
   "source": [
    "## Computer representation of numbers\n",
    "\n",
    "Real numbers are not stored exactly on computers. Use binary version of ``scientific'' notation e.g. $1.234 \\times 10^2$. This needs care e.g."
   ]
  },
  {
   "cell_type": "code",
   "execution_count": 2,
   "metadata": {},
   "outputs": [
    {
     "ename": "ERROR",
     "evalue": "Error in parse(text = x, srcfile = src): <text>:1:1: unexpected SPECIAL\n1: %%\n    ^\n",
     "output_type": "error",
     "traceback": [
      "Error in parse(text = x, srcfile = src): <text>:1:1: unexpected SPECIAL\n1: %%\n    ^\nTraceback:\n"
     ]
    }
   ],
   "source": [
    "\n",
    "x <- seq(0, 0.5, 0.1) ##generate a sequence from 0 to 0.5 in steps of 0.1\n",
    "x ##Look at x\n"
   ]
  },
  {
   "cell_type": "markdown",
   "metadata": {},
   "source": [
    "Is x equal to (0, 0.1, 0.2, 0.3, 0.4, 0.5)? To find out, type"
   ]
  },
  {
   "cell_type": "markdown",
   "metadata": {},
   "source": [
    "x == c(0, 0.1, 0.2, 0.3, 0.4, 0.5)\n"
   ]
  },
  {
   "cell_type": "markdown",
   "metadata": {},
   "source": [
    "This is known as _FAQ 7.31_: see [https://cran.r-project.org/doc/FAQ/R-FAQ.html]."
   ]
  },
  {
   "cell_type": "markdown",
   "metadata": {},
   "source": [
    "## Rounding problems\n",
    "\n",
    "Tiny inaccuracies can accumulate:\n",
    "  \n",
    "The sample variance of a vector ```x``` is often calculated as  \n",
    "  \n",
    "   $var (x) = (\\sum x^2-n\\bar{x}^2) / (n-1)$\n",
    "\n",
    "Try it out and compare it with ```var()```: "
   ]
  },
  {
   "cell_type": "markdown",
   "metadata": {},
   "source": [
    " \n",
    "myvar <- function(x) (sum(x^2) - length(x) * mean(x)^2) / (length(x) - 1)\n",
    "x <- seq(1:100)\n",
    "myvar(x)\n",
    "var(x)\n",
    "x <- seq(1:100) + 10000000000\n",
    "myvar(x)\n",
    "var(x)"
   ]
  },
  {
   "cell_type": "markdown",
   "metadata": {},
   "source": [
    "Can you see why there was a problem?"
   ]
  },
  {
   "cell_type": "markdown",
   "metadata": {},
   "source": [
    "## Variables\n",
    "\n",
    "Basic Types of Variables\n",
    "\n",
    "Variables are the equivalent of memories in your calculator. But you can have unlimited (almost!) quantities of them and they have names of your choosing. And different   types. The basic types are\n",
    "\n",
    " + integer\n",
    " + double\n",
    " + character\n",
    " + logical: these take one of the two values ```TRUE``` or ```FALSE```\n",
    "    (or ```NA```, see later)\n",
    " + factor or categorical\n",
    " "
   ]
  },
  {
   "cell_type": "markdown",
   "metadata": {},
   "source": [
    "## More Specialised Classes\n",
    "\n",
    "As well as the basic types of variables, R recognises many more complicated  objects such as \n",
    "\n",
    "* **vectors**, **matrices**, **arrays**: groups of objects all of the same type\n",
    " \n",
    "* **lists** of other objects which may be of different types\n",
    "\n",
    "*  Specialised objects such as **Dates**, **Linear Model fits**"
   ]
  },
  {
   "cell_type": "markdown",
   "metadata": {},
   "source": [
    "  \n",
    "## Special values of objects\n",
    "\n",
    "There are some types of data which need to be treated specially in calculations:\n",
    "\n",
    "* ```NA``` The value ```NA``` is given to any data which R\n",
    "    knows to be missing. This is not a character string, so a\n",
    "    character string with value ```\"NA\"``` will be treated differently\n",
    "    from one with the value ```NA```.\n",
    "\n",
    "*  ```Inf``` The result of e.g. dividing any non-zero number by zero\n",
    "\n",
    "*  ```NaN``` The result of e.g. attempting to find the logarithm of a\n",
    " negative number."
   ]
  },
  {
   "cell_type": "code",
   "execution_count": null,
   "metadata": {},
   "outputs": [],
   "source": [
    " \n",
    "as.numeric(c(\"a\", \"1\"))\n",
    "x / 0\n",
    "log(-x)"
   ]
  },
  {
   "cell_type": "markdown",
   "metadata": {},
   "source": [
    "   \n",
    "## Factors\n",
    "\n",
    "Factors are variables which can only take one of a finite set of discrete values. They naturally occur as vectors, and can be\n",
    "\n",
    "* **numeric** e.g. drug doses with values 1mg, 2mg, 5mg\n",
    "* or **character** e.g. voting intention with values Liberal Democrat, Conservative, Labour, Other\n",
    "  \n",
    "Although factors are stored as numbers, along with the label\n",
    "corresponding to each number, they cannot be treated as numeric. Would\n",
    "it make sense to ask R to calculate ```mean(voting intention)```?\n",
    "\n",
    "A more useful function for factors is ```table``` which will count\n",
    "how many of each value occur in the vector.\n",
    "\n",
    "\n",
    "## Ordered Factors\n",
    "\n",
    "Some factor variables have a natural ordering. Drug doses do, but\n",
    "voting intentions usually do not. R will treat the two types\n",
    "differently. It is important not to allow R to treat non-ordered\n",
    "factors as ordered ones, since the results could be meaningless.\n",
    "\n",
    "## Creating factors\n",
    "\n",
    "Use ```cut``` to create factor variables from continuous ones:"
   ]
  },
  {
   "cell_type": "markdown",
   "metadata": {},
   "source": [
    "age <- runif(100) * 50\n",
    "table(cut(age, c(0, 10, 20, 30, 40, 50)))"
   ]
  },
  {
   "cell_type": "markdown",
   "metadata": {},
   "source": [
    "The function ```factor()`` can be used to create factor variables from characters.\n",
    "\n",
    "## Data frames \n",
    "\n",
    "*For storing data which is a collection of\n",
    "observations (rows) of a set of variables (columns). E.g. book titles\n",
    "and prices.\n",
    "\n",
    "*Similar to a matrix but\n",
    "variables in different columns can have different types.\n",
    "\n",
    "*Always the same number of entries in each row, although some may be\n",
    "missing (```NA```).\n",
    "\n",
    "*Can be formed by reading in data e.g. from a spreadsheet, or\n",
    "constructed using the function ```data.frame```.\n",
    "\n",
    "***Example Chicken weights csv***\n",
    "\n",
    "Copy the file from the webpage to the folder where you are running R."
   ]
  },
  {
   "cell_type": "code",
   "execution_count": null,
   "metadata": {},
   "outputs": [],
   "source": [
    "head(mydata <- read.csv('chickwt.csv'))"
   ]
  },
  {
   "cell_type": "markdown",
   "metadata": {},
   "source": [
    "## Lists\n",
    "\n",
    "A data frame is a kind of list, which is a vector\n",
    "of objects of possibly different types. For example, an employee\n",
    "record might be created by"
   ]
  },
  {
   "cell_type": "code",
   "execution_count": null,
   "metadata": {},
   "outputs": [],
   "source": [
    "Empl <- list(employee = \"Anna\", spouse = \"Fred\", children = 3,\n",
    "             child.ages = c(4, 7, 9))\n",
    "Empl"
   ]
  },
  {
   "cell_type": "markdown",
   "metadata": {},
   "source": [
    "Try the following:"
   ]
  },
  {
   "cell_type": "code",
   "execution_count": null,
   "metadata": {},
   "outputs": [],
   "source": [
    "Empl[[1]]\n",
    "Empl$spouse\n",
    "\n",
    "Empl[[4]]\n",
    "length(Empl[[4]]) # numeric vector of length 3\n",
    "\n",
    "Empl[4]\n",
    "length(Empl[4]) # list of length 1\n",
    "Empl[[2:4]] # note that this will produce an error\n",
    "Empl[2:4]  # this works"
   ]
  },
  {
   "cell_type": "markdown",
   "metadata": {},
   "source": [
    "Components are always numbered and may be referred to by\n",
    "number. e.g. ```Empl[[1]]```. If they are named, can also be\n",
    "referred to by name using the \\$ operator eg. ```Empl$spouse```\n",
    "\n",
    "## Keeping track of objects\n",
    "\n",
    "Once you have created some objects, how do you remind yourself what you called them? "
   ]
  },
  {
   "cell_type": "code",
   "execution_count": null,
   "metadata": {},
   "outputs": [],
   "source": [
    "ls()\n",
    "str(Empl)"
   ]
  },
  {
   "cell_type": "markdown",
   "metadata": {},
   "source": [
    "```ls()``` lists the names of all the objects in you workspace and ```str()`` gives information about a specific object.\n",
    "\n",
    "## Operators\n",
    "\n",
    "Arithmetic Operators: ```+, - , /, *, ^```."
   ]
  },
  {
   "cell_type": "code",
   "execution_count": null,
   "metadata": {},
   "outputs": [],
   "source": [
    "3^2\n",
    "10 %% 3 # modulo reduction\n",
    "10 %/% 3 # integer division\n",
    "\n",
    "a <- matrix(1:4, nrow=2)\n",
    "b <- matrix(c(2, 1, 2, 4), nrow=2)\n",
    "a %*% b # matrix multiplication"
   ]
  },
  {
   "cell_type": "markdown",
   "metadata": {},
   "source": [
    "Operators can also be used on vectors, with recycling if necessary. "
   ]
  },
  {
   "cell_type": "markdown",
   "metadata": {},
   "source": [
    "```R\n",
    "x <- c(1, 2, 3, 4)\n",
    "y <- c(5, 6)\n",
    "x + 3\n",
    "#(4,5,6,7) and\n",
    "x + y\n",
    "#(6,8,8,10)\n",
    "```"
   ]
  },
  {
   "cell_type": "markdown",
   "metadata": {},
   "source": [
    "## Logical operators\n",
    "\n",
    "* ```==``` (equal), ```!=``` (not equal), ```>, <, >=, <=```\n",
    "\n",
    "* ```!``` (not), ```|``` (or), ```||``` (or), ```&``` (and) ```&&``` (and)\n",
    "\n",
    "* ```|```, ```&``` work on vectors \n",
    "\n",
    "* ```||``` and ```&&``` consider only one element"
   ]
  },
  {
   "cell_type": "markdown",
   "metadata": {},
   "source": [
    "Examples:"
   ]
  },
  {
   "cell_type": "code",
   "execution_count": null,
   "metadata": {},
   "outputs": [],
   "source": [
    "x <- c(TRUE, FALSE, TRUE)\n",
    "y <- c(FALSE, TRUE, TRUE)\n",
    "\n",
    "x | y\n",
    "x || y\n",
    "\n",
    "x & y\n",
    "x && y\n",
    "x[3] && y[3]"
   ]
  },
  {
   "cell_type": "markdown",
   "metadata": {},
   "source": [
    "The && is also a \"short circuit and\", i.e. it won't evaluate its second argument if the first argument is FALSE. Compare the following"
   ]
  },
  {
   "cell_type": "code",
   "execution_count": null,
   "metadata": {},
   "outputs": [],
   "source": [
    "x <- -1\n",
    "\n",
    "(x > 0) & (log(x) > 0)\n",
    "\n",
    "(x > 0) && (log(x) > 0)"
   ]
  },
  {
   "cell_type": "markdown",
   "metadata": {},
   "source": [
    "## Dates\n",
    "Example:"
   ]
  },
  {
   "cell_type": "code",
   "execution_count": null,
   "metadata": {},
   "outputs": [],
   "source": [
    "myDate <- as.Date('10-Jan-1993', format=\"%d-%b-%Y\")\n",
    "\n",
    "class(myDate)\n",
    "as.numeric(myDate)\n",
    "\n",
    "myDate2 <- as.Date('10-Jan-1994', format=\"%d-%b-%Y\")\n",
    "\n",
    "myDate2-myDate # can substract two dates"
   ]
  },
  {
   "cell_type": "markdown",
   "metadata": {},
   "source": [
    "```Date```class does not deal with times. Classes ```POSICXct``` and ```POSIXlt``` deal with time zones.  \n",
    "\n",
    "\n",
    "## Some useful functions\n",
    "Look at the following functions:"
   ]
  },
  {
   "cell_type": "code",
   "execution_count": null,
   "metadata": {},
   "outputs": [],
   "source": [
    "c(1, \"a\")\n",
    "1:5\n",
    "c(1,2,3,4,5)\n",
    "seq(1, 10, by=2)\n",
    "rep(c(1, 2), times=3) \n",
    "rep(c(1, 2), each=3) \n",
    "rep(c(1, 2), c(2, 3)) \n",
    "\n",
    "\n",
    "paste(c(1, 2), c('x', 'y', 'z'))\n",
    "paste(c(1, 2), c('x', 'y', 'z'), collapse=' ')\n",
    "\n",
    "sort(mydata$weight)\n",
    "sort(mydata$weight, decreasing=TRUE)\n",
    "\n",
    "table(rpois(20, 5))"
   ]
  },
  {
   "cell_type": "markdown",
   "metadata": {},
   "source": [
    "## Matrices, arrays and indexing"
   ]
  },
  {
   "cell_type": "code",
   "execution_count": null,
   "metadata": {},
   "outputs": [],
   "source": [
    "(mymat <- matrix(1:12, 3, 4)) # Entries go down columns unless you specify byrow=TRUE.\n",
    "dim(mymat)\n",
    "myarr<-mymat\n",
    "dim(myarr) <-c(3,2,2) # creating an array\n",
    "myarr\n",
    "myarr[,,1] # using indexing to select the entries of the arrays third dimension y\n",
    "\n",
    "x <-c(2,4,6,8,10,12)\n",
    "names(x) <- c(\"a\", \"b\", \"c\", \"d\", \"e\", \"f\")\n",
    "\n",
    "## Use different types of indices\n",
    "x[c(1,3,6,5)] \n",
    "x[c(\"a\",\"c\",\"f\", \"e\")] ## gives same as above\n",
    "x[c(TRUE,FALSE,TRUE,rep(FALSE,3))] # can also use logical vectors to select entries\n",
    "x[c(-1,-4)] ## exclude first and fourth entry\n",
    "\n",
    "y<-x\n",
    "(y[] <- 0 ) ## Empty. Select all, useful to replace all vector entries\n",
    "names(y) ## will be the same as before\n",
    "\n",
    "# compare with:\n",
    "y<-x\n",
    "(y<-0) \n",
    "\n",
    "# Recycling:\n",
    "x[c(1,3)] <-4.5 # recycling will be used if sub-vector selected for replacement is longer than the right-hand side.\n",
    "\n",
    "(x[10] <- 8) # replacing to an index greater than the length of the vector extends it, filling in with NA's\n",
    "\n",
    "x[11] # returns NA\n",
    "\n",
    "# indexing matrices and arrays\n",
    "mymat[1:2, -2]\n",
    "mymat[mymat>1] <- NA # note: no comma\n",
    "mymat[cbind(rep(1,3), c(2,3,4))] <- NA\n",
    "\n",
    "# If the result has length 1 in any dimension, this is dropped unless you use the argument drop=FALSE:\n",
    "mydata[1:2, 1] #is a vector\n",
    "mydata[1, 1:2] #is a data.frame\n",
    "class(mydata[1:2, 1])\n",
    "class(mydata[1, 1:2])\n",
    "mydata[mydata$weight > 400,]"
   ]
  },
  {
   "cell_type": "markdown",
   "metadata": {},
   "source": [
    "## Indexing data frames\n",
    "\n",
    "* Data frames can be indexed like matrices, but only ```drop``` dimensions if you select from a single column, not if you select from a single row.\n",
    "\n",
    "* If you select rows from a data frame with only one column the result will be a vector unless you use ```drop=FALSE```\n",
    "\n",
    "* Often want to select the rows of a data frame which meet some criterion.\n",
    "\n",
    "* use logical indexing"
   ]
  },
  {
   "cell_type": "code",
   "execution_count": null,
   "metadata": {},
   "outputs": [],
   "source": [
    "mydata[1,]\n",
    "attributes(mydata[,2])\n",
    "\n",
    "mydata[mydata$weight> 400,]"
   ]
  },
  {
   "cell_type": "markdown",
   "metadata": {},
   "source": [
    "## More Examples on matrices: Lower triangular, adding matrices, eigenvalues, column sums, ...\n",
    "\n",
    "Check out the following:"
   ]
  },
  {
   "cell_type": "code",
   "execution_count": null,
   "metadata": {},
   "outputs": [],
   "source": [
    "mymat <- matrix(1:12, nrow=3, )\n",
    "mymat\n",
    "mymat2 <- matrix(1:12, nrow=3, byrow=TRUE)\n",
    "mymat2\n",
    "mymat + mymat2\n",
    "mymat %*% t(mymat2)\n",
    "\n",
    "mysq <- matrix(rnorm(9), nrow=3)\n",
    "solve(mysq)\n",
    "\n",
    "mysym <- mysq\n",
    "mysym[lower.tri(mysym)] <-\n",
    "\tmysym[upper.tri(mysym)]\n",
    "eigen(mysym)\n",
    "colSums(mymat)"
   ]
  },
  {
   "cell_type": "markdown",
   "metadata": {},
   "source": [
    "## Functions\n",
    "\n",
    "Writing simple functions:"
   ]
  },
  {
   "cell_type": "code",
   "execution_count": null,
   "metadata": {},
   "outputs": [],
   "source": [
    "x <- rnorm(100, mean=0.3, sd=1.2)\n",
    "\n",
    "\n",
    "std.dev <- function(x) sqrt(var(x)) # function to calculate the standard deviation of a vector\n",
    "\n",
    "# function to calculate the two-tailed p-value of a t.test\n",
    "# note that function arguments can have default values\n",
    "t.test.p <- function(x, mu=0)  {\n",
    "    n <- length(x)\n",
    "    t <- sqrt(n) * (mean(x) - mu) /\n",
    "\t\tstd.dev(x)\n",
    "    2 * (1 - pt(abs(t), n - 1)) # the object of the final line will be returned\n",
    "}\n",
    "\n",
    "std.dev(x)\n",
    "t.test.p(x) # this will use the default value for mu\n",
    "t.test.p(mu=1, x=x) \n",
    "t.test.p(x, 1)"
   ]
  },
  {
   "cell_type": "markdown",
   "metadata": {},
   "source": [
    "## Flow control: if, for , while, repeat\n"
   ]
  },
  {
   "cell_type": "code",
   "execution_count": null,
   "metadata": {},
   "outputs": [],
   "source": [
    "myfn <- function(n=100)\n",
    "{\n",
    "    tmp <- rep(NA, 3)\n",
    "    tmp[1] <- mean(runif(n))\n",
    "    tmp[2] <- mean(runif(n))\n",
    "    tmp[3] <- mean(runif(n))\n",
    "    mean(tmp[tmp > .2])\n",
    "}\n",
    "set.seed(1)\n",
    "myfn()\n",
    "myfn(1000)"
   ]
  },
  {
   "cell_type": "markdown",
   "metadata": {},
   "source": [
    "## Control flow: if\n",
    "Example"
   ]
  },
  {
   "cell_type": "code",
   "execution_count": null,
   "metadata": {},
   "outputs": [],
   "source": [
    "myfna <- function(n=100)\n",
    "{\n",
    "    tmp <- rep(NA, 3)\n",
    "    x <- mean(runif(n))\n",
    "    if (x > 0.2)\n",
    "        tmp[1] <- x\n",
    "    x <- mean(runif(n))\n",
    "    if (x > 0.2)\n",
    "        tmp[2] <- x\n",
    "    x <- mean(runif(n))\n",
    "    if (x > 0.2)\n",
    "        tmp[3] <- x\n",
    "    mean(tmp, na.rm=TRUE)\n",
    "}\n",
    "set.seed(1)\n",
    "myfna()\n",
    "myfna(1000)"
   ]
  },
  {
   "cell_type": "markdown",
   "metadata": {},
   "source": [
    "## Control Flow: For "
   ]
  },
  {
   "cell_type": "code",
   "execution_count": null,
   "metadata": {},
   "outputs": [],
   "source": [
    "myfn1 <- function(obs=10, n=100)\n",
    "{\n",
    "    x <- rep(NA, n)\n",
    "    for (i in 1:n)\n",
    "    {\n",
    "        tmp <- runif(obs)\n",
    "        x[i] <- mean(tmp)\n",
    "    }\n",
    "    c(mn=mean(x), std=sd(x))\n",
    "}\n",
    "set.seed(1)\n",
    "myfn1()\n",
    "myfn1(1000)"
   ]
  },
  {
   "cell_type": "markdown",
   "metadata": {},
   "source": [
    "The functions ```while``` and ```repeat``` don't require loop variables."
   ]
  },
  {
   "cell_type": "markdown",
   "metadata": {},
   "source": [
    "## The function ifelse\n",
    "\n",
    "The function ```ifelse``` reduces the need for loops and can make code more efficient. Example:\n",
    "```{r}\n",
    "x <- c(0, 1, 1, 2)\n",
    "y <- c(44, 45, 56, 77)\n",
    "\n",
    "z <- rep(NA, 4)\n",
    "for (i in 1:length(x))\n",
    "{\n",
    "    if (x[i] > 0)\n",
    "        z[i] <- y[i] / x[i]\n",
    "    else\n",
    "        z[i] <- y[i] / 99\n",
    "}\n",
    "z\n",
    "```\n",
    "This can be replaced by:\n",
    "```{r}\n",
    "(z <- ifelse(x > 0, y / x, y / 99))\n",
    "```"
   ]
  },
  {
   "cell_type": "markdown",
   "metadata": {},
   "source": [
    "## Exercise: 1\n",
    "\n",
    "*  Create a vector containing all the dates in 2007, using ```seq``` and ```as.Date```.\n",
    "\n",
    "* There is a version of ```cut``` for dates, called ```cut.Date```. Use this to create a factor with values corresponding to the date of the first day of the week in which each of these dates falls. Start the weeks on Sundays.\n",
    "\n",
    "* Create ```x```, a vector of length 100, with integer values in the range $1:5$, randomly ordered. (Hint: look at the function ```sample```.)\n",
    "\n",
    "* Use ```paste``` to create a vector of labels: `(\"Colour 1\", \"Colour 2\", \"Colour 3\", \"Colour 4\", \"Colour 5\")`\n",
    "\n",
    "*  Use the ```factor``` command to create a factor from the vector ```x```,  with the labels created above.\n",
    "\n",
    "* Create a data frame with 100 rows and two columns, one containing a random sample of the vector of dates created above, and the other containing the factor vector of colour names.\n",
    "  \n",
    "* Select the rows for which the date is after 1st June 2007."
   ]
  },
  {
   "cell_type": "markdown",
   "metadata": {},
   "source": [
    "## Exercise: 2\n",
    "\n",
    "* Generate a matrix with 10 rows and 5 columns, with random entries between 0 and 10. (Hint: look at ```runif```)\n",
    "\n",
    "*  Write a function using ```for``` to calculate the column means of the matrix.\n",
    "\n",
    "*  Extract the even rows from the matrix."
   ]
  }
 ],
 "metadata": {
  "kernelspec": {
   "display_name": "R",
   "language": "R",
   "name": "ir"
  },
  "language_info": {
   "codemirror_mode": "r",
   "file_extension": ".r",
   "mimetype": "text/x-r-source",
   "name": "R",
   "pygments_lexer": "r",
   "version": "3.5.1"
  }
 },
 "nbformat": 4,
 "nbformat_minor": 2
}
