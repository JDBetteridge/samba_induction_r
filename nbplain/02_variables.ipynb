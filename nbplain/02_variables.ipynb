{
 "cells": [
  {
   "cell_type": "markdown",
   "metadata": {},
   "source": [
    "# Variables, data frames, indexing, functions etc"
   ]
  },
  {
   "cell_type": "markdown",
   "metadata": {},
   "source": [
    "## Computer representation of numbers\n",
    "\n",
    "Real numbers are not stored exactly on computers. Use binary version of ``scientific'' notation e.g. $1.234 \\times 10^2$. This needs care e.g."
   ]
  },
  {
   "cell_type": "code",
   "execution_count": 1,
   "metadata": {},
   "outputs": [
    {
     "data": {
      "text/html": [
       "<ol class=list-inline>\n",
       "\t<li>0</li>\n",
       "\t<li>0.1</li>\n",
       "\t<li>0.2</li>\n",
       "\t<li>0.3</li>\n",
       "\t<li>0.4</li>\n",
       "\t<li>0.5</li>\n",
       "</ol>\n"
      ],
      "text/latex": [
       "\\begin{enumerate*}\n",
       "\\item 0\n",
       "\\item 0.1\n",
       "\\item 0.2\n",
       "\\item 0.3\n",
       "\\item 0.4\n",
       "\\item 0.5\n",
       "\\end{enumerate*}\n"
      ],
      "text/markdown": [
       "1. 0\n",
       "2. 0.1\n",
       "3. 0.2\n",
       "4. 0.3\n",
       "5. 0.4\n",
       "6. 0.5\n",
       "\n",
       "\n"
      ],
      "text/plain": [
       "[1] 0.0 0.1 0.2 0.3 0.4 0.5"
      ]
     },
     "metadata": {},
     "output_type": "display_data"
    }
   ],
   "source": [
    "\n",
    "x = seq(0, 0.5, 0.1) ##generate a sequence from 0 to 0.5 in steps of 0.1\n",
    "x ##Look at x\n"
   ]
  },
  {
   "cell_type": "markdown",
   "metadata": {},
   "source": [
    "Is x equal to (0, 0.1, 0.2, 0.3, 0.4, 0.5)? To find out, type"
   ]
  },
  {
   "cell_type": "code",
   "execution_count": 2,
   "metadata": {},
   "outputs": [
    {
     "data": {
      "text/html": [
       "<ol class=list-inline>\n",
       "\t<li>TRUE</li>\n",
       "\t<li>TRUE</li>\n",
       "\t<li>TRUE</li>\n",
       "\t<li>FALSE</li>\n",
       "\t<li>TRUE</li>\n",
       "\t<li>TRUE</li>\n",
       "</ol>\n"
      ],
      "text/latex": [
       "\\begin{enumerate*}\n",
       "\\item TRUE\n",
       "\\item TRUE\n",
       "\\item TRUE\n",
       "\\item FALSE\n",
       "\\item TRUE\n",
       "\\item TRUE\n",
       "\\end{enumerate*}\n"
      ],
      "text/markdown": [
       "1. TRUE\n",
       "2. TRUE\n",
       "3. TRUE\n",
       "4. FALSE\n",
       "5. TRUE\n",
       "6. TRUE\n",
       "\n",
       "\n"
      ],
      "text/plain": [
       "[1]  TRUE  TRUE  TRUE FALSE  TRUE  TRUE"
      ]
     },
     "metadata": {},
     "output_type": "display_data"
    }
   ],
   "source": [
    "x == c(0, 0.1, 0.2, 0.3, 0.4, 0.5)\n"
   ]
  },
  {
   "cell_type": "markdown",
   "metadata": {},
   "source": [
    "This is known as _FAQ 7.31_: see [https://cran.r-project.org/doc/FAQ/R-FAQ.html]."
   ]
  },
  {
   "cell_type": "markdown",
   "metadata": {},
   "source": [
    "## Rounding problems\n",
    "\n",
    "Tiny inaccuracies can accumulate:\n",
    "  \n",
    "The sample variance of a vector ```x``` is often calculated as  \n",
    "  \n",
    "   $var (x) = (\\sum x^2-n\\bar{x}^2) / (n-1)$\n",
    "\n",
    "Try it out and compare it with ```var()```: "
   ]
  },
  {
   "cell_type": "code",
   "execution_count": 3,
   "metadata": {},
   "outputs": [
    {
     "data": {
      "text/html": [
       "841.666666666667"
      ],
      "text/latex": [
       "841.666666666667"
      ],
      "text/markdown": [
       "841.666666666667"
      ],
      "text/plain": [
       "[1] 841.6667"
      ]
     },
     "metadata": {},
     "output_type": "display_data"
    },
    {
     "data": {
      "text/html": [
       "841.666666666667"
      ],
      "text/latex": [
       "841.666666666667"
      ],
      "text/markdown": [
       "841.666666666667"
      ],
      "text/plain": [
       "[1] 841.6667"
      ]
     },
     "metadata": {},
     "output_type": "display_data"
    },
    {
     "data": {
      "text/html": [
       "0"
      ],
      "text/latex": [
       "0"
      ],
      "text/markdown": [
       "0"
      ],
      "text/plain": [
       "[1] 0"
      ]
     },
     "metadata": {},
     "output_type": "display_data"
    },
    {
     "data": {
      "text/html": [
       "841.666666666667"
      ],
      "text/latex": [
       "841.666666666667"
      ],
      "text/markdown": [
       "841.666666666667"
      ],
      "text/plain": [
       "[1] 841.6667"
      ]
     },
     "metadata": {},
     "output_type": "display_data"
    }
   ],
   "source": [
    "myvar = function(x) (sum(x^2) - length(x) * mean(x)^2) / (length(x) - 1) #define a function myvar(x) to estimate the variance\n",
    "x = seq(1:100)\n",
    "myvar(x)\n",
    "var(x)\n",
    "x = seq(1:100) + 10000000000\n",
    "myvar(x)\n",
    "var(x)"
   ]
  },
  {
   "cell_type": "markdown",
   "metadata": {},
   "source": [
    "Can you see why there was a problem?"
   ]
  },
  {
   "cell_type": "markdown",
   "metadata": {},
   "source": [
    "## Variables\n",
    "\n",
    "Basic Types of Variables\n",
    "\n",
    "Variables are the equivalent of memories in your calculator. But you can have unlimited (almost!) quantities of them and they have names of your choosing. And different   types. The basic types are\n",
    "\n",
    " + integer\n",
    " + double\n",
    " + character\n",
    " + logical: these take one of the two values ```TRUE``` or ```FALSE```\n",
    "    (or ```NA```, see later)\n",
    " + factor or categorical\n",
    " "
   ]
  },
  {
   "cell_type": "markdown",
   "metadata": {},
   "source": [
    "## More Specialised Classes\n",
    "\n",
    "As well as the basic types of variables, R recognises many more complicated  objects such as \n",
    "\n",
    "* **vectors**, **matrices**, **arrays**: groups of objects all of the same type\n",
    " \n",
    "* **lists** of other objects which may be of different types\n",
    "\n",
    "*  Specialised objects such as **Dates**, **Linear Model fits**"
   ]
  },
  {
   "cell_type": "markdown",
   "metadata": {},
   "source": [
    "  \n",
    "## Special values of objects\n",
    "\n",
    "There are some types of data which need to be treated specially in calculations:\n",
    "\n",
    "* ```NA``` The value ```NA``` is given to any data which R\n",
    "    knows to be missing. This is not a character string, so a\n",
    "    character string with value ```\"NA\"``` will be treated differently\n",
    "    from one with the value ```NA```.\n",
    "\n",
    "*  ```Inf``` The result of e.g. dividing any non-zero number by zero\n",
    "\n",
    "*  ```NaN``` The result of e.g. attempting to find the logarithm of a\n",
    " negative number."
   ]
  },
  {
   "cell_type": "code",
   "execution_count": 4,
   "metadata": {},
   "outputs": [
    {
     "name": "stderr",
     "output_type": "stream",
     "text": [
      "Warning message in eval(expr, envir, enclos):\n",
      "\"NAs introduced by coercion\""
     ]
    },
    {
     "data": {
      "text/html": [
       "<ol class=list-inline>\n",
       "\t<li>&lt;NA&gt;</li>\n",
       "\t<li>1</li>\n",
       "</ol>\n"
      ],
      "text/latex": [
       "\\begin{enumerate*}\n",
       "\\item <NA>\n",
       "\\item 1\n",
       "\\end{enumerate*}\n"
      ],
      "text/markdown": [
       "1. &lt;NA&gt;\n",
       "2. 1\n",
       "\n",
       "\n"
      ],
      "text/plain": [
       "[1] NA  1"
      ]
     },
     "metadata": {},
     "output_type": "display_data"
    },
    {
     "data": {
      "text/html": [
       "<ol class=list-inline>\n",
       "\t<li>Inf</li>\n",
       "\t<li>Inf</li>\n",
       "\t<li>Inf</li>\n",
       "\t<li>Inf</li>\n",
       "\t<li>Inf</li>\n",
       "\t<li>Inf</li>\n",
       "\t<li>Inf</li>\n",
       "\t<li>Inf</li>\n",
       "\t<li>Inf</li>\n",
       "\t<li>Inf</li>\n",
       "\t<li>Inf</li>\n",
       "\t<li>Inf</li>\n",
       "\t<li>Inf</li>\n",
       "\t<li>Inf</li>\n",
       "\t<li>Inf</li>\n",
       "\t<li>Inf</li>\n",
       "\t<li>Inf</li>\n",
       "\t<li>Inf</li>\n",
       "\t<li>Inf</li>\n",
       "\t<li>Inf</li>\n",
       "\t<li>Inf</li>\n",
       "\t<li>Inf</li>\n",
       "\t<li>Inf</li>\n",
       "\t<li>Inf</li>\n",
       "\t<li>Inf</li>\n",
       "\t<li>Inf</li>\n",
       "\t<li>Inf</li>\n",
       "\t<li>Inf</li>\n",
       "\t<li>Inf</li>\n",
       "\t<li>Inf</li>\n",
       "\t<li>Inf</li>\n",
       "\t<li>Inf</li>\n",
       "\t<li>Inf</li>\n",
       "\t<li>Inf</li>\n",
       "\t<li>Inf</li>\n",
       "\t<li>Inf</li>\n",
       "\t<li>Inf</li>\n",
       "\t<li>Inf</li>\n",
       "\t<li>Inf</li>\n",
       "\t<li>Inf</li>\n",
       "\t<li>Inf</li>\n",
       "\t<li>Inf</li>\n",
       "\t<li>Inf</li>\n",
       "\t<li>Inf</li>\n",
       "\t<li>Inf</li>\n",
       "\t<li>Inf</li>\n",
       "\t<li>Inf</li>\n",
       "\t<li>Inf</li>\n",
       "\t<li>Inf</li>\n",
       "\t<li>Inf</li>\n",
       "\t<li>Inf</li>\n",
       "\t<li>Inf</li>\n",
       "\t<li>Inf</li>\n",
       "\t<li>Inf</li>\n",
       "\t<li>Inf</li>\n",
       "\t<li>Inf</li>\n",
       "\t<li>Inf</li>\n",
       "\t<li>Inf</li>\n",
       "\t<li>Inf</li>\n",
       "\t<li>Inf</li>\n",
       "\t<li>Inf</li>\n",
       "\t<li>Inf</li>\n",
       "\t<li>Inf</li>\n",
       "\t<li>Inf</li>\n",
       "\t<li>Inf</li>\n",
       "\t<li>Inf</li>\n",
       "\t<li>Inf</li>\n",
       "\t<li>Inf</li>\n",
       "\t<li>Inf</li>\n",
       "\t<li>Inf</li>\n",
       "\t<li>Inf</li>\n",
       "\t<li>Inf</li>\n",
       "\t<li>Inf</li>\n",
       "\t<li>Inf</li>\n",
       "\t<li>Inf</li>\n",
       "\t<li>Inf</li>\n",
       "\t<li>Inf</li>\n",
       "\t<li>Inf</li>\n",
       "\t<li>Inf</li>\n",
       "\t<li>Inf</li>\n",
       "\t<li>Inf</li>\n",
       "\t<li>Inf</li>\n",
       "\t<li>Inf</li>\n",
       "\t<li>Inf</li>\n",
       "\t<li>Inf</li>\n",
       "\t<li>Inf</li>\n",
       "\t<li>Inf</li>\n",
       "\t<li>Inf</li>\n",
       "\t<li>Inf</li>\n",
       "\t<li>Inf</li>\n",
       "\t<li>Inf</li>\n",
       "\t<li>Inf</li>\n",
       "\t<li>Inf</li>\n",
       "\t<li>Inf</li>\n",
       "\t<li>Inf</li>\n",
       "\t<li>Inf</li>\n",
       "\t<li>Inf</li>\n",
       "\t<li>Inf</li>\n",
       "\t<li>Inf</li>\n",
       "\t<li>Inf</li>\n",
       "</ol>\n"
      ],
      "text/latex": [
       "\\begin{enumerate*}\n",
       "\\item Inf\n",
       "\\item Inf\n",
       "\\item Inf\n",
       "\\item Inf\n",
       "\\item Inf\n",
       "\\item Inf\n",
       "\\item Inf\n",
       "\\item Inf\n",
       "\\item Inf\n",
       "\\item Inf\n",
       "\\item Inf\n",
       "\\item Inf\n",
       "\\item Inf\n",
       "\\item Inf\n",
       "\\item Inf\n",
       "\\item Inf\n",
       "\\item Inf\n",
       "\\item Inf\n",
       "\\item Inf\n",
       "\\item Inf\n",
       "\\item Inf\n",
       "\\item Inf\n",
       "\\item Inf\n",
       "\\item Inf\n",
       "\\item Inf\n",
       "\\item Inf\n",
       "\\item Inf\n",
       "\\item Inf\n",
       "\\item Inf\n",
       "\\item Inf\n",
       "\\item Inf\n",
       "\\item Inf\n",
       "\\item Inf\n",
       "\\item Inf\n",
       "\\item Inf\n",
       "\\item Inf\n",
       "\\item Inf\n",
       "\\item Inf\n",
       "\\item Inf\n",
       "\\item Inf\n",
       "\\item Inf\n",
       "\\item Inf\n",
       "\\item Inf\n",
       "\\item Inf\n",
       "\\item Inf\n",
       "\\item Inf\n",
       "\\item Inf\n",
       "\\item Inf\n",
       "\\item Inf\n",
       "\\item Inf\n",
       "\\item Inf\n",
       "\\item Inf\n",
       "\\item Inf\n",
       "\\item Inf\n",
       "\\item Inf\n",
       "\\item Inf\n",
       "\\item Inf\n",
       "\\item Inf\n",
       "\\item Inf\n",
       "\\item Inf\n",
       "\\item Inf\n",
       "\\item Inf\n",
       "\\item Inf\n",
       "\\item Inf\n",
       "\\item Inf\n",
       "\\item Inf\n",
       "\\item Inf\n",
       "\\item Inf\n",
       "\\item Inf\n",
       "\\item Inf\n",
       "\\item Inf\n",
       "\\item Inf\n",
       "\\item Inf\n",
       "\\item Inf\n",
       "\\item Inf\n",
       "\\item Inf\n",
       "\\item Inf\n",
       "\\item Inf\n",
       "\\item Inf\n",
       "\\item Inf\n",
       "\\item Inf\n",
       "\\item Inf\n",
       "\\item Inf\n",
       "\\item Inf\n",
       "\\item Inf\n",
       "\\item Inf\n",
       "\\item Inf\n",
       "\\item Inf\n",
       "\\item Inf\n",
       "\\item Inf\n",
       "\\item Inf\n",
       "\\item Inf\n",
       "\\item Inf\n",
       "\\item Inf\n",
       "\\item Inf\n",
       "\\item Inf\n",
       "\\item Inf\n",
       "\\item Inf\n",
       "\\item Inf\n",
       "\\item Inf\n",
       "\\end{enumerate*}\n"
      ],
      "text/markdown": [
       "1. Inf\n",
       "2. Inf\n",
       "3. Inf\n",
       "4. Inf\n",
       "5. Inf\n",
       "6. Inf\n",
       "7. Inf\n",
       "8. Inf\n",
       "9. Inf\n",
       "10. Inf\n",
       "11. Inf\n",
       "12. Inf\n",
       "13. Inf\n",
       "14. Inf\n",
       "15. Inf\n",
       "16. Inf\n",
       "17. Inf\n",
       "18. Inf\n",
       "19. Inf\n",
       "20. Inf\n",
       "21. Inf\n",
       "22. Inf\n",
       "23. Inf\n",
       "24. Inf\n",
       "25. Inf\n",
       "26. Inf\n",
       "27. Inf\n",
       "28. Inf\n",
       "29. Inf\n",
       "30. Inf\n",
       "31. Inf\n",
       "32. Inf\n",
       "33. Inf\n",
       "34. Inf\n",
       "35. Inf\n",
       "36. Inf\n",
       "37. Inf\n",
       "38. Inf\n",
       "39. Inf\n",
       "40. Inf\n",
       "41. Inf\n",
       "42. Inf\n",
       "43. Inf\n",
       "44. Inf\n",
       "45. Inf\n",
       "46. Inf\n",
       "47. Inf\n",
       "48. Inf\n",
       "49. Inf\n",
       "50. Inf\n",
       "51. Inf\n",
       "52. Inf\n",
       "53. Inf\n",
       "54. Inf\n",
       "55. Inf\n",
       "56. Inf\n",
       "57. Inf\n",
       "58. Inf\n",
       "59. Inf\n",
       "60. Inf\n",
       "61. Inf\n",
       "62. Inf\n",
       "63. Inf\n",
       "64. Inf\n",
       "65. Inf\n",
       "66. Inf\n",
       "67. Inf\n",
       "68. Inf\n",
       "69. Inf\n",
       "70. Inf\n",
       "71. Inf\n",
       "72. Inf\n",
       "73. Inf\n",
       "74. Inf\n",
       "75. Inf\n",
       "76. Inf\n",
       "77. Inf\n",
       "78. Inf\n",
       "79. Inf\n",
       "80. Inf\n",
       "81. Inf\n",
       "82. Inf\n",
       "83. Inf\n",
       "84. Inf\n",
       "85. Inf\n",
       "86. Inf\n",
       "87. Inf\n",
       "88. Inf\n",
       "89. Inf\n",
       "90. Inf\n",
       "91. Inf\n",
       "92. Inf\n",
       "93. Inf\n",
       "94. Inf\n",
       "95. Inf\n",
       "96. Inf\n",
       "97. Inf\n",
       "98. Inf\n",
       "99. Inf\n",
       "100. Inf\n",
       "\n",
       "\n"
      ],
      "text/plain": [
       "  [1] Inf Inf Inf Inf Inf Inf Inf Inf Inf Inf Inf Inf Inf Inf Inf Inf Inf Inf\n",
       " [19] Inf Inf Inf Inf Inf Inf Inf Inf Inf Inf Inf Inf Inf Inf Inf Inf Inf Inf\n",
       " [37] Inf Inf Inf Inf Inf Inf Inf Inf Inf Inf Inf Inf Inf Inf Inf Inf Inf Inf\n",
       " [55] Inf Inf Inf Inf Inf Inf Inf Inf Inf Inf Inf Inf Inf Inf Inf Inf Inf Inf\n",
       " [73] Inf Inf Inf Inf Inf Inf Inf Inf Inf Inf Inf Inf Inf Inf Inf Inf Inf Inf\n",
       " [91] Inf Inf Inf Inf Inf Inf Inf Inf Inf Inf"
      ]
     },
     "metadata": {},
     "output_type": "display_data"
    },
    {
     "name": "stderr",
     "output_type": "stream",
     "text": [
      "Warning message in log(-x):\n",
      "\"NaNs produced\""
     ]
    },
    {
     "data": {
      "text/html": [
       "<ol class=list-inline>\n",
       "\t<li>NaN</li>\n",
       "\t<li>NaN</li>\n",
       "\t<li>NaN</li>\n",
       "\t<li>NaN</li>\n",
       "\t<li>NaN</li>\n",
       "\t<li>NaN</li>\n",
       "\t<li>NaN</li>\n",
       "\t<li>NaN</li>\n",
       "\t<li>NaN</li>\n",
       "\t<li>NaN</li>\n",
       "\t<li>NaN</li>\n",
       "\t<li>NaN</li>\n",
       "\t<li>NaN</li>\n",
       "\t<li>NaN</li>\n",
       "\t<li>NaN</li>\n",
       "\t<li>NaN</li>\n",
       "\t<li>NaN</li>\n",
       "\t<li>NaN</li>\n",
       "\t<li>NaN</li>\n",
       "\t<li>NaN</li>\n",
       "\t<li>NaN</li>\n",
       "\t<li>NaN</li>\n",
       "\t<li>NaN</li>\n",
       "\t<li>NaN</li>\n",
       "\t<li>NaN</li>\n",
       "\t<li>NaN</li>\n",
       "\t<li>NaN</li>\n",
       "\t<li>NaN</li>\n",
       "\t<li>NaN</li>\n",
       "\t<li>NaN</li>\n",
       "\t<li>NaN</li>\n",
       "\t<li>NaN</li>\n",
       "\t<li>NaN</li>\n",
       "\t<li>NaN</li>\n",
       "\t<li>NaN</li>\n",
       "\t<li>NaN</li>\n",
       "\t<li>NaN</li>\n",
       "\t<li>NaN</li>\n",
       "\t<li>NaN</li>\n",
       "\t<li>NaN</li>\n",
       "\t<li>NaN</li>\n",
       "\t<li>NaN</li>\n",
       "\t<li>NaN</li>\n",
       "\t<li>NaN</li>\n",
       "\t<li>NaN</li>\n",
       "\t<li>NaN</li>\n",
       "\t<li>NaN</li>\n",
       "\t<li>NaN</li>\n",
       "\t<li>NaN</li>\n",
       "\t<li>NaN</li>\n",
       "\t<li>NaN</li>\n",
       "\t<li>NaN</li>\n",
       "\t<li>NaN</li>\n",
       "\t<li>NaN</li>\n",
       "\t<li>NaN</li>\n",
       "\t<li>NaN</li>\n",
       "\t<li>NaN</li>\n",
       "\t<li>NaN</li>\n",
       "\t<li>NaN</li>\n",
       "\t<li>NaN</li>\n",
       "\t<li>NaN</li>\n",
       "\t<li>NaN</li>\n",
       "\t<li>NaN</li>\n",
       "\t<li>NaN</li>\n",
       "\t<li>NaN</li>\n",
       "\t<li>NaN</li>\n",
       "\t<li>NaN</li>\n",
       "\t<li>NaN</li>\n",
       "\t<li>NaN</li>\n",
       "\t<li>NaN</li>\n",
       "\t<li>NaN</li>\n",
       "\t<li>NaN</li>\n",
       "\t<li>NaN</li>\n",
       "\t<li>NaN</li>\n",
       "\t<li>NaN</li>\n",
       "\t<li>NaN</li>\n",
       "\t<li>NaN</li>\n",
       "\t<li>NaN</li>\n",
       "\t<li>NaN</li>\n",
       "\t<li>NaN</li>\n",
       "\t<li>NaN</li>\n",
       "\t<li>NaN</li>\n",
       "\t<li>NaN</li>\n",
       "\t<li>NaN</li>\n",
       "\t<li>NaN</li>\n",
       "\t<li>NaN</li>\n",
       "\t<li>NaN</li>\n",
       "\t<li>NaN</li>\n",
       "\t<li>NaN</li>\n",
       "\t<li>NaN</li>\n",
       "\t<li>NaN</li>\n",
       "\t<li>NaN</li>\n",
       "\t<li>NaN</li>\n",
       "\t<li>NaN</li>\n",
       "\t<li>NaN</li>\n",
       "\t<li>NaN</li>\n",
       "\t<li>NaN</li>\n",
       "\t<li>NaN</li>\n",
       "\t<li>NaN</li>\n",
       "\t<li>NaN</li>\n",
       "</ol>\n"
      ],
      "text/latex": [
       "\\begin{enumerate*}\n",
       "\\item NaN\n",
       "\\item NaN\n",
       "\\item NaN\n",
       "\\item NaN\n",
       "\\item NaN\n",
       "\\item NaN\n",
       "\\item NaN\n",
       "\\item NaN\n",
       "\\item NaN\n",
       "\\item NaN\n",
       "\\item NaN\n",
       "\\item NaN\n",
       "\\item NaN\n",
       "\\item NaN\n",
       "\\item NaN\n",
       "\\item NaN\n",
       "\\item NaN\n",
       "\\item NaN\n",
       "\\item NaN\n",
       "\\item NaN\n",
       "\\item NaN\n",
       "\\item NaN\n",
       "\\item NaN\n",
       "\\item NaN\n",
       "\\item NaN\n",
       "\\item NaN\n",
       "\\item NaN\n",
       "\\item NaN\n",
       "\\item NaN\n",
       "\\item NaN\n",
       "\\item NaN\n",
       "\\item NaN\n",
       "\\item NaN\n",
       "\\item NaN\n",
       "\\item NaN\n",
       "\\item NaN\n",
       "\\item NaN\n",
       "\\item NaN\n",
       "\\item NaN\n",
       "\\item NaN\n",
       "\\item NaN\n",
       "\\item NaN\n",
       "\\item NaN\n",
       "\\item NaN\n",
       "\\item NaN\n",
       "\\item NaN\n",
       "\\item NaN\n",
       "\\item NaN\n",
       "\\item NaN\n",
       "\\item NaN\n",
       "\\item NaN\n",
       "\\item NaN\n",
       "\\item NaN\n",
       "\\item NaN\n",
       "\\item NaN\n",
       "\\item NaN\n",
       "\\item NaN\n",
       "\\item NaN\n",
       "\\item NaN\n",
       "\\item NaN\n",
       "\\item NaN\n",
       "\\item NaN\n",
       "\\item NaN\n",
       "\\item NaN\n",
       "\\item NaN\n",
       "\\item NaN\n",
       "\\item NaN\n",
       "\\item NaN\n",
       "\\item NaN\n",
       "\\item NaN\n",
       "\\item NaN\n",
       "\\item NaN\n",
       "\\item NaN\n",
       "\\item NaN\n",
       "\\item NaN\n",
       "\\item NaN\n",
       "\\item NaN\n",
       "\\item NaN\n",
       "\\item NaN\n",
       "\\item NaN\n",
       "\\item NaN\n",
       "\\item NaN\n",
       "\\item NaN\n",
       "\\item NaN\n",
       "\\item NaN\n",
       "\\item NaN\n",
       "\\item NaN\n",
       "\\item NaN\n",
       "\\item NaN\n",
       "\\item NaN\n",
       "\\item NaN\n",
       "\\item NaN\n",
       "\\item NaN\n",
       "\\item NaN\n",
       "\\item NaN\n",
       "\\item NaN\n",
       "\\item NaN\n",
       "\\item NaN\n",
       "\\item NaN\n",
       "\\item NaN\n",
       "\\end{enumerate*}\n"
      ],
      "text/markdown": [
       "1. NaN\n",
       "2. NaN\n",
       "3. NaN\n",
       "4. NaN\n",
       "5. NaN\n",
       "6. NaN\n",
       "7. NaN\n",
       "8. NaN\n",
       "9. NaN\n",
       "10. NaN\n",
       "11. NaN\n",
       "12. NaN\n",
       "13. NaN\n",
       "14. NaN\n",
       "15. NaN\n",
       "16. NaN\n",
       "17. NaN\n",
       "18. NaN\n",
       "19. NaN\n",
       "20. NaN\n",
       "21. NaN\n",
       "22. NaN\n",
       "23. NaN\n",
       "24. NaN\n",
       "25. NaN\n",
       "26. NaN\n",
       "27. NaN\n",
       "28. NaN\n",
       "29. NaN\n",
       "30. NaN\n",
       "31. NaN\n",
       "32. NaN\n",
       "33. NaN\n",
       "34. NaN\n",
       "35. NaN\n",
       "36. NaN\n",
       "37. NaN\n",
       "38. NaN\n",
       "39. NaN\n",
       "40. NaN\n",
       "41. NaN\n",
       "42. NaN\n",
       "43. NaN\n",
       "44. NaN\n",
       "45. NaN\n",
       "46. NaN\n",
       "47. NaN\n",
       "48. NaN\n",
       "49. NaN\n",
       "50. NaN\n",
       "51. NaN\n",
       "52. NaN\n",
       "53. NaN\n",
       "54. NaN\n",
       "55. NaN\n",
       "56. NaN\n",
       "57. NaN\n",
       "58. NaN\n",
       "59. NaN\n",
       "60. NaN\n",
       "61. NaN\n",
       "62. NaN\n",
       "63. NaN\n",
       "64. NaN\n",
       "65. NaN\n",
       "66. NaN\n",
       "67. NaN\n",
       "68. NaN\n",
       "69. NaN\n",
       "70. NaN\n",
       "71. NaN\n",
       "72. NaN\n",
       "73. NaN\n",
       "74. NaN\n",
       "75. NaN\n",
       "76. NaN\n",
       "77. NaN\n",
       "78. NaN\n",
       "79. NaN\n",
       "80. NaN\n",
       "81. NaN\n",
       "82. NaN\n",
       "83. NaN\n",
       "84. NaN\n",
       "85. NaN\n",
       "86. NaN\n",
       "87. NaN\n",
       "88. NaN\n",
       "89. NaN\n",
       "90. NaN\n",
       "91. NaN\n",
       "92. NaN\n",
       "93. NaN\n",
       "94. NaN\n",
       "95. NaN\n",
       "96. NaN\n",
       "97. NaN\n",
       "98. NaN\n",
       "99. NaN\n",
       "100. NaN\n",
       "\n",
       "\n"
      ],
      "text/plain": [
       "  [1] NaN NaN NaN NaN NaN NaN NaN NaN NaN NaN NaN NaN NaN NaN NaN NaN NaN NaN\n",
       " [19] NaN NaN NaN NaN NaN NaN NaN NaN NaN NaN NaN NaN NaN NaN NaN NaN NaN NaN\n",
       " [37] NaN NaN NaN NaN NaN NaN NaN NaN NaN NaN NaN NaN NaN NaN NaN NaN NaN NaN\n",
       " [55] NaN NaN NaN NaN NaN NaN NaN NaN NaN NaN NaN NaN NaN NaN NaN NaN NaN NaN\n",
       " [73] NaN NaN NaN NaN NaN NaN NaN NaN NaN NaN NaN NaN NaN NaN NaN NaN NaN NaN\n",
       " [91] NaN NaN NaN NaN NaN NaN NaN NaN NaN NaN"
      ]
     },
     "metadata": {},
     "output_type": "display_data"
    }
   ],
   "source": [
    " \n",
    "as.numeric(c(\"a\", \"1\"))\n",
    "x / 0\n",
    "log(-x)"
   ]
  },
  {
   "cell_type": "markdown",
   "metadata": {},
   "source": [
    "   \n",
    "## Factors\n",
    "\n",
    "Factors are variables which can only take one of a finite set of discrete values. They naturally occur as vectors, and can be\n",
    "\n",
    "* **numeric** e.g. drug doses with values 1mg, 2mg, 5mg\n",
    "* or **character** e.g. voting intention with values Liberal Democrat, Conservative, Labour, Other\n",
    "  \n",
    "Although factors are stored as numbers, along with the label\n",
    "corresponding to each number, they cannot be treated as numeric. Would\n",
    "it make sense to ask R to calculate ```mean(voting intention)```?\n",
    "\n",
    "A more useful function for factors is ```table``` which will count\n",
    "how many of each value occur in the vector.\n",
    "\n",
    "\n",
    "## Ordered Factors\n",
    "\n",
    "Some factor variables have a natural ordering. Drug doses do, but\n",
    "voting intentions usually do not. R will treat the two types\n",
    "differently. It is important not to allow R to treat non-ordered\n",
    "factors as ordered ones, since the results could be meaningless.\n",
    "\n",
    "## Creating factors\n",
    "\n",
    "Use ```cut``` to create factor variables from continuous ones:"
   ]
  },
  {
   "cell_type": "code",
   "execution_count": 5,
   "metadata": {},
   "outputs": [
    {
     "data": {
      "text/plain": [
       "\n",
       " (0,10] (10,20] (20,30] (30,40] (40,50] \n",
       "     13      20      27      20      20 "
      ]
     },
     "metadata": {},
     "output_type": "display_data"
    }
   ],
   "source": [
    "age <- runif(100) * 50\n",
    "table(cut(age, c(0, 10, 20, 30, 40, 50)))"
   ]
  },
  {
   "cell_type": "markdown",
   "metadata": {},
   "source": [
    "The function `factor()` can be used to create factor variables from characters.\n",
    "\n",
    "## Data frames \n",
    "* For storing data which is a collection of observations (rows) of a set of variables (columns). E.g. book titles and prices.\n",
    "* Similar to a matrix but variables in different columns can have different types.\n",
    "* Always the same number of entries in each row, although some may be missing (```NA```).\n",
    "* Can be formed by reading in data e.g. from a spreadsheet, or constructed using the function ```data.frame```.\n",
    "\n",
    "You will need the following file [Example Chicken weights csv](../data/chickwt.csv)\n",
    "\n",
    "Download the file from the link to the folder where you are running R."
   ]
  },
  {
   "cell_type": "code",
   "execution_count": 6,
   "metadata": {},
   "outputs": [
    {
     "data": {
      "text/html": [
       "<table>\n",
       "<thead><tr><th scope=col>weight</th><th scope=col>feed</th></tr></thead>\n",
       "<tbody>\n",
       "\t<tr><td>179      </td><td>horsebean</td></tr>\n",
       "\t<tr><td>160      </td><td>horsebean</td></tr>\n",
       "\t<tr><td>136      </td><td>horsebean</td></tr>\n",
       "\t<tr><td>227      </td><td>horsebean</td></tr>\n",
       "\t<tr><td>217      </td><td>horsebean</td></tr>\n",
       "\t<tr><td>168      </td><td>horsebean</td></tr>\n",
       "</tbody>\n",
       "</table>\n"
      ],
      "text/latex": [
       "\\begin{tabular}{r|ll}\n",
       " weight & feed\\\\\n",
       "\\hline\n",
       "\t 179       & horsebean\\\\\n",
       "\t 160       & horsebean\\\\\n",
       "\t 136       & horsebean\\\\\n",
       "\t 227       & horsebean\\\\\n",
       "\t 217       & horsebean\\\\\n",
       "\t 168       & horsebean\\\\\n",
       "\\end{tabular}\n"
      ],
      "text/markdown": [
       "\n",
       "| weight | feed |\n",
       "|---|---|\n",
       "| 179       | horsebean |\n",
       "| 160       | horsebean |\n",
       "| 136       | horsebean |\n",
       "| 227       | horsebean |\n",
       "| 217       | horsebean |\n",
       "| 168       | horsebean |\n",
       "\n"
      ],
      "text/plain": [
       "  weight feed     \n",
       "1 179    horsebean\n",
       "2 160    horsebean\n",
       "3 136    horsebean\n",
       "4 227    horsebean\n",
       "5 217    horsebean\n",
       "6 168    horsebean"
      ]
     },
     "metadata": {},
     "output_type": "display_data"
    }
   ],
   "source": [
    "mydata = read.csv('chickwt.csv')\n",
    "head(x = mydata)"
   ]
  },
  {
   "cell_type": "markdown",
   "metadata": {},
   "source": [
    "## Lists\n",
    "\n",
    "A data frame is a kind of list, which is a vector\n",
    "of objects of possibly different types. For example, an employee\n",
    "record might be created by"
   ]
  },
  {
   "cell_type": "code",
   "execution_count": 7,
   "metadata": {},
   "outputs": [
    {
     "data": {
      "text/html": [
       "<dl>\n",
       "\t<dt>$employee</dt>\n",
       "\t\t<dd>'Anna'</dd>\n",
       "\t<dt>$spouse</dt>\n",
       "\t\t<dd>'Fred'</dd>\n",
       "\t<dt>$children</dt>\n",
       "\t\t<dd>3</dd>\n",
       "\t<dt>$child.ages</dt>\n",
       "\t\t<dd><ol class=list-inline>\n",
       "\t<li>4</li>\n",
       "\t<li>7</li>\n",
       "\t<li>9</li>\n",
       "</ol>\n",
       "</dd>\n",
       "</dl>\n"
      ],
      "text/latex": [
       "\\begin{description}\n",
       "\\item[\\$employee] 'Anna'\n",
       "\\item[\\$spouse] 'Fred'\n",
       "\\item[\\$children] 3\n",
       "\\item[\\$child.ages] \\begin{enumerate*}\n",
       "\\item 4\n",
       "\\item 7\n",
       "\\item 9\n",
       "\\end{enumerate*}\n",
       "\n",
       "\\end{description}\n"
      ],
      "text/markdown": [
       "$employee\n",
       ":   'Anna'\n",
       "$spouse\n",
       ":   'Fred'\n",
       "$children\n",
       ":   3\n",
       "$child.ages\n",
       ":   1. 4\n",
       "2. 7\n",
       "3. 9\n",
       "\n",
       "\n",
       "\n",
       "\n",
       "\n"
      ],
      "text/plain": [
       "$employee\n",
       "[1] \"Anna\"\n",
       "\n",
       "$spouse\n",
       "[1] \"Fred\"\n",
       "\n",
       "$children\n",
       "[1] 3\n",
       "\n",
       "$child.ages\n",
       "[1] 4 7 9\n"
      ]
     },
     "metadata": {},
     "output_type": "display_data"
    }
   ],
   "source": [
    "Empl = list(employee = \"Anna\", spouse = \"Fred\", children = 3,\n",
    "             child.ages = c(4, 7, 9))\n",
    "Empl"
   ]
  },
  {
   "cell_type": "markdown",
   "metadata": {},
   "source": [
    "Try the following:"
   ]
  },
  {
   "cell_type": "code",
   "execution_count": 8,
   "metadata": {},
   "outputs": [
    {
     "data": {
      "text/html": [
       "'Anna'"
      ],
      "text/latex": [
       "'Anna'"
      ],
      "text/markdown": [
       "'Anna'"
      ],
      "text/plain": [
       "[1] \"Anna\""
      ]
     },
     "metadata": {},
     "output_type": "display_data"
    },
    {
     "data": {
      "text/html": [
       "'Fred'"
      ],
      "text/latex": [
       "'Fred'"
      ],
      "text/markdown": [
       "'Fred'"
      ],
      "text/plain": [
       "[1] \"Fred\""
      ]
     },
     "metadata": {},
     "output_type": "display_data"
    },
    {
     "data": {
      "text/html": [
       "<ol class=list-inline>\n",
       "\t<li>4</li>\n",
       "\t<li>7</li>\n",
       "\t<li>9</li>\n",
       "</ol>\n"
      ],
      "text/latex": [
       "\\begin{enumerate*}\n",
       "\\item 4\n",
       "\\item 7\n",
       "\\item 9\n",
       "\\end{enumerate*}\n"
      ],
      "text/markdown": [
       "1. 4\n",
       "2. 7\n",
       "3. 9\n",
       "\n",
       "\n"
      ],
      "text/plain": [
       "[1] 4 7 9"
      ]
     },
     "metadata": {},
     "output_type": "display_data"
    },
    {
     "data": {
      "text/html": [
       "3"
      ],
      "text/latex": [
       "3"
      ],
      "text/markdown": [
       "3"
      ],
      "text/plain": [
       "[1] 3"
      ]
     },
     "metadata": {},
     "output_type": "display_data"
    },
    {
     "data": {
      "text/html": [
       "<strong>$child.ages</strong> = <ol class=list-inline>\n",
       "\t<li>4</li>\n",
       "\t<li>7</li>\n",
       "\t<li>9</li>\n",
       "</ol>\n"
      ],
      "text/latex": [
       "\\textbf{\\$child.ages} = \\begin{enumerate*}\n",
       "\\item 4\n",
       "\\item 7\n",
       "\\item 9\n",
       "\\end{enumerate*}\n"
      ],
      "text/markdown": [
       "**$child.ages** = 1. 4\n",
       "2. 7\n",
       "3. 9\n",
       "\n",
       "\n"
      ],
      "text/plain": [
       "$child.ages\n",
       "[1] 4 7 9\n"
      ]
     },
     "metadata": {},
     "output_type": "display_data"
    },
    {
     "data": {
      "text/html": [
       "1"
      ],
      "text/latex": [
       "1"
      ],
      "text/markdown": [
       "1"
      ],
      "text/plain": [
       "[1] 1"
      ]
     },
     "metadata": {},
     "output_type": "display_data"
    },
    {
     "data": {
      "text/html": [
       "<dl>\n",
       "\t<dt>$spouse</dt>\n",
       "\t\t<dd>'Fred'</dd>\n",
       "\t<dt>$children</dt>\n",
       "\t\t<dd>3</dd>\n",
       "\t<dt>$child.ages</dt>\n",
       "\t\t<dd><ol class=list-inline>\n",
       "\t<li>4</li>\n",
       "\t<li>7</li>\n",
       "\t<li>9</li>\n",
       "</ol>\n",
       "</dd>\n",
       "</dl>\n"
      ],
      "text/latex": [
       "\\begin{description}\n",
       "\\item[\\$spouse] 'Fred'\n",
       "\\item[\\$children] 3\n",
       "\\item[\\$child.ages] \\begin{enumerate*}\n",
       "\\item 4\n",
       "\\item 7\n",
       "\\item 9\n",
       "\\end{enumerate*}\n",
       "\n",
       "\\end{description}\n"
      ],
      "text/markdown": [
       "$spouse\n",
       ":   'Fred'\n",
       "$children\n",
       ":   3\n",
       "$child.ages\n",
       ":   1. 4\n",
       "2. 7\n",
       "3. 9\n",
       "\n",
       "\n",
       "\n",
       "\n",
       "\n"
      ],
      "text/plain": [
       "$spouse\n",
       "[1] \"Fred\"\n",
       "\n",
       "$children\n",
       "[1] 3\n",
       "\n",
       "$child.ages\n",
       "[1] 4 7 9\n"
      ]
     },
     "metadata": {},
     "output_type": "display_data"
    }
   ],
   "source": [
    "Empl[[1]]\n",
    "Empl$spouse\n",
    "\n",
    "Empl[[4]]\n",
    "length(Empl[[4]]) # numeric vector of length 3\n",
    "\n",
    "Empl[4]\n",
    "length(Empl[4]) # list of length 1\n",
    "Empl[2:4]  # this works\n"
   ]
  },
  {
   "cell_type": "markdown",
   "metadata": {},
   "source": [
    "Components are always numbered and may be referred to by\n",
    "number. e.g. ```Empl[[1]]```. If they are named, can also be\n",
    "referred to by name using the \\$ operator eg. ```Empl$spouse```\n",
    "\n",
    "## Keeping track of objects\n",
    "\n",
    "Once you have created some objects, how do you remind yourself what you called them? "
   ]
  },
  {
   "cell_type": "code",
   "execution_count": 9,
   "metadata": {},
   "outputs": [
    {
     "data": {
      "text/html": [
       "<ol class=list-inline>\n",
       "\t<li>'age'</li>\n",
       "\t<li>'Empl'</li>\n",
       "\t<li>'mydata'</li>\n",
       "\t<li>'myvar'</li>\n",
       "\t<li>'x'</li>\n",
       "</ol>\n"
      ],
      "text/latex": [
       "\\begin{enumerate*}\n",
       "\\item 'age'\n",
       "\\item 'Empl'\n",
       "\\item 'mydata'\n",
       "\\item 'myvar'\n",
       "\\item 'x'\n",
       "\\end{enumerate*}\n"
      ],
      "text/markdown": [
       "1. 'age'\n",
       "2. 'Empl'\n",
       "3. 'mydata'\n",
       "4. 'myvar'\n",
       "5. 'x'\n",
       "\n",
       "\n"
      ],
      "text/plain": [
       "[1] \"age\"    \"Empl\"   \"mydata\" \"myvar\"  \"x\"     "
      ]
     },
     "metadata": {},
     "output_type": "display_data"
    },
    {
     "name": "stdout",
     "output_type": "stream",
     "text": [
      "List of 4\n",
      " $ employee  : chr \"Anna\"\n",
      " $ spouse    : chr \"Fred\"\n",
      " $ children  : num 3\n",
      " $ child.ages: num [1:3] 4 7 9\n"
     ]
    }
   ],
   "source": [
    "ls()\n",
    "str(Empl)"
   ]
  },
  {
   "cell_type": "markdown",
   "metadata": {},
   "source": [
    "```ls()``` lists the names of all the objects in you workspace and ```str()`` gives information about a specific object.\n",
    "\n",
    "## Operators\n",
    "\n",
    "Arithmetic Operators: ```+, - , /, *, ^```."
   ]
  },
  {
   "cell_type": "code",
   "execution_count": 10,
   "metadata": {},
   "outputs": [
    {
     "data": {
      "text/html": [
       "9"
      ],
      "text/latex": [
       "9"
      ],
      "text/markdown": [
       "9"
      ],
      "text/plain": [
       "[1] 9"
      ]
     },
     "metadata": {},
     "output_type": "display_data"
    },
    {
     "data": {
      "text/html": [
       "1"
      ],
      "text/latex": [
       "1"
      ],
      "text/markdown": [
       "1"
      ],
      "text/plain": [
       "[1] 1"
      ]
     },
     "metadata": {},
     "output_type": "display_data"
    },
    {
     "data": {
      "text/html": [
       "3"
      ],
      "text/latex": [
       "3"
      ],
      "text/markdown": [
       "3"
      ],
      "text/plain": [
       "[1] 3"
      ]
     },
     "metadata": {},
     "output_type": "display_data"
    },
    {
     "data": {
      "text/html": [
       "<table>\n",
       "<tbody>\n",
       "\t<tr><td>5 </td><td>14</td></tr>\n",
       "\t<tr><td>8 </td><td>20</td></tr>\n",
       "</tbody>\n",
       "</table>\n"
      ],
      "text/latex": [
       "\\begin{tabular}{ll}\n",
       "\t 5  & 14\\\\\n",
       "\t 8  & 20\\\\\n",
       "\\end{tabular}\n"
      ],
      "text/markdown": [
       "\n",
       "| 5  | 14 |\n",
       "| 8  | 20 |\n",
       "\n"
      ],
      "text/plain": [
       "     [,1] [,2]\n",
       "[1,] 5    14  \n",
       "[2,] 8    20  "
      ]
     },
     "metadata": {},
     "output_type": "display_data"
    }
   ],
   "source": [
    "3^2\n",
    "10 %% 3 # modulo reduction\n",
    "10 %/% 3 # integer division\n",
    "\n",
    "a = matrix(1:4, nrow=2)\n",
    "b = matrix(c(2, 1, 2, 4), nrow=2)\n",
    "a %*% b # matrix multiplication"
   ]
  },
  {
   "cell_type": "markdown",
   "metadata": {},
   "source": [
    "Operators can also be used on vectors, with recycling if necessary. "
   ]
  },
  {
   "cell_type": "code",
   "execution_count": 11,
   "metadata": {},
   "outputs": [
    {
     "data": {
      "text/html": [
       "<ol class=list-inline>\n",
       "\t<li>4</li>\n",
       "\t<li>5</li>\n",
       "\t<li>6</li>\n",
       "\t<li>7</li>\n",
       "</ol>\n"
      ],
      "text/latex": [
       "\\begin{enumerate*}\n",
       "\\item 4\n",
       "\\item 5\n",
       "\\item 6\n",
       "\\item 7\n",
       "\\end{enumerate*}\n"
      ],
      "text/markdown": [
       "1. 4\n",
       "2. 5\n",
       "3. 6\n",
       "4. 7\n",
       "\n",
       "\n"
      ],
      "text/plain": [
       "[1] 4 5 6 7"
      ]
     },
     "metadata": {},
     "output_type": "display_data"
    },
    {
     "data": {
      "text/html": [
       "<ol class=list-inline>\n",
       "\t<li>6</li>\n",
       "\t<li>8</li>\n",
       "\t<li>8</li>\n",
       "\t<li>10</li>\n",
       "</ol>\n"
      ],
      "text/latex": [
       "\\begin{enumerate*}\n",
       "\\item 6\n",
       "\\item 8\n",
       "\\item 8\n",
       "\\item 10\n",
       "\\end{enumerate*}\n"
      ],
      "text/markdown": [
       "1. 6\n",
       "2. 8\n",
       "3. 8\n",
       "4. 10\n",
       "\n",
       "\n"
      ],
      "text/plain": [
       "[1]  6  8  8 10"
      ]
     },
     "metadata": {},
     "output_type": "display_data"
    }
   ],
   "source": [
    "x = c(1, 2, 3, 4)\n",
    "y = c(5, 6)\n",
    "x + 3\n",
    "#(4,5,6,7) and\n",
    "x + y\n",
    "#(6,8,8,10)"
   ]
  },
  {
   "cell_type": "markdown",
   "metadata": {},
   "source": [
    "## Logical operators\n",
    "\n",
    "* ```==``` (equal), ```!=``` (not equal), ```>, <, >=, <=```\n",
    "\n",
    "* ```!``` (not), ```|``` (or), ```||``` (or), ```&``` (and) ```&&``` (and)\n",
    "\n",
    "* ```|```, ```&``` work on vectors \n",
    "\n",
    "* ```||``` and ```&&``` consider only one element"
   ]
  },
  {
   "cell_type": "markdown",
   "metadata": {},
   "source": [
    "Examples:"
   ]
  },
  {
   "cell_type": "code",
   "execution_count": 12,
   "metadata": {},
   "outputs": [
    {
     "data": {
      "text/html": [
       "<ol class=list-inline>\n",
       "\t<li>TRUE</li>\n",
       "\t<li>TRUE</li>\n",
       "\t<li>TRUE</li>\n",
       "</ol>\n"
      ],
      "text/latex": [
       "\\begin{enumerate*}\n",
       "\\item TRUE\n",
       "\\item TRUE\n",
       "\\item TRUE\n",
       "\\end{enumerate*}\n"
      ],
      "text/markdown": [
       "1. TRUE\n",
       "2. TRUE\n",
       "3. TRUE\n",
       "\n",
       "\n"
      ],
      "text/plain": [
       "[1] TRUE TRUE TRUE"
      ]
     },
     "metadata": {},
     "output_type": "display_data"
    },
    {
     "data": {
      "text/html": [
       "TRUE"
      ],
      "text/latex": [
       "TRUE"
      ],
      "text/markdown": [
       "TRUE"
      ],
      "text/plain": [
       "[1] TRUE"
      ]
     },
     "metadata": {},
     "output_type": "display_data"
    },
    {
     "data": {
      "text/html": [
       "<ol class=list-inline>\n",
       "\t<li>FALSE</li>\n",
       "\t<li>FALSE</li>\n",
       "\t<li>TRUE</li>\n",
       "</ol>\n"
      ],
      "text/latex": [
       "\\begin{enumerate*}\n",
       "\\item FALSE\n",
       "\\item FALSE\n",
       "\\item TRUE\n",
       "\\end{enumerate*}\n"
      ],
      "text/markdown": [
       "1. FALSE\n",
       "2. FALSE\n",
       "3. TRUE\n",
       "\n",
       "\n"
      ],
      "text/plain": [
       "[1] FALSE FALSE  TRUE"
      ]
     },
     "metadata": {},
     "output_type": "display_data"
    },
    {
     "data": {
      "text/html": [
       "FALSE"
      ],
      "text/latex": [
       "FALSE"
      ],
      "text/markdown": [
       "FALSE"
      ],
      "text/plain": [
       "[1] FALSE"
      ]
     },
     "metadata": {},
     "output_type": "display_data"
    },
    {
     "data": {
      "text/html": [
       "TRUE"
      ],
      "text/latex": [
       "TRUE"
      ],
      "text/markdown": [
       "TRUE"
      ],
      "text/plain": [
       "[1] TRUE"
      ]
     },
     "metadata": {},
     "output_type": "display_data"
    }
   ],
   "source": [
    "x = c(TRUE, FALSE, TRUE)\n",
    "y = c(FALSE, TRUE, TRUE)\n",
    "\n",
    "x | y\n",
    "x || y\n",
    "\n",
    "x & y\n",
    "x && y\n",
    "x[3] && y[3]"
   ]
  },
  {
   "cell_type": "markdown",
   "metadata": {},
   "source": [
    "The && is also a \"short circuit and\", i.e. it won't evaluate its second argument if the first argument is FALSE. Compare the following"
   ]
  },
  {
   "cell_type": "markdown",
   "metadata": {},
   "source": [
    "## Dates\n",
    "Example:"
   ]
  },
  {
   "cell_type": "code",
   "execution_count": 13,
   "metadata": {},
   "outputs": [
    {
     "data": {
      "text/html": [
       "'Date'"
      ],
      "text/latex": [
       "'Date'"
      ],
      "text/markdown": [
       "'Date'"
      ],
      "text/plain": [
       "[1] \"Date\""
      ]
     },
     "metadata": {},
     "output_type": "display_data"
    },
    {
     "data": {
      "text/html": [
       "8410"
      ],
      "text/latex": [
       "8410"
      ],
      "text/markdown": [
       "8410"
      ],
      "text/plain": [
       "[1] 8410"
      ]
     },
     "metadata": {},
     "output_type": "display_data"
    },
    {
     "data": {
      "text/plain": [
       "Time difference of 365 days"
      ]
     },
     "metadata": {},
     "output_type": "display_data"
    }
   ],
   "source": [
    "myDate = as.Date('10-Jan-1993', format=\"%d-%b-%Y\")\n",
    "\n",
    "class(myDate)\n",
    "as.numeric(myDate)\n",
    "\n",
    "myDate2 = as.Date('10-Jan-1994', format=\"%d-%b-%Y\")\n",
    "\n",
    "myDate2-myDate # can substract two dates"
   ]
  },
  {
   "cell_type": "markdown",
   "metadata": {},
   "source": [
    "## Some useful functions\n",
    "Look at the following functions (you can use R help to see what they do using \"?funcname\"):"
   ]
  },
  {
   "cell_type": "code",
   "execution_count": 14,
   "metadata": {},
   "outputs": [
    {
     "data": {
      "text/html": [
       "<ol class=list-inline>\n",
       "\t<li>'1'</li>\n",
       "\t<li>'a'</li>\n",
       "</ol>\n"
      ],
      "text/latex": [
       "\\begin{enumerate*}\n",
       "\\item '1'\n",
       "\\item 'a'\n",
       "\\end{enumerate*}\n"
      ],
      "text/markdown": [
       "1. '1'\n",
       "2. 'a'\n",
       "\n",
       "\n"
      ],
      "text/plain": [
       "[1] \"1\" \"a\""
      ]
     },
     "metadata": {},
     "output_type": "display_data"
    },
    {
     "data": {
      "text/html": [
       "<ol class=list-inline>\n",
       "\t<li>1</li>\n",
       "\t<li>2</li>\n",
       "\t<li>3</li>\n",
       "\t<li>4</li>\n",
       "\t<li>5</li>\n",
       "</ol>\n"
      ],
      "text/latex": [
       "\\begin{enumerate*}\n",
       "\\item 1\n",
       "\\item 2\n",
       "\\item 3\n",
       "\\item 4\n",
       "\\item 5\n",
       "\\end{enumerate*}\n"
      ],
      "text/markdown": [
       "1. 1\n",
       "2. 2\n",
       "3. 3\n",
       "4. 4\n",
       "5. 5\n",
       "\n",
       "\n"
      ],
      "text/plain": [
       "[1] 1 2 3 4 5"
      ]
     },
     "metadata": {},
     "output_type": "display_data"
    },
    {
     "data": {
      "text/html": [
       "<ol class=list-inline>\n",
       "\t<li>1</li>\n",
       "\t<li>2</li>\n",
       "\t<li>3</li>\n",
       "\t<li>4</li>\n",
       "\t<li>5</li>\n",
       "</ol>\n"
      ],
      "text/latex": [
       "\\begin{enumerate*}\n",
       "\\item 1\n",
       "\\item 2\n",
       "\\item 3\n",
       "\\item 4\n",
       "\\item 5\n",
       "\\end{enumerate*}\n"
      ],
      "text/markdown": [
       "1. 1\n",
       "2. 2\n",
       "3. 3\n",
       "4. 4\n",
       "5. 5\n",
       "\n",
       "\n"
      ],
      "text/plain": [
       "[1] 1 2 3 4 5"
      ]
     },
     "metadata": {},
     "output_type": "display_data"
    },
    {
     "data": {
      "text/html": [
       "<ol class=list-inline>\n",
       "\t<li>1</li>\n",
       "\t<li>3</li>\n",
       "\t<li>5</li>\n",
       "\t<li>7</li>\n",
       "\t<li>9</li>\n",
       "</ol>\n"
      ],
      "text/latex": [
       "\\begin{enumerate*}\n",
       "\\item 1\n",
       "\\item 3\n",
       "\\item 5\n",
       "\\item 7\n",
       "\\item 9\n",
       "\\end{enumerate*}\n"
      ],
      "text/markdown": [
       "1. 1\n",
       "2. 3\n",
       "3. 5\n",
       "4. 7\n",
       "5. 9\n",
       "\n",
       "\n"
      ],
      "text/plain": [
       "[1] 1 3 5 7 9"
      ]
     },
     "metadata": {},
     "output_type": "display_data"
    },
    {
     "data": {
      "text/html": [
       "<ol class=list-inline>\n",
       "\t<li>1</li>\n",
       "\t<li>2</li>\n",
       "\t<li>1</li>\n",
       "\t<li>2</li>\n",
       "\t<li>1</li>\n",
       "\t<li>2</li>\n",
       "</ol>\n"
      ],
      "text/latex": [
       "\\begin{enumerate*}\n",
       "\\item 1\n",
       "\\item 2\n",
       "\\item 1\n",
       "\\item 2\n",
       "\\item 1\n",
       "\\item 2\n",
       "\\end{enumerate*}\n"
      ],
      "text/markdown": [
       "1. 1\n",
       "2. 2\n",
       "3. 1\n",
       "4. 2\n",
       "5. 1\n",
       "6. 2\n",
       "\n",
       "\n"
      ],
      "text/plain": [
       "[1] 1 2 1 2 1 2"
      ]
     },
     "metadata": {},
     "output_type": "display_data"
    },
    {
     "data": {
      "text/html": [
       "<ol class=list-inline>\n",
       "\t<li>1</li>\n",
       "\t<li>1</li>\n",
       "\t<li>1</li>\n",
       "\t<li>2</li>\n",
       "\t<li>2</li>\n",
       "\t<li>2</li>\n",
       "</ol>\n"
      ],
      "text/latex": [
       "\\begin{enumerate*}\n",
       "\\item 1\n",
       "\\item 1\n",
       "\\item 1\n",
       "\\item 2\n",
       "\\item 2\n",
       "\\item 2\n",
       "\\end{enumerate*}\n"
      ],
      "text/markdown": [
       "1. 1\n",
       "2. 1\n",
       "3. 1\n",
       "4. 2\n",
       "5. 2\n",
       "6. 2\n",
       "\n",
       "\n"
      ],
      "text/plain": [
       "[1] 1 1 1 2 2 2"
      ]
     },
     "metadata": {},
     "output_type": "display_data"
    },
    {
     "data": {
      "text/html": [
       "<ol class=list-inline>\n",
       "\t<li>1</li>\n",
       "\t<li>1</li>\n",
       "\t<li>2</li>\n",
       "\t<li>2</li>\n",
       "\t<li>2</li>\n",
       "</ol>\n"
      ],
      "text/latex": [
       "\\begin{enumerate*}\n",
       "\\item 1\n",
       "\\item 1\n",
       "\\item 2\n",
       "\\item 2\n",
       "\\item 2\n",
       "\\end{enumerate*}\n"
      ],
      "text/markdown": [
       "1. 1\n",
       "2. 1\n",
       "3. 2\n",
       "4. 2\n",
       "5. 2\n",
       "\n",
       "\n"
      ],
      "text/plain": [
       "[1] 1 1 2 2 2"
      ]
     },
     "metadata": {},
     "output_type": "display_data"
    },
    {
     "data": {
      "text/html": [
       "<ol class=list-inline>\n",
       "\t<li>'1 x'</li>\n",
       "\t<li>'2 y'</li>\n",
       "\t<li>'1 z'</li>\n",
       "</ol>\n"
      ],
      "text/latex": [
       "\\begin{enumerate*}\n",
       "\\item '1 x'\n",
       "\\item '2 y'\n",
       "\\item '1 z'\n",
       "\\end{enumerate*}\n"
      ],
      "text/markdown": [
       "1. '1 x'\n",
       "2. '2 y'\n",
       "3. '1 z'\n",
       "\n",
       "\n"
      ],
      "text/plain": [
       "[1] \"1 x\" \"2 y\" \"1 z\""
      ]
     },
     "metadata": {},
     "output_type": "display_data"
    },
    {
     "data": {
      "text/html": [
       "'1 x 2 y 1 z'"
      ],
      "text/latex": [
       "'1 x 2 y 1 z'"
      ],
      "text/markdown": [
       "'1 x 2 y 1 z'"
      ],
      "text/plain": [
       "[1] \"1 x 2 y 1 z\""
      ]
     },
     "metadata": {},
     "output_type": "display_data"
    },
    {
     "data": {
      "text/html": [
       "<ol class=list-inline>\n",
       "\t<li>108</li>\n",
       "\t<li>124</li>\n",
       "\t<li>136</li>\n",
       "\t<li>140</li>\n",
       "\t<li>141</li>\n",
       "\t<li>143</li>\n",
       "\t<li>148</li>\n",
       "\t<li>153</li>\n",
       "\t<li>158</li>\n",
       "\t<li>160</li>\n",
       "\t<li>168</li>\n",
       "\t<li>169</li>\n",
       "\t<li>171</li>\n",
       "\t<li>179</li>\n",
       "\t<li>181</li>\n",
       "\t<li>193</li>\n",
       "\t<li>199</li>\n",
       "\t<li>203</li>\n",
       "\t<li>206</li>\n",
       "\t<li>213</li>\n",
       "\t<li>216</li>\n",
       "\t<li>217</li>\n",
       "\t<li>222</li>\n",
       "\t<li>226</li>\n",
       "\t<li>227</li>\n",
       "\t<li>229</li>\n",
       "\t<li>230</li>\n",
       "\t<li>242</li>\n",
       "\t<li>243</li>\n",
       "\t<li>244</li>\n",
       "\t<li>248</li>\n",
       "\t<li>248</li>\n",
       "\t<li>250</li>\n",
       "\t<li>257</li>\n",
       "\t<li>257</li>\n",
       "\t<li>258</li>\n",
       "\t<li>260</li>\n",
       "\t<li>260</li>\n",
       "\t<li>263</li>\n",
       "\t<li>267</li>\n",
       "\t<li>271</li>\n",
       "\t<li>271</li>\n",
       "\t<li>283</li>\n",
       "\t<li>295</li>\n",
       "\t<li>297</li>\n",
       "\t<li>303</li>\n",
       "\t<li>309</li>\n",
       "\t<li>315</li>\n",
       "\t<li>316</li>\n",
       "\t<li>318</li>\n",
       "\t<li>318</li>\n",
       "\t<li>320</li>\n",
       "\t<li>322</li>\n",
       "\t<li>325</li>\n",
       "\t<li>327</li>\n",
       "\t<li>329</li>\n",
       "\t<li>332</li>\n",
       "\t<li>334</li>\n",
       "\t<li>339</li>\n",
       "\t<li>340</li>\n",
       "\t<li>341</li>\n",
       "\t<li>344</li>\n",
       "\t<li>352</li>\n",
       "\t<li>359</li>\n",
       "\t<li>368</li>\n",
       "\t<li>379</li>\n",
       "\t<li>380</li>\n",
       "\t<li>390</li>\n",
       "\t<li>392</li>\n",
       "\t<li>404</li>\n",
       "\t<li>423</li>\n",
       "</ol>\n"
      ],
      "text/latex": [
       "\\begin{enumerate*}\n",
       "\\item 108\n",
       "\\item 124\n",
       "\\item 136\n",
       "\\item 140\n",
       "\\item 141\n",
       "\\item 143\n",
       "\\item 148\n",
       "\\item 153\n",
       "\\item 158\n",
       "\\item 160\n",
       "\\item 168\n",
       "\\item 169\n",
       "\\item 171\n",
       "\\item 179\n",
       "\\item 181\n",
       "\\item 193\n",
       "\\item 199\n",
       "\\item 203\n",
       "\\item 206\n",
       "\\item 213\n",
       "\\item 216\n",
       "\\item 217\n",
       "\\item 222\n",
       "\\item 226\n",
       "\\item 227\n",
       "\\item 229\n",
       "\\item 230\n",
       "\\item 242\n",
       "\\item 243\n",
       "\\item 244\n",
       "\\item 248\n",
       "\\item 248\n",
       "\\item 250\n",
       "\\item 257\n",
       "\\item 257\n",
       "\\item 258\n",
       "\\item 260\n",
       "\\item 260\n",
       "\\item 263\n",
       "\\item 267\n",
       "\\item 271\n",
       "\\item 271\n",
       "\\item 283\n",
       "\\item 295\n",
       "\\item 297\n",
       "\\item 303\n",
       "\\item 309\n",
       "\\item 315\n",
       "\\item 316\n",
       "\\item 318\n",
       "\\item 318\n",
       "\\item 320\n",
       "\\item 322\n",
       "\\item 325\n",
       "\\item 327\n",
       "\\item 329\n",
       "\\item 332\n",
       "\\item 334\n",
       "\\item 339\n",
       "\\item 340\n",
       "\\item 341\n",
       "\\item 344\n",
       "\\item 352\n",
       "\\item 359\n",
       "\\item 368\n",
       "\\item 379\n",
       "\\item 380\n",
       "\\item 390\n",
       "\\item 392\n",
       "\\item 404\n",
       "\\item 423\n",
       "\\end{enumerate*}\n"
      ],
      "text/markdown": [
       "1. 108\n",
       "2. 124\n",
       "3. 136\n",
       "4. 140\n",
       "5. 141\n",
       "6. 143\n",
       "7. 148\n",
       "8. 153\n",
       "9. 158\n",
       "10. 160\n",
       "11. 168\n",
       "12. 169\n",
       "13. 171\n",
       "14. 179\n",
       "15. 181\n",
       "16. 193\n",
       "17. 199\n",
       "18. 203\n",
       "19. 206\n",
       "20. 213\n",
       "21. 216\n",
       "22. 217\n",
       "23. 222\n",
       "24. 226\n",
       "25. 227\n",
       "26. 229\n",
       "27. 230\n",
       "28. 242\n",
       "29. 243\n",
       "30. 244\n",
       "31. 248\n",
       "32. 248\n",
       "33. 250\n",
       "34. 257\n",
       "35. 257\n",
       "36. 258\n",
       "37. 260\n",
       "38. 260\n",
       "39. 263\n",
       "40. 267\n",
       "41. 271\n",
       "42. 271\n",
       "43. 283\n",
       "44. 295\n",
       "45. 297\n",
       "46. 303\n",
       "47. 309\n",
       "48. 315\n",
       "49. 316\n",
       "50. 318\n",
       "51. 318\n",
       "52. 320\n",
       "53. 322\n",
       "54. 325\n",
       "55. 327\n",
       "56. 329\n",
       "57. 332\n",
       "58. 334\n",
       "59. 339\n",
       "60. 340\n",
       "61. 341\n",
       "62. 344\n",
       "63. 352\n",
       "64. 359\n",
       "65. 368\n",
       "66. 379\n",
       "67. 380\n",
       "68. 390\n",
       "69. 392\n",
       "70. 404\n",
       "71. 423\n",
       "\n",
       "\n"
      ],
      "text/plain": [
       " [1] 108 124 136 140 141 143 148 153 158 160 168 169 171 179 181 193 199 203 206\n",
       "[20] 213 216 217 222 226 227 229 230 242 243 244 248 248 250 257 257 258 260 260\n",
       "[39] 263 267 271 271 283 295 297 303 309 315 316 318 318 320 322 325 327 329 332\n",
       "[58] 334 339 340 341 344 352 359 368 379 380 390 392 404 423"
      ]
     },
     "metadata": {},
     "output_type": "display_data"
    },
    {
     "data": {
      "text/html": [
       "<ol class=list-inline>\n",
       "\t<li>423</li>\n",
       "\t<li>404</li>\n",
       "\t<li>392</li>\n",
       "\t<li>390</li>\n",
       "\t<li>380</li>\n",
       "\t<li>379</li>\n",
       "\t<li>368</li>\n",
       "\t<li>359</li>\n",
       "\t<li>352</li>\n",
       "\t<li>344</li>\n",
       "\t<li>341</li>\n",
       "\t<li>340</li>\n",
       "\t<li>339</li>\n",
       "\t<li>334</li>\n",
       "\t<li>332</li>\n",
       "\t<li>329</li>\n",
       "\t<li>327</li>\n",
       "\t<li>325</li>\n",
       "\t<li>322</li>\n",
       "\t<li>320</li>\n",
       "\t<li>318</li>\n",
       "\t<li>318</li>\n",
       "\t<li>316</li>\n",
       "\t<li>315</li>\n",
       "\t<li>309</li>\n",
       "\t<li>303</li>\n",
       "\t<li>297</li>\n",
       "\t<li>295</li>\n",
       "\t<li>283</li>\n",
       "\t<li>271</li>\n",
       "\t<li>271</li>\n",
       "\t<li>267</li>\n",
       "\t<li>263</li>\n",
       "\t<li>260</li>\n",
       "\t<li>260</li>\n",
       "\t<li>258</li>\n",
       "\t<li>257</li>\n",
       "\t<li>257</li>\n",
       "\t<li>250</li>\n",
       "\t<li>248</li>\n",
       "\t<li>248</li>\n",
       "\t<li>244</li>\n",
       "\t<li>243</li>\n",
       "\t<li>242</li>\n",
       "\t<li>230</li>\n",
       "\t<li>229</li>\n",
       "\t<li>227</li>\n",
       "\t<li>226</li>\n",
       "\t<li>222</li>\n",
       "\t<li>217</li>\n",
       "\t<li>216</li>\n",
       "\t<li>213</li>\n",
       "\t<li>206</li>\n",
       "\t<li>203</li>\n",
       "\t<li>199</li>\n",
       "\t<li>193</li>\n",
       "\t<li>181</li>\n",
       "\t<li>179</li>\n",
       "\t<li>171</li>\n",
       "\t<li>169</li>\n",
       "\t<li>168</li>\n",
       "\t<li>160</li>\n",
       "\t<li>158</li>\n",
       "\t<li>153</li>\n",
       "\t<li>148</li>\n",
       "\t<li>143</li>\n",
       "\t<li>141</li>\n",
       "\t<li>140</li>\n",
       "\t<li>136</li>\n",
       "\t<li>124</li>\n",
       "\t<li>108</li>\n",
       "</ol>\n"
      ],
      "text/latex": [
       "\\begin{enumerate*}\n",
       "\\item 423\n",
       "\\item 404\n",
       "\\item 392\n",
       "\\item 390\n",
       "\\item 380\n",
       "\\item 379\n",
       "\\item 368\n",
       "\\item 359\n",
       "\\item 352\n",
       "\\item 344\n",
       "\\item 341\n",
       "\\item 340\n",
       "\\item 339\n",
       "\\item 334\n",
       "\\item 332\n",
       "\\item 329\n",
       "\\item 327\n",
       "\\item 325\n",
       "\\item 322\n",
       "\\item 320\n",
       "\\item 318\n",
       "\\item 318\n",
       "\\item 316\n",
       "\\item 315\n",
       "\\item 309\n",
       "\\item 303\n",
       "\\item 297\n",
       "\\item 295\n",
       "\\item 283\n",
       "\\item 271\n",
       "\\item 271\n",
       "\\item 267\n",
       "\\item 263\n",
       "\\item 260\n",
       "\\item 260\n",
       "\\item 258\n",
       "\\item 257\n",
       "\\item 257\n",
       "\\item 250\n",
       "\\item 248\n",
       "\\item 248\n",
       "\\item 244\n",
       "\\item 243\n",
       "\\item 242\n",
       "\\item 230\n",
       "\\item 229\n",
       "\\item 227\n",
       "\\item 226\n",
       "\\item 222\n",
       "\\item 217\n",
       "\\item 216\n",
       "\\item 213\n",
       "\\item 206\n",
       "\\item 203\n",
       "\\item 199\n",
       "\\item 193\n",
       "\\item 181\n",
       "\\item 179\n",
       "\\item 171\n",
       "\\item 169\n",
       "\\item 168\n",
       "\\item 160\n",
       "\\item 158\n",
       "\\item 153\n",
       "\\item 148\n",
       "\\item 143\n",
       "\\item 141\n",
       "\\item 140\n",
       "\\item 136\n",
       "\\item 124\n",
       "\\item 108\n",
       "\\end{enumerate*}\n"
      ],
      "text/markdown": [
       "1. 423\n",
       "2. 404\n",
       "3. 392\n",
       "4. 390\n",
       "5. 380\n",
       "6. 379\n",
       "7. 368\n",
       "8. 359\n",
       "9. 352\n",
       "10. 344\n",
       "11. 341\n",
       "12. 340\n",
       "13. 339\n",
       "14. 334\n",
       "15. 332\n",
       "16. 329\n",
       "17. 327\n",
       "18. 325\n",
       "19. 322\n",
       "20. 320\n",
       "21. 318\n",
       "22. 318\n",
       "23. 316\n",
       "24. 315\n",
       "25. 309\n",
       "26. 303\n",
       "27. 297\n",
       "28. 295\n",
       "29. 283\n",
       "30. 271\n",
       "31. 271\n",
       "32. 267\n",
       "33. 263\n",
       "34. 260\n",
       "35. 260\n",
       "36. 258\n",
       "37. 257\n",
       "38. 257\n",
       "39. 250\n",
       "40. 248\n",
       "41. 248\n",
       "42. 244\n",
       "43. 243\n",
       "44. 242\n",
       "45. 230\n",
       "46. 229\n",
       "47. 227\n",
       "48. 226\n",
       "49. 222\n",
       "50. 217\n",
       "51. 216\n",
       "52. 213\n",
       "53. 206\n",
       "54. 203\n",
       "55. 199\n",
       "56. 193\n",
       "57. 181\n",
       "58. 179\n",
       "59. 171\n",
       "60. 169\n",
       "61. 168\n",
       "62. 160\n",
       "63. 158\n",
       "64. 153\n",
       "65. 148\n",
       "66. 143\n",
       "67. 141\n",
       "68. 140\n",
       "69. 136\n",
       "70. 124\n",
       "71. 108\n",
       "\n",
       "\n"
      ],
      "text/plain": [
       " [1] 423 404 392 390 380 379 368 359 352 344 341 340 339 334 332 329 327 325 322\n",
       "[20] 320 318 318 316 315 309 303 297 295 283 271 271 267 263 260 260 258 257 257\n",
       "[39] 250 248 248 244 243 242 230 229 227 226 222 217 216 213 206 203 199 193 181\n",
       "[58] 179 171 169 168 160 158 153 148 143 141 140 136 124 108"
      ]
     },
     "metadata": {},
     "output_type": "display_data"
    },
    {
     "data": {
      "text/plain": [
       "\n",
       " 0  2  3  4  5  6  7  9 10 \n",
       " 1  4  3  3  3  1  3  1  1 "
      ]
     },
     "metadata": {},
     "output_type": "display_data"
    }
   ],
   "source": [
    "c(1, \"a\")\n",
    "1:5\n",
    "c(1,2,3,4,5)\n",
    "seq(1, 10, by=2) #sequence from 1 to 10 in steps of 2\n",
    "rep(c(1, 2), times=3)  # replicate (1,2) 3 times\n",
    "rep(c(1, 2), each=3)   # replicate (1,2) first entry 3 times and second 3 times \n",
    "rep(c(1, 2), c(2, 3))  # replicate (1,2) first entry 2 times and second 3 times\n",
    "\n",
    "\n",
    "paste(c(1, 2), c('x', 'y', 'z')) # create vector of concatenations of the two vectors\n",
    "paste(c(1, 2), c('x', 'y', 'z'), collapse=' ') # create the previous vector and concatenate its entries into a single string\n",
    "\n",
    "sort(mydata$weight) # sort ascending\n",
    "sort(mydata$weight, decreasing=TRUE) # sort descending\n",
    "\n",
    "table(rpois(20, 5)) # create a table with 20 random poisson variables with rate parameter lambda=5"
   ]
  },
  {
   "cell_type": "markdown",
   "metadata": {},
   "source": [
    "## Matrices, arrays and indexing"
   ]
  },
  {
   "cell_type": "code",
   "execution_count": 15,
   "metadata": {},
   "outputs": [
    {
     "data": {
      "text/html": [
       "<table>\n",
       "<tbody>\n",
       "\t<tr><td>1 </td><td>4 </td><td>7 </td><td>10</td></tr>\n",
       "\t<tr><td>2 </td><td>5 </td><td>8 </td><td>11</td></tr>\n",
       "\t<tr><td>3 </td><td>6 </td><td>9 </td><td>12</td></tr>\n",
       "</tbody>\n",
       "</table>\n"
      ],
      "text/latex": [
       "\\begin{tabular}{llll}\n",
       "\t 1  & 4  & 7  & 10\\\\\n",
       "\t 2  & 5  & 8  & 11\\\\\n",
       "\t 3  & 6  & 9  & 12\\\\\n",
       "\\end{tabular}\n"
      ],
      "text/markdown": [
       "\n",
       "| 1  | 4  | 7  | 10 |\n",
       "| 2  | 5  | 8  | 11 |\n",
       "| 3  | 6  | 9  | 12 |\n",
       "\n"
      ],
      "text/plain": [
       "     [,1] [,2] [,3] [,4]\n",
       "[1,] 1    4    7    10  \n",
       "[2,] 2    5    8    11  \n",
       "[3,] 3    6    9    12  "
      ]
     },
     "metadata": {},
     "output_type": "display_data"
    },
    {
     "data": {
      "text/html": [
       "<ol class=list-inline>\n",
       "\t<li>3</li>\n",
       "\t<li>4</li>\n",
       "</ol>\n"
      ],
      "text/latex": [
       "\\begin{enumerate*}\n",
       "\\item 3\n",
       "\\item 4\n",
       "\\end{enumerate*}\n"
      ],
      "text/markdown": [
       "1. 3\n",
       "2. 4\n",
       "\n",
       "\n"
      ],
      "text/plain": [
       "[1] 3 4"
      ]
     },
     "metadata": {},
     "output_type": "display_data"
    },
    {
     "data": {
      "text/html": [
       "<ol class=list-inline>\n",
       "\t<li>1</li>\n",
       "\t<li>2</li>\n",
       "\t<li>3</li>\n",
       "\t<li>4</li>\n",
       "\t<li>5</li>\n",
       "\t<li>6</li>\n",
       "\t<li>7</li>\n",
       "\t<li>8</li>\n",
       "\t<li>9</li>\n",
       "\t<li>10</li>\n",
       "\t<li>11</li>\n",
       "\t<li>12</li>\n",
       "</ol>\n"
      ],
      "text/latex": [
       "\\begin{enumerate*}\n",
       "\\item 1\n",
       "\\item 2\n",
       "\\item 3\n",
       "\\item 4\n",
       "\\item 5\n",
       "\\item 6\n",
       "\\item 7\n",
       "\\item 8\n",
       "\\item 9\n",
       "\\item 10\n",
       "\\item 11\n",
       "\\item 12\n",
       "\\end{enumerate*}\n"
      ],
      "text/markdown": [
       "1. 1\n",
       "2. 2\n",
       "3. 3\n",
       "4. 4\n",
       "5. 5\n",
       "6. 6\n",
       "7. 7\n",
       "8. 8\n",
       "9. 9\n",
       "10. 10\n",
       "11. 11\n",
       "12. 12\n",
       "\n",
       "\n"
      ],
      "text/plain": [
       ", , 1\n",
       "\n",
       "     [,1] [,2]\n",
       "[1,]    1    4\n",
       "[2,]    2    5\n",
       "[3,]    3    6\n",
       "\n",
       ", , 2\n",
       "\n",
       "     [,1] [,2]\n",
       "[1,]    7   10\n",
       "[2,]    8   11\n",
       "[3,]    9   12\n"
      ]
     },
     "metadata": {},
     "output_type": "display_data"
    },
    {
     "data": {
      "text/html": [
       "<table>\n",
       "<tbody>\n",
       "\t<tr><td>1</td><td>4</td></tr>\n",
       "\t<tr><td>2</td><td>5</td></tr>\n",
       "\t<tr><td>3</td><td>6</td></tr>\n",
       "</tbody>\n",
       "</table>\n"
      ],
      "text/latex": [
       "\\begin{tabular}{ll}\n",
       "\t 1 & 4\\\\\n",
       "\t 2 & 5\\\\\n",
       "\t 3 & 6\\\\\n",
       "\\end{tabular}\n"
      ],
      "text/markdown": [
       "\n",
       "| 1 | 4 |\n",
       "| 2 | 5 |\n",
       "| 3 | 6 |\n",
       "\n"
      ],
      "text/plain": [
       "     [,1] [,2]\n",
       "[1,] 1    4   \n",
       "[2,] 2    5   \n",
       "[3,] 3    6   "
      ]
     },
     "metadata": {},
     "output_type": "display_data"
    },
    {
     "data": {
      "text/html": [
       "<dl class=dl-horizontal>\n",
       "\t<dt>a</dt>\n",
       "\t\t<dd>2</dd>\n",
       "\t<dt>c</dt>\n",
       "\t\t<dd>6</dd>\n",
       "\t<dt>f</dt>\n",
       "\t\t<dd>12</dd>\n",
       "\t<dt>e</dt>\n",
       "\t\t<dd>10</dd>\n",
       "</dl>\n"
      ],
      "text/latex": [
       "\\begin{description*}\n",
       "\\item[a] 2\n",
       "\\item[c] 6\n",
       "\\item[f] 12\n",
       "\\item[e] 10\n",
       "\\end{description*}\n"
      ],
      "text/markdown": [
       "a\n",
       ":   2c\n",
       ":   6f\n",
       ":   12e\n",
       ":   10\n",
       "\n"
      ],
      "text/plain": [
       " a  c  f  e \n",
       " 2  6 12 10 "
      ]
     },
     "metadata": {},
     "output_type": "display_data"
    },
    {
     "data": {
      "text/html": [
       "<dl class=dl-horizontal>\n",
       "\t<dt>a</dt>\n",
       "\t\t<dd>2</dd>\n",
       "\t<dt>c</dt>\n",
       "\t\t<dd>6</dd>\n",
       "\t<dt>f</dt>\n",
       "\t\t<dd>12</dd>\n",
       "\t<dt>e</dt>\n",
       "\t\t<dd>10</dd>\n",
       "</dl>\n"
      ],
      "text/latex": [
       "\\begin{description*}\n",
       "\\item[a] 2\n",
       "\\item[c] 6\n",
       "\\item[f] 12\n",
       "\\item[e] 10\n",
       "\\end{description*}\n"
      ],
      "text/markdown": [
       "a\n",
       ":   2c\n",
       ":   6f\n",
       ":   12e\n",
       ":   10\n",
       "\n"
      ],
      "text/plain": [
       " a  c  f  e \n",
       " 2  6 12 10 "
      ]
     },
     "metadata": {},
     "output_type": "display_data"
    },
    {
     "data": {
      "text/html": [
       "<dl class=dl-horizontal>\n",
       "\t<dt>a</dt>\n",
       "\t\t<dd>2</dd>\n",
       "\t<dt>c</dt>\n",
       "\t\t<dd>6</dd>\n",
       "</dl>\n"
      ],
      "text/latex": [
       "\\begin{description*}\n",
       "\\item[a] 2\n",
       "\\item[c] 6\n",
       "\\end{description*}\n"
      ],
      "text/markdown": [
       "a\n",
       ":   2c\n",
       ":   6\n",
       "\n"
      ],
      "text/plain": [
       "a c \n",
       "2 6 "
      ]
     },
     "metadata": {},
     "output_type": "display_data"
    },
    {
     "data": {
      "text/html": [
       "<dl class=dl-horizontal>\n",
       "\t<dt>b</dt>\n",
       "\t\t<dd>4</dd>\n",
       "\t<dt>c</dt>\n",
       "\t\t<dd>6</dd>\n",
       "\t<dt>e</dt>\n",
       "\t\t<dd>10</dd>\n",
       "\t<dt>f</dt>\n",
       "\t\t<dd>12</dd>\n",
       "</dl>\n"
      ],
      "text/latex": [
       "\\begin{description*}\n",
       "\\item[b] 4\n",
       "\\item[c] 6\n",
       "\\item[e] 10\n",
       "\\item[f] 12\n",
       "\\end{description*}\n"
      ],
      "text/markdown": [
       "b\n",
       ":   4c\n",
       ":   6e\n",
       ":   10f\n",
       ":   12\n",
       "\n"
      ],
      "text/plain": [
       " b  c  e  f \n",
       " 4  6 10 12 "
      ]
     },
     "metadata": {},
     "output_type": "display_data"
    },
    {
     "data": {
      "text/html": [
       "0"
      ],
      "text/latex": [
       "0"
      ],
      "text/markdown": [
       "0"
      ],
      "text/plain": [
       "[1] 0"
      ]
     },
     "metadata": {},
     "output_type": "display_data"
    },
    {
     "data": {
      "text/html": [
       "<ol class=list-inline>\n",
       "\t<li>'a'</li>\n",
       "\t<li>'b'</li>\n",
       "\t<li>'c'</li>\n",
       "\t<li>'d'</li>\n",
       "\t<li>'e'</li>\n",
       "\t<li>'f'</li>\n",
       "</ol>\n"
      ],
      "text/latex": [
       "\\begin{enumerate*}\n",
       "\\item 'a'\n",
       "\\item 'b'\n",
       "\\item 'c'\n",
       "\\item 'd'\n",
       "\\item 'e'\n",
       "\\item 'f'\n",
       "\\end{enumerate*}\n"
      ],
      "text/markdown": [
       "1. 'a'\n",
       "2. 'b'\n",
       "3. 'c'\n",
       "4. 'd'\n",
       "5. 'e'\n",
       "6. 'f'\n",
       "\n",
       "\n"
      ],
      "text/plain": [
       "[1] \"a\" \"b\" \"c\" \"d\" \"e\" \"f\""
      ]
     },
     "metadata": {},
     "output_type": "display_data"
    },
    {
     "data": {
      "text/html": [
       "0"
      ],
      "text/latex": [
       "0"
      ],
      "text/markdown": [
       "0"
      ],
      "text/plain": [
       "[1] 0"
      ]
     },
     "metadata": {},
     "output_type": "display_data"
    },
    {
     "data": {
      "text/html": [
       "8"
      ],
      "text/latex": [
       "8"
      ],
      "text/markdown": [
       "8"
      ],
      "text/plain": [
       "[1] 8"
      ]
     },
     "metadata": {},
     "output_type": "display_data"
    },
    {
     "data": {
      "text/html": [
       "<strong>NA:</strong> &lt;NA&gt;"
      ],
      "text/latex": [
       "\\textbf{NA:} <NA>"
      ],
      "text/markdown": [
       "**NA:** &lt;NA&gt;"
      ],
      "text/plain": [
       "<NA> \n",
       "  NA "
      ]
     },
     "metadata": {},
     "output_type": "display_data"
    },
    {
     "data": {
      "text/html": [
       "<table>\n",
       "<tbody>\n",
       "\t<tr><td>1 </td><td>7 </td><td>10</td></tr>\n",
       "\t<tr><td>2 </td><td>8 </td><td>11</td></tr>\n",
       "</tbody>\n",
       "</table>\n"
      ],
      "text/latex": [
       "\\begin{tabular}{lll}\n",
       "\t 1  & 7  & 10\\\\\n",
       "\t 2  & 8  & 11\\\\\n",
       "\\end{tabular}\n"
      ],
      "text/markdown": [
       "\n",
       "| 1  | 7  | 10 |\n",
       "| 2  | 8  | 11 |\n",
       "\n"
      ],
      "text/plain": [
       "     [,1] [,2] [,3]\n",
       "[1,] 1    7    10  \n",
       "[2,] 2    8    11  "
      ]
     },
     "metadata": {},
     "output_type": "display_data"
    },
    {
     "data": {
      "text/html": [
       "<ol class=list-inline>\n",
       "\t<li>179</li>\n",
       "\t<li>160</li>\n",
       "</ol>\n"
      ],
      "text/latex": [
       "\\begin{enumerate*}\n",
       "\\item 179\n",
       "\\item 160\n",
       "\\end{enumerate*}\n"
      ],
      "text/markdown": [
       "1. 179\n",
       "2. 160\n",
       "\n",
       "\n"
      ],
      "text/plain": [
       "[1] 179 160"
      ]
     },
     "metadata": {},
     "output_type": "display_data"
    },
    {
     "data": {
      "text/html": [
       "'integer'"
      ],
      "text/latex": [
       "'integer'"
      ],
      "text/markdown": [
       "'integer'"
      ],
      "text/plain": [
       "[1] \"integer\""
      ]
     },
     "metadata": {},
     "output_type": "display_data"
    },
    {
     "data": {
      "text/html": [
       "<table>\n",
       "<thead><tr><th scope=col>weight</th><th scope=col>feed</th></tr></thead>\n",
       "<tbody>\n",
       "\t<tr><td>179      </td><td>horsebean</td></tr>\n",
       "</tbody>\n",
       "</table>\n"
      ],
      "text/latex": [
       "\\begin{tabular}{r|ll}\n",
       " weight & feed\\\\\n",
       "\\hline\n",
       "\t 179       & horsebean\\\\\n",
       "\\end{tabular}\n"
      ],
      "text/markdown": [
       "\n",
       "| weight | feed |\n",
       "|---|---|\n",
       "| 179       | horsebean |\n",
       "\n"
      ],
      "text/plain": [
       "  weight feed     \n",
       "1 179    horsebean"
      ]
     },
     "metadata": {},
     "output_type": "display_data"
    },
    {
     "data": {
      "text/html": [
       "'data.frame'"
      ],
      "text/latex": [
       "'data.frame'"
      ],
      "text/markdown": [
       "'data.frame'"
      ],
      "text/plain": [
       "[1] \"data.frame\""
      ]
     },
     "metadata": {},
     "output_type": "display_data"
    }
   ],
   "source": [
    "(mymat = matrix(1:12, 3, 4)) # Entries go down columns unless you specify byrow=TRUE.\n",
    "dim(mymat)\n",
    "myarr = mymat\n",
    "dim(myarr) = c(3,2,2) # creating an array\n",
    "myarr\n",
    "myarr[,,1] # using indexing to select the entries of the arrays third dimension y\n",
    "\n",
    "x = c(2,4,6,8,10,12)\n",
    "names(x) = c(\"a\", \"b\", \"c\", \"d\", \"e\", \"f\")\n",
    "\n",
    "## Use different types of indices\n",
    "x[c(1,3,6,5)] \n",
    "x[c(\"a\",\"c\",\"f\", \"e\")] ## gives same as above\n",
    "x[c(TRUE,FALSE,TRUE,rep(FALSE,3))] # can also use logical vectors to select entries\n",
    "x[c(-1,-4)] ## exclude first and fourth entry\n",
    "\n",
    "y = x\n",
    "(y[]  =  0 ) ## Empty. Select all, useful to replace all vector entries\n",
    "names(y) ## will be the same as before\n",
    "\n",
    "# compare with:\n",
    "y = x\n",
    "(y = 0) \n",
    "\n",
    "# Recycling:\n",
    "x[c(1,3)] = 4.5 # recycling will be used if sub-vector selected for replacement is longer than the right-hand side.\n",
    "\n",
    "(x[10] = 8) # replacing to an index greater than the length of the vector extends it, filling in with NA's\n",
    "\n",
    "x[11] # returns NA\n",
    "\n",
    "# indexing matrices and arrays\n",
    "mymat[1:2, -2]\n",
    "mymat[mymat>1] = NA # note: no comma\n",
    "\n",
    "mymat = matrix(1:12, 3, 4)\n",
    "mymat[cbind(rep(1,3), c(2,3,4))] = NA\n",
    "\n",
    "# If the result has length 1 in any dimension, this is dropped unless you use the argument drop=FALSE:\n",
    "mydata[1:2, 1] #is a vector\n",
    "class(mydata[1:2, 1])\n",
    "\n",
    "mydata[1, 1:2] #is a data.frame\n",
    "class(mydata[1, 1:2]) "
   ]
  },
  {
   "cell_type": "markdown",
   "metadata": {},
   "source": [
    "## Indexing data frames\n",
    "\n",
    "* Data frames can be indexed like matrices, but only ```drop``` dimensions if you select from a single column, not if you select from a single row.\n",
    "\n",
    "* If you select rows from a data frame with only one column the result will be a vector unless you use ```drop=FALSE```\n",
    "\n",
    "* Often want to select the rows of a data frame which meet some criterion.\n",
    "\n",
    "* use logical indexing"
   ]
  },
  {
   "cell_type": "code",
   "execution_count": 16,
   "metadata": {},
   "outputs": [
    {
     "data": {
      "text/html": [
       "<table>\n",
       "<thead><tr><th scope=col>weight</th><th scope=col>feed</th></tr></thead>\n",
       "<tbody>\n",
       "\t<tr><td>179      </td><td>horsebean</td></tr>\n",
       "</tbody>\n",
       "</table>\n"
      ],
      "text/latex": [
       "\\begin{tabular}{r|ll}\n",
       " weight & feed\\\\\n",
       "\\hline\n",
       "\t 179       & horsebean\\\\\n",
       "\\end{tabular}\n"
      ],
      "text/markdown": [
       "\n",
       "| weight | feed |\n",
       "|---|---|\n",
       "| 179       | horsebean |\n",
       "\n"
      ],
      "text/plain": [
       "  weight feed     \n",
       "1 179    horsebean"
      ]
     },
     "metadata": {},
     "output_type": "display_data"
    },
    {
     "data": {
      "text/html": [
       "<dl>\n",
       "\t<dt>$levels</dt>\n",
       "\t\t<dd><ol class=list-inline>\n",
       "\t<li>'casein'</li>\n",
       "\t<li>'horsebean'</li>\n",
       "\t<li>'linseed'</li>\n",
       "\t<li>'meatmeal'</li>\n",
       "\t<li>'soybean'</li>\n",
       "\t<li>'sunflower'</li>\n",
       "</ol>\n",
       "</dd>\n",
       "\t<dt>$class</dt>\n",
       "\t\t<dd>'factor'</dd>\n",
       "</dl>\n"
      ],
      "text/latex": [
       "\\begin{description}\n",
       "\\item[\\$levels] \\begin{enumerate*}\n",
       "\\item 'casein'\n",
       "\\item 'horsebean'\n",
       "\\item 'linseed'\n",
       "\\item 'meatmeal'\n",
       "\\item 'soybean'\n",
       "\\item 'sunflower'\n",
       "\\end{enumerate*}\n",
       "\n",
       "\\item[\\$class] 'factor'\n",
       "\\end{description}\n"
      ],
      "text/markdown": [
       "$levels\n",
       ":   1. 'casein'\n",
       "2. 'horsebean'\n",
       "3. 'linseed'\n",
       "4. 'meatmeal'\n",
       "5. 'soybean'\n",
       "6. 'sunflower'\n",
       "\n",
       "\n",
       "\n",
       "$class\n",
       ":   'factor'\n",
       "\n",
       "\n"
      ],
      "text/plain": [
       "$levels\n",
       "[1] \"casein\"    \"horsebean\" \"linseed\"   \"meatmeal\"  \"soybean\"   \"sunflower\"\n",
       "\n",
       "$class\n",
       "[1] \"factor\"\n"
      ]
     },
     "metadata": {},
     "output_type": "display_data"
    },
    {
     "data": {
      "text/html": [
       "<table>\n",
       "<thead><tr><th></th><th scope=col>weight</th><th scope=col>feed</th></tr></thead>\n",
       "<tbody>\n",
       "\t<tr><th scope=row>37</th><td>423      </td><td>sunflower</td></tr>\n",
       "\t<tr><th scope=row>64</th><td>404      </td><td>casein   </td></tr>\n",
       "</tbody>\n",
       "</table>\n"
      ],
      "text/latex": [
       "\\begin{tabular}{r|ll}\n",
       "  & weight & feed\\\\\n",
       "\\hline\n",
       "\t37 & 423       & sunflower\\\\\n",
       "\t64 & 404       & casein   \\\\\n",
       "\\end{tabular}\n"
      ],
      "text/markdown": [
       "\n",
       "| <!--/--> | weight | feed |\n",
       "|---|---|---|\n",
       "| 37 | 423       | sunflower |\n",
       "| 64 | 404       | casein    |\n",
       "\n"
      ],
      "text/plain": [
       "   weight feed     \n",
       "37 423    sunflower\n",
       "64 404    casein   "
      ]
     },
     "metadata": {},
     "output_type": "display_data"
    }
   ],
   "source": [
    "mydata[1,]\n",
    "attributes(mydata[,2])\n",
    "\n",
    "mydata[mydata$weight> 400,] #index by rows where weight is greater than 400 "
   ]
  },
  {
   "cell_type": "markdown",
   "metadata": {},
   "source": [
    "## More Examples on matrices: Lower triangular, adding matrices, eigenvalues, column sums, ...\n",
    "\n",
    "Check out the following:"
   ]
  },
  {
   "cell_type": "code",
   "execution_count": 17,
   "metadata": {},
   "outputs": [
    {
     "data": {
      "text/html": [
       "<table>\n",
       "<tbody>\n",
       "\t<tr><td>1 </td><td>4 </td><td>7 </td><td>10</td></tr>\n",
       "\t<tr><td>2 </td><td>5 </td><td>8 </td><td>11</td></tr>\n",
       "\t<tr><td>3 </td><td>6 </td><td>9 </td><td>12</td></tr>\n",
       "</tbody>\n",
       "</table>\n"
      ],
      "text/latex": [
       "\\begin{tabular}{llll}\n",
       "\t 1  & 4  & 7  & 10\\\\\n",
       "\t 2  & 5  & 8  & 11\\\\\n",
       "\t 3  & 6  & 9  & 12\\\\\n",
       "\\end{tabular}\n"
      ],
      "text/markdown": [
       "\n",
       "| 1  | 4  | 7  | 10 |\n",
       "| 2  | 5  | 8  | 11 |\n",
       "| 3  | 6  | 9  | 12 |\n",
       "\n"
      ],
      "text/plain": [
       "     [,1] [,2] [,3] [,4]\n",
       "[1,] 1    4    7    10  \n",
       "[2,] 2    5    8    11  \n",
       "[3,] 3    6    9    12  "
      ]
     },
     "metadata": {},
     "output_type": "display_data"
    },
    {
     "data": {
      "text/html": [
       "<table>\n",
       "<tbody>\n",
       "\t<tr><td>1 </td><td> 2</td><td> 3</td><td> 4</td></tr>\n",
       "\t<tr><td>5 </td><td> 6</td><td> 7</td><td> 8</td></tr>\n",
       "\t<tr><td>9 </td><td>10</td><td>11</td><td>12</td></tr>\n",
       "</tbody>\n",
       "</table>\n"
      ],
      "text/latex": [
       "\\begin{tabular}{llll}\n",
       "\t 1  &  2 &  3 &  4\\\\\n",
       "\t 5  &  6 &  7 &  8\\\\\n",
       "\t 9  & 10 & 11 & 12\\\\\n",
       "\\end{tabular}\n"
      ],
      "text/markdown": [
       "\n",
       "| 1  |  2 |  3 |  4 |\n",
       "| 5  |  6 |  7 |  8 |\n",
       "| 9  | 10 | 11 | 12 |\n",
       "\n"
      ],
      "text/plain": [
       "     [,1] [,2] [,3] [,4]\n",
       "[1,] 1     2    3    4  \n",
       "[2,] 5     6    7    8  \n",
       "[3,] 9    10   11   12  "
      ]
     },
     "metadata": {},
     "output_type": "display_data"
    },
    {
     "data": {
      "text/html": [
       "<table>\n",
       "<tbody>\n",
       "\t<tr><td> 2</td><td> 6</td><td>10</td><td>14</td></tr>\n",
       "\t<tr><td> 7</td><td>11</td><td>15</td><td>19</td></tr>\n",
       "\t<tr><td>12</td><td>16</td><td>20</td><td>24</td></tr>\n",
       "</tbody>\n",
       "</table>\n"
      ],
      "text/latex": [
       "\\begin{tabular}{llll}\n",
       "\t  2 &  6 & 10 & 14\\\\\n",
       "\t  7 & 11 & 15 & 19\\\\\n",
       "\t 12 & 16 & 20 & 24\\\\\n",
       "\\end{tabular}\n"
      ],
      "text/markdown": [
       "\n",
       "|  2 |  6 | 10 | 14 |\n",
       "|  7 | 11 | 15 | 19 |\n",
       "| 12 | 16 | 20 | 24 |\n",
       "\n"
      ],
      "text/plain": [
       "     [,1] [,2] [,3] [,4]\n",
       "[1,]  2    6   10   14  \n",
       "[2,]  7   11   15   19  \n",
       "[3,] 12   16   20   24  "
      ]
     },
     "metadata": {},
     "output_type": "display_data"
    },
    {
     "data": {
      "text/html": [
       "<table>\n",
       "<tbody>\n",
       "\t<tr><td>70 </td><td>158</td><td>246</td></tr>\n",
       "\t<tr><td>80 </td><td>184</td><td>288</td></tr>\n",
       "\t<tr><td>90 </td><td>210</td><td>330</td></tr>\n",
       "</tbody>\n",
       "</table>\n"
      ],
      "text/latex": [
       "\\begin{tabular}{lll}\n",
       "\t 70  & 158 & 246\\\\\n",
       "\t 80  & 184 & 288\\\\\n",
       "\t 90  & 210 & 330\\\\\n",
       "\\end{tabular}\n"
      ],
      "text/markdown": [
       "\n",
       "| 70  | 158 | 246 |\n",
       "| 80  | 184 | 288 |\n",
       "| 90  | 210 | 330 |\n",
       "\n"
      ],
      "text/plain": [
       "     [,1] [,2] [,3]\n",
       "[1,] 70   158  246 \n",
       "[2,] 80   184  288 \n",
       "[3,] 90   210  330 "
      ]
     },
     "metadata": {},
     "output_type": "display_data"
    },
    {
     "data": {
      "text/html": [
       "<table>\n",
       "<tbody>\n",
       "\t<tr><td> 0.07146669</td><td>-0.4187667 </td><td> 0.3390059 </td></tr>\n",
       "\t<tr><td> 1.29757118</td><td>-0.7294324 </td><td>-0.1576092 </td></tr>\n",
       "\t<tr><td>-0.92321345</td><td>-0.6068482 </td><td>-0.2549748 </td></tr>\n",
       "</tbody>\n",
       "</table>\n"
      ],
      "text/latex": [
       "\\begin{tabular}{lll}\n",
       "\t  0.07146669 & -0.4187667  &  0.3390059 \\\\\n",
       "\t  1.29757118 & -0.7294324  & -0.1576092 \\\\\n",
       "\t -0.92321345 & -0.6068482  & -0.2549748 \\\\\n",
       "\\end{tabular}\n"
      ],
      "text/markdown": [
       "\n",
       "|  0.07146669 | -0.4187667  |  0.3390059  |\n",
       "|  1.29757118 | -0.7294324  | -0.1576092  |\n",
       "| -0.92321345 | -0.6068482  | -0.2549748  |\n",
       "\n"
      ],
      "text/plain": [
       "     [,1]        [,2]       [,3]      \n",
       "[1,]  0.07146669 -0.4187667  0.3390059\n",
       "[2,]  1.29757118 -0.7294324 -0.1576092\n",
       "[3,] -0.92321345 -0.6068482 -0.2549748"
      ]
     },
     "metadata": {},
     "output_type": "display_data"
    },
    {
     "data": {
      "text/plain": [
       "eigen() decomposition\n",
       "$values\n",
       "[1]  0.634857 -0.660316 -1.247812\n",
       "\n",
       "$vectors\n",
       "           [,1]       [,2]       [,3]\n",
       "[1,] -0.6416955  0.7622148 0.08517897\n",
       "[2,] -0.5820237 -0.5562791 0.59312901\n",
       "[3,]  0.4994750  0.3310321 0.80058886\n"
      ]
     },
     "metadata": {},
     "output_type": "display_data"
    },
    {
     "data": {
      "text/html": [
       "<ol class=list-inline>\n",
       "\t<li>6</li>\n",
       "\t<li>15</li>\n",
       "\t<li>24</li>\n",
       "\t<li>33</li>\n",
       "</ol>\n"
      ],
      "text/latex": [
       "\\begin{enumerate*}\n",
       "\\item 6\n",
       "\\item 15\n",
       "\\item 24\n",
       "\\item 33\n",
       "\\end{enumerate*}\n"
      ],
      "text/markdown": [
       "1. 6\n",
       "2. 15\n",
       "3. 24\n",
       "4. 33\n",
       "\n",
       "\n"
      ],
      "text/plain": [
       "[1]  6 15 24 33"
      ]
     },
     "metadata": {},
     "output_type": "display_data"
    }
   ],
   "source": [
    "mymat = matrix(1:12, nrow=3, )\n",
    "mymat\n",
    "mymat2 = matrix(1:12, nrow=3, byrow=TRUE)\n",
    "mymat2\n",
    "mymat + mymat2 #componentwise addition\n",
    "mymat %*% t(mymat2) #matrix multiplication\n",
    "\n",
    "mysq = matrix(rnorm(9), nrow=3)\n",
    "solve(mysq) #invert mysq\n",
    "\n",
    "mysym = mysq \n",
    "mysym[lower.tri(mysym)] = mysym[upper.tri(mysym)] #make symmetric version of mysq\n",
    "eigen(mysym) #eigen decompositions\n",
    "colSums(mymat) #column sums"
   ]
  },
  {
   "cell_type": "markdown",
   "metadata": {},
   "source": [
    "## Functions\n",
    "\n",
    "Writing simple functions:"
   ]
  },
  {
   "cell_type": "code",
   "execution_count": 18,
   "metadata": {},
   "outputs": [
    {
     "data": {
      "text/html": [
       "1.16538947500526"
      ],
      "text/latex": [
       "1.16538947500526"
      ],
      "text/markdown": [
       "1.16538947500526"
      ],
      "text/plain": [
       "[1] 1.165389"
      ]
     },
     "metadata": {},
     "output_type": "display_data"
    },
    {
     "data": {
      "text/html": [
       "0.00364280772494219"
      ],
      "text/latex": [
       "0.00364280772494219"
      ],
      "text/markdown": [
       "0.00364280772494219"
      ],
      "text/plain": [
       "[1] 0.003642808"
      ]
     },
     "metadata": {},
     "output_type": "display_data"
    },
    {
     "data": {
      "text/html": [
       "1.903917294932e-07"
      ],
      "text/latex": [
       "1.903917294932e-07"
      ],
      "text/markdown": [
       "1.903917294932e-07"
      ],
      "text/plain": [
       "[1] 1.903917e-07"
      ]
     },
     "metadata": {},
     "output_type": "display_data"
    },
    {
     "data": {
      "text/html": [
       "1.903917294932e-07"
      ],
      "text/latex": [
       "1.903917294932e-07"
      ],
      "text/markdown": [
       "1.903917294932e-07"
      ],
      "text/plain": [
       "[1] 1.903917e-07"
      ]
     },
     "metadata": {},
     "output_type": "display_data"
    }
   ],
   "source": [
    "x = rnorm(100, mean=0.3, sd=1.2) # create a vector of i.i.d random numbers from a N(0.3,1.2) normal distributions\n",
    "\n",
    "\n",
    "std.dev = function(x) sqrt(var(x)) # function to calculate the standard deviation of a vector\n",
    "\n",
    "# function to calculate the two-tailed p-value of a t.test\n",
    "# note that function arguments can have default values\n",
    "t.test.p = function(x, mu=0)  {\n",
    "    n = length(x)\n",
    "    t = sqrt(n) * (mean(x) - mu) /std.dev(x)\n",
    "    2 * (1 - pt(abs(t), n - 1)) # the object of the final line will be returned\n",
    "}\n",
    "\n",
    "std.dev(x)\n",
    "t.test.p(x) # this will use the default value for mu\n",
    "t.test.p(mu=1, x=x) \n",
    "t.test.p(x, 1)"
   ]
  },
  {
   "cell_type": "markdown",
   "metadata": {},
   "source": [
    "## Flow control: if, for , while, repeat\n"
   ]
  },
  {
   "cell_type": "code",
   "execution_count": 19,
   "metadata": {},
   "outputs": [
    {
     "data": {
      "text/html": [
       "0.490111385922258"
      ],
      "text/latex": [
       "0.490111385922258"
      ],
      "text/markdown": [
       "0.490111385922258"
      ],
      "text/plain": [
       "[1] 0.4901114"
      ]
     },
     "metadata": {},
     "output_type": "display_data"
    },
    {
     "data": {
      "text/html": [
       "0.495000922671442"
      ],
      "text/latex": [
       "0.495000922671442"
      ],
      "text/markdown": [
       "0.495000922671442"
      ],
      "text/plain": [
       "[1] 0.4950009"
      ]
     },
     "metadata": {},
     "output_type": "display_data"
    }
   ],
   "source": [
    "#function generates 3 samples of size n from U(0,1), stores the means, prints the mean of entries > 0.2 using conditional indexing\n",
    "myfn = function(n=100)  \n",
    "{\n",
    "    tmp = rep(NA, 3)\n",
    "    tmp[1] = mean(runif(n))\n",
    "    tmp[2] = mean(runif(n))\n",
    "    tmp[3] = mean(runif(n))\n",
    "    mean(tmp[tmp > .2])\n",
    "}\n",
    "set.seed(1)\n",
    "myfn()\n",
    "myfn(1000)"
   ]
  },
  {
   "cell_type": "markdown",
   "metadata": {},
   "source": [
    "## Control flow: if\n",
    "Example"
   ]
  },
  {
   "cell_type": "code",
   "execution_count": 20,
   "metadata": {},
   "outputs": [
    {
     "data": {
      "text/html": [
       "0.490111385922258"
      ],
      "text/latex": [
       "0.490111385922258"
      ],
      "text/markdown": [
       "0.490111385922258"
      ],
      "text/plain": [
       "[1] 0.4901114"
      ]
     },
     "metadata": {},
     "output_type": "display_data"
    },
    {
     "data": {
      "text/html": [
       "0.495000922671442"
      ],
      "text/latex": [
       "0.495000922671442"
      ],
      "text/markdown": [
       "0.495000922671442"
      ],
      "text/plain": [
       "[1] 0.4950009"
      ]
     },
     "metadata": {},
     "output_type": "display_data"
    }
   ],
   "source": [
    "#function does the same things as the previous function but using if statements instead of conditional indexing\n",
    "myfna = function(n=100)\n",
    "{\n",
    "    tmp = rep(NA, 3)\n",
    "    x <- mean(runif(n))\n",
    "    if (x > 0.2)\n",
    "        tmp[1] = x\n",
    "    x = mean(runif(n))\n",
    "    if (x > 0.2)\n",
    "        tmp[2] = x\n",
    "    x = mean(runif(n))\n",
    "    if (x > 0.2)\n",
    "        tmp[3] = x\n",
    "    mean(tmp, na.rm=TRUE)\n",
    "}\n",
    "set.seed(1)\n",
    "myfna()\n",
    "myfna(1000)"
   ]
  },
  {
   "cell_type": "markdown",
   "metadata": {},
   "source": [
    "## Control Flow: For "
   ]
  },
  {
   "cell_type": "code",
   "execution_count": 21,
   "metadata": {},
   "outputs": [
    {
     "data": {
      "text/html": [
       "<dl class=dl-horizontal>\n",
       "\t<dt>mn</dt>\n",
       "\t\t<dd>0.49969167268509</dd>\n",
       "\t<dt>std</dt>\n",
       "\t\t<dd>0.0977624464898482</dd>\n",
       "</dl>\n"
      ],
      "text/latex": [
       "\\begin{description*}\n",
       "\\item[mn] 0.49969167268509\n",
       "\\item[std] 0.0977624464898482\n",
       "\\end{description*}\n"
      ],
      "text/markdown": [
       "mn\n",
       ":   0.49969167268509std\n",
       ":   0.0977624464898482\n",
       "\n"
      ],
      "text/plain": [
       "        mn        std \n",
       "0.49969167 0.09776245 "
      ]
     },
     "metadata": {},
     "output_type": "display_data"
    },
    {
     "data": {
      "text/html": [
       "<dl class=dl-horizontal>\n",
       "\t<dt>mn</dt>\n",
       "\t\t<dd>0.499504085900935</dd>\n",
       "\t<dt>std</dt>\n",
       "\t\t<dd>0.00902177635803868</dd>\n",
       "</dl>\n"
      ],
      "text/latex": [
       "\\begin{description*}\n",
       "\\item[mn] 0.499504085900935\n",
       "\\item[std] 0.00902177635803868\n",
       "\\end{description*}\n"
      ],
      "text/markdown": [
       "mn\n",
       ":   0.499504085900935std\n",
       ":   0.00902177635803868\n",
       "\n"
      ],
      "text/plain": [
       "         mn         std \n",
       "0.499504086 0.009021776 "
      ]
     },
     "metadata": {},
     "output_type": "display_data"
    }
   ],
   "source": [
    "#generates n samples of size obs of U(0,1) variables and saves means in x. Returns mean and standard deviation of x \n",
    "myfn1 = function(obs=10, n=100) \n",
    "{\n",
    "    x = rep(NA, n)\n",
    "    for (i in 1:n)\n",
    "    {\n",
    "        tmp = runif(obs)\n",
    "        x[i] = mean(tmp)\n",
    "    }\n",
    "    c(mn=mean(x), std=sd(x))\n",
    "}\n",
    "set.seed(1)\n",
    "myfn1()\n",
    "myfn1(1000)"
   ]
  },
  {
   "cell_type": "markdown",
   "metadata": {},
   "source": [
    "The functions ```while``` and ```repeat``` don't require loop variables."
   ]
  },
  {
   "cell_type": "markdown",
   "metadata": {},
   "source": [
    "## The function ifelse\n",
    "\n",
    "The function ```ifelse``` reduces the need for loops and can make code more efficient. Example:"
   ]
  },
  {
   "cell_type": "code",
   "execution_count": 22,
   "metadata": {},
   "outputs": [
    {
     "data": {
      "text/html": [
       "<ol class=list-inline>\n",
       "\t<li>0.444444444444444</li>\n",
       "\t<li>45</li>\n",
       "\t<li>56</li>\n",
       "\t<li>38.5</li>\n",
       "</ol>\n"
      ],
      "text/latex": [
       "\\begin{enumerate*}\n",
       "\\item 0.444444444444444\n",
       "\\item 45\n",
       "\\item 56\n",
       "\\item 38.5\n",
       "\\end{enumerate*}\n"
      ],
      "text/markdown": [
       "1. 0.444444444444444\n",
       "2. 45\n",
       "3. 56\n",
       "4. 38.5\n",
       "\n",
       "\n"
      ],
      "text/plain": [
       "[1]  0.4444444 45.0000000 56.0000000 38.5000000"
      ]
     },
     "metadata": {},
     "output_type": "display_data"
    }
   ],
   "source": [
    "x = c(0, 1, 1, 2)\n",
    "y = c(44, 45, 56, 77)\n",
    "\n",
    "z = rep(NA, 4)\n",
    "for (i in 1:length(x))\n",
    "{\n",
    "    if (x[i] > 0)\n",
    "        z[i] <- y[i] / x[i]\n",
    "    else\n",
    "        z[i] <- y[i] / 99\n",
    "}\n",
    "z"
   ]
  },
  {
   "cell_type": "markdown",
   "metadata": {},
   "source": [
    "This can be replaced by:"
   ]
  },
  {
   "cell_type": "code",
   "execution_count": 23,
   "metadata": {},
   "outputs": [
    {
     "data": {
      "text/html": [
       "<ol class=list-inline>\n",
       "\t<li>0.444444444444444</li>\n",
       "\t<li>45</li>\n",
       "\t<li>56</li>\n",
       "\t<li>38.5</li>\n",
       "</ol>\n"
      ],
      "text/latex": [
       "\\begin{enumerate*}\n",
       "\\item 0.444444444444444\n",
       "\\item 45\n",
       "\\item 56\n",
       "\\item 38.5\n",
       "\\end{enumerate*}\n"
      ],
      "text/markdown": [
       "1. 0.444444444444444\n",
       "2. 45\n",
       "3. 56\n",
       "4. 38.5\n",
       "\n",
       "\n"
      ],
      "text/plain": [
       "[1]  0.4444444 45.0000000 56.0000000 38.5000000"
      ]
     },
     "metadata": {},
     "output_type": "display_data"
    }
   ],
   "source": [
    "(z = ifelse(x > 0, y / x, y / 99))"
   ]
  },
  {
   "cell_type": "markdown",
   "metadata": {},
   "source": [
    "## Exercise: 1\n",
    "\n",
    "*  Create a vector containing all the dates in 2007, using ```seq``` and ```as.Date```.\n",
    "\n",
    "* There is a version of ```cut``` for dates, called ```cut.Date```. Use this to create a factor with values corresponding to the date of the first day of the week in which each of these dates falls. Start the weeks on Sundays.\n",
    "\n",
    "* Create ```x```, a vector of length 100, with integer values in the range $1:5$, randomly ordered. (Hint: look at the function ```sample```.)\n",
    "\n",
    "* Use ```paste``` to create a vector of labels: `(\"Colour 1\", \"Colour 2\", \"Colour 3\", \"Colour 4\", \"Colour 5\")`\n",
    "\n",
    "*  Use the ```factor``` command to create a factor from the vector ```x```,  with the labels created above.\n",
    "\n",
    "* Create a data frame with 100 rows and two columns, one containing a random sample of the vector of dates created above, and the other containing the factor vector of colour names.\n",
    "  \n",
    "* Select the rows for which the date is after 1st June 2007.\n",
    "\n",
    "[Solution]()"
   ]
  },
  {
   "cell_type": "markdown",
   "metadata": {},
   "source": [
    "## Solution+: 1\n",
    "*  Create a vector containing all the dates in 2007, using ```seq``` and ```as.Date```."
   ]
  },
  {
   "cell_type": "code",
   "execution_count": 24,
   "metadata": {},
   "outputs": [
    {
     "data": {
      "text/html": [
       "<time datetime=\"2007-12-31\">2007-12-31</time>"
      ],
      "text/latex": [
       "2007-12-31"
      ],
      "text/markdown": [
       "2007-12-31"
      ],
      "text/plain": [
       "[1] \"2007-12-31\""
      ]
     },
     "metadata": {},
     "output_type": "display_data"
    }
   ],
   "source": [
    "myDate1 = as.Date('1-Jan-2007', format=\"%d-%b-%Y\")\n",
    "myDate2 = myDate1+364\n",
    "myDate2"
   ]
  },
  {
   "cell_type": "code",
   "execution_count": 25,
   "metadata": {},
   "outputs": [],
   "source": [
    "dates2007 = seq(myDate1,myDate2,1)"
   ]
  },
  {
   "cell_type": "markdown",
   "metadata": {},
   "source": [
    "* There is a version of ```cut``` for dates, called ```cut.Date```. Use this\n",
    "  to create a factor with values corresponding to the date of the first day of\n",
    "  the week in which each of these dates falls. Start the weeks on Sundays."
   ]
  },
  {
   "cell_type": "code",
   "execution_count": 26,
   "metadata": {},
   "outputs": [
    {
     "data": {
      "text/plain": [
       "fdate\n",
       "2006-12-31 2007-01-07 2007-01-14 2007-01-21 2007-01-28 2007-02-04 2007-02-11 \n",
       "         6          7          7          7          7          7          7 \n",
       "2007-02-18 2007-02-25 2007-03-04 2007-03-11 2007-03-18 2007-03-25 2007-04-01 \n",
       "         7          7          7          7          7          7          7 \n",
       "2007-04-08 2007-04-15 2007-04-22 2007-04-29 2007-05-06 2007-05-13 2007-05-20 \n",
       "         7          7          7          7          7          7          7 \n",
       "2007-05-27 2007-06-03 2007-06-10 2007-06-17 2007-06-24 2007-07-01 2007-07-08 \n",
       "         7          7          7          7          7          7          7 \n",
       "2007-07-15 2007-07-22 2007-07-29 2007-08-05 2007-08-12 2007-08-19 2007-08-26 \n",
       "         7          7          7          7          7          7          7 \n",
       "2007-09-02 2007-09-09 2007-09-16 2007-09-23 2007-09-30 2007-10-07 2007-10-14 \n",
       "         7          7          7          7          7          7          7 \n",
       "2007-10-21 2007-10-28 2007-11-04 2007-11-11 2007-11-18 2007-11-25 2007-12-02 \n",
       "         7          7          7          7          7          7          7 \n",
       "2007-12-09 2007-12-16 2007-12-23 2007-12-30 \n",
       "         7          7          7          2 "
      ]
     },
     "metadata": {},
     "output_type": "display_data"
    }
   ],
   "source": [
    "fdate = cut.Date(dates2007, \"weeks\",start.on.monday=FALSE)\n",
    "table(fdate)"
   ]
  },
  {
   "cell_type": "markdown",
   "metadata": {},
   "source": [
    "* Create ```x```, a vector of length 100, with integer values in the range\n",
    "  $1:5$, randomly ordered. (Hint: look at the function ```sample```.)"
   ]
  },
  {
   "cell_type": "code",
   "execution_count": 27,
   "metadata": {},
   "outputs": [
    {
     "data": {
      "text/html": [
       "<ol class=list-inline>\n",
       "\t<li>5</li>\n",
       "\t<li>3</li>\n",
       "\t<li>4</li>\n",
       "\t<li>3</li>\n",
       "\t<li>2</li>\n",
       "\t<li>3</li>\n",
       "\t<li>2</li>\n",
       "\t<li>2</li>\n",
       "\t<li>5</li>\n",
       "\t<li>2</li>\n",
       "\t<li>5</li>\n",
       "\t<li>1</li>\n",
       "\t<li>3</li>\n",
       "\t<li>3</li>\n",
       "\t<li>2</li>\n",
       "\t<li>2</li>\n",
       "\t<li>1</li>\n",
       "\t<li>3</li>\n",
       "\t<li>5</li>\n",
       "\t<li>1</li>\n",
       "\t<li>5</li>\n",
       "\t<li>3</li>\n",
       "\t<li>4</li>\n",
       "\t<li>5</li>\n",
       "\t<li>1</li>\n",
       "\t<li>1</li>\n",
       "\t<li>1</li>\n",
       "\t<li>4</li>\n",
       "\t<li>4</li>\n",
       "\t<li>4</li>\n",
       "\t<li>1</li>\n",
       "\t<li>5</li>\n",
       "\t<li>4</li>\n",
       "\t<li>3</li>\n",
       "\t<li>1</li>\n",
       "\t<li>2</li>\n",
       "\t<li>5</li>\n",
       "\t<li>4</li>\n",
       "\t<li>5</li>\n",
       "\t<li>3</li>\n",
       "\t<li>1</li>\n",
       "\t<li>4</li>\n",
       "\t<li>5</li>\n",
       "\t<li>2</li>\n",
       "\t<li>5</li>\n",
       "\t<li>1</li>\n",
       "\t<li>5</li>\n",
       "\t<li>5</li>\n",
       "\t<li>2</li>\n",
       "\t<li>5</li>\n",
       "\t<li>2</li>\n",
       "\t<li>4</li>\n",
       "\t<li>4</li>\n",
       "\t<li>1</li>\n",
       "\t<li>3</li>\n",
       "\t<li>4</li>\n",
       "\t<li>1</li>\n",
       "\t<li>2</li>\n",
       "\t<li>1</li>\n",
       "\t<li>5</li>\n",
       "\t<li>3</li>\n",
       "\t<li>5</li>\n",
       "\t<li>2</li>\n",
       "\t<li>4</li>\n",
       "\t<li>2</li>\n",
       "\t<li>2</li>\n",
       "\t<li>1</li>\n",
       "\t<li>1</li>\n",
       "\t<li>4</li>\n",
       "\t<li>1</li>\n",
       "\t<li>4</li>\n",
       "\t<li>5</li>\n",
       "\t<li>1</li>\n",
       "\t<li>1</li>\n",
       "\t<li>4</li>\n",
       "\t<li>5</li>\n",
       "\t<li>3</li>\n",
       "\t<li>4</li>\n",
       "\t<li>3</li>\n",
       "\t<li>3</li>\n",
       "\t<li>5</li>\n",
       "\t<li>1</li>\n",
       "\t<li>1</li>\n",
       "\t<li>3</li>\n",
       "\t<li>2</li>\n",
       "\t<li>1</li>\n",
       "\t<li>2</li>\n",
       "\t<li>1</li>\n",
       "\t<li>3</li>\n",
       "\t<li>2</li>\n",
       "\t<li>1</li>\n",
       "\t<li>4</li>\n",
       "\t<li>3</li>\n",
       "\t<li>1</li>\n",
       "\t<li>2</li>\n",
       "\t<li>5</li>\n",
       "\t<li>5</li>\n",
       "\t<li>5</li>\n",
       "\t<li>5</li>\n",
       "\t<li>3</li>\n",
       "</ol>\n"
      ],
      "text/latex": [
       "\\begin{enumerate*}\n",
       "\\item 5\n",
       "\\item 3\n",
       "\\item 4\n",
       "\\item 3\n",
       "\\item 2\n",
       "\\item 3\n",
       "\\item 2\n",
       "\\item 2\n",
       "\\item 5\n",
       "\\item 2\n",
       "\\item 5\n",
       "\\item 1\n",
       "\\item 3\n",
       "\\item 3\n",
       "\\item 2\n",
       "\\item 2\n",
       "\\item 1\n",
       "\\item 3\n",
       "\\item 5\n",
       "\\item 1\n",
       "\\item 5\n",
       "\\item 3\n",
       "\\item 4\n",
       "\\item 5\n",
       "\\item 1\n",
       "\\item 1\n",
       "\\item 1\n",
       "\\item 4\n",
       "\\item 4\n",
       "\\item 4\n",
       "\\item 1\n",
       "\\item 5\n",
       "\\item 4\n",
       "\\item 3\n",
       "\\item 1\n",
       "\\item 2\n",
       "\\item 5\n",
       "\\item 4\n",
       "\\item 5\n",
       "\\item 3\n",
       "\\item 1\n",
       "\\item 4\n",
       "\\item 5\n",
       "\\item 2\n",
       "\\item 5\n",
       "\\item 1\n",
       "\\item 5\n",
       "\\item 5\n",
       "\\item 2\n",
       "\\item 5\n",
       "\\item 2\n",
       "\\item 4\n",
       "\\item 4\n",
       "\\item 1\n",
       "\\item 3\n",
       "\\item 4\n",
       "\\item 1\n",
       "\\item 2\n",
       "\\item 1\n",
       "\\item 5\n",
       "\\item 3\n",
       "\\item 5\n",
       "\\item 2\n",
       "\\item 4\n",
       "\\item 2\n",
       "\\item 2\n",
       "\\item 1\n",
       "\\item 1\n",
       "\\item 4\n",
       "\\item 1\n",
       "\\item 4\n",
       "\\item 5\n",
       "\\item 1\n",
       "\\item 1\n",
       "\\item 4\n",
       "\\item 5\n",
       "\\item 3\n",
       "\\item 4\n",
       "\\item 3\n",
       "\\item 3\n",
       "\\item 5\n",
       "\\item 1\n",
       "\\item 1\n",
       "\\item 3\n",
       "\\item 2\n",
       "\\item 1\n",
       "\\item 2\n",
       "\\item 1\n",
       "\\item 3\n",
       "\\item 2\n",
       "\\item 1\n",
       "\\item 4\n",
       "\\item 3\n",
       "\\item 1\n",
       "\\item 2\n",
       "\\item 5\n",
       "\\item 5\n",
       "\\item 5\n",
       "\\item 5\n",
       "\\item 3\n",
       "\\end{enumerate*}\n"
      ],
      "text/markdown": [
       "1. 5\n",
       "2. 3\n",
       "3. 4\n",
       "4. 3\n",
       "5. 2\n",
       "6. 3\n",
       "7. 2\n",
       "8. 2\n",
       "9. 5\n",
       "10. 2\n",
       "11. 5\n",
       "12. 1\n",
       "13. 3\n",
       "14. 3\n",
       "15. 2\n",
       "16. 2\n",
       "17. 1\n",
       "18. 3\n",
       "19. 5\n",
       "20. 1\n",
       "21. 5\n",
       "22. 3\n",
       "23. 4\n",
       "24. 5\n",
       "25. 1\n",
       "26. 1\n",
       "27. 1\n",
       "28. 4\n",
       "29. 4\n",
       "30. 4\n",
       "31. 1\n",
       "32. 5\n",
       "33. 4\n",
       "34. 3\n",
       "35. 1\n",
       "36. 2\n",
       "37. 5\n",
       "38. 4\n",
       "39. 5\n",
       "40. 3\n",
       "41. 1\n",
       "42. 4\n",
       "43. 5\n",
       "44. 2\n",
       "45. 5\n",
       "46. 1\n",
       "47. 5\n",
       "48. 5\n",
       "49. 2\n",
       "50. 5\n",
       "51. 2\n",
       "52. 4\n",
       "53. 4\n",
       "54. 1\n",
       "55. 3\n",
       "56. 4\n",
       "57. 1\n",
       "58. 2\n",
       "59. 1\n",
       "60. 5\n",
       "61. 3\n",
       "62. 5\n",
       "63. 2\n",
       "64. 4\n",
       "65. 2\n",
       "66. 2\n",
       "67. 1\n",
       "68. 1\n",
       "69. 4\n",
       "70. 1\n",
       "71. 4\n",
       "72. 5\n",
       "73. 1\n",
       "74. 1\n",
       "75. 4\n",
       "76. 5\n",
       "77. 3\n",
       "78. 4\n",
       "79. 3\n",
       "80. 3\n",
       "81. 5\n",
       "82. 1\n",
       "83. 1\n",
       "84. 3\n",
       "85. 2\n",
       "86. 1\n",
       "87. 2\n",
       "88. 1\n",
       "89. 3\n",
       "90. 2\n",
       "91. 1\n",
       "92. 4\n",
       "93. 3\n",
       "94. 1\n",
       "95. 2\n",
       "96. 5\n",
       "97. 5\n",
       "98. 5\n",
       "99. 5\n",
       "100. 3\n",
       "\n",
       "\n"
      ],
      "text/plain": [
       "  [1] 5 3 4 3 2 3 2 2 5 2 5 1 3 3 2 2 1 3 5 1 5 3 4 5 1 1 1 4 4 4 1 5 4 3 1 2 5\n",
       " [38] 4 5 3 1 4 5 2 5 1 5 5 2 5 2 4 4 1 3 4 1 2 1 5 3 5 2 4 2 2 1 1 4 1 4 5 1 1\n",
       " [75] 4 5 3 4 3 3 5 1 1 3 2 1 2 1 3 2 1 4 3 1 2 5 5 5 5 3"
      ]
     },
     "metadata": {},
     "output_type": "display_data"
    }
   ],
   "source": [
    "sample(1:5,100,replace=TRUE)"
   ]
  },
  {
   "cell_type": "markdown",
   "metadata": {},
   "source": [
    "* Use ```paste``` to create a vector of labels:\n",
    "    (\"Colour 1\", \"Colour 2\", \"Colour 3\", \"Colour 4\", \"Colour 5\")"
   ]
  },
  {
   "cell_type": "code",
   "execution_count": 28,
   "metadata": {},
   "outputs": [
    {
     "data": {
      "text/html": [
       "<ol class=list-inline>\n",
       "\t<li>'Colour 1'</li>\n",
       "\t<li>'Colour 2'</li>\n",
       "\t<li>'Colour 3'</li>\n",
       "\t<li>'Colour 4'</li>\n",
       "\t<li>'Colour 5'</li>\n",
       "</ol>\n"
      ],
      "text/latex": [
       "\\begin{enumerate*}\n",
       "\\item 'Colour 1'\n",
       "\\item 'Colour 2'\n",
       "\\item 'Colour 3'\n",
       "\\item 'Colour 4'\n",
       "\\item 'Colour 5'\n",
       "\\end{enumerate*}\n"
      ],
      "text/markdown": [
       "1. 'Colour 1'\n",
       "2. 'Colour 2'\n",
       "3. 'Colour 3'\n",
       "4. 'Colour 4'\n",
       "5. 'Colour 5'\n",
       "\n",
       "\n"
      ],
      "text/plain": [
       "[1] \"Colour 1\" \"Colour 2\" \"Colour 3\" \"Colour 4\" \"Colour 5\""
      ]
     },
     "metadata": {},
     "output_type": "display_data"
    }
   ],
   "source": [
    "x = paste(\"Colour\",1:5)\n",
    "x"
   ]
  },
  {
   "cell_type": "markdown",
   "metadata": {},
   "source": [
    "*  Use the ```factor``` command to create a factor from the vector ```x```,\n",
    "  with the labels created above."
   ]
  },
  {
   "cell_type": "code",
   "execution_count": 29,
   "metadata": {},
   "outputs": [
    {
     "data": {
      "text/plain": [
       "xf\n",
       "Colour 1 Colour 2 Colour 3 Colour 4 Colour 5 \n",
       "       1        1        1        1        1 "
      ]
     },
     "metadata": {},
     "output_type": "display_data"
    }
   ],
   "source": [
    "xf = factor(x)\n",
    "table(xf)"
   ]
  },
  {
   "cell_type": "markdown",
   "metadata": {},
   "source": [
    "* Create a data frame with 100 rows and two columns, one containing a random\n",
    "  sample of the vector of dates created above, and the other containing the\n",
    "  factor vector of colour names."
   ]
  },
  {
   "cell_type": "code",
   "execution_count": 30,
   "metadata": {},
   "outputs": [
    {
     "data": {
      "text/html": [
       "<table>\n",
       "<thead><tr><th scope=col>d</th><th scope=col>c</th></tr></thead>\n",
       "<tbody>\n",
       "\t<tr><td>2007-11-10</td><td>Colour 1  </td></tr>\n",
       "\t<tr><td>2007-03-03</td><td>Colour 2  </td></tr>\n",
       "\t<tr><td>2007-10-24</td><td>Colour 3  </td></tr>\n",
       "\t<tr><td>2007-11-10</td><td>Colour 4  </td></tr>\n",
       "\t<tr><td>2007-08-25</td><td>Colour 5  </td></tr>\n",
       "\t<tr><td>2007-04-27</td><td>Colour 1  </td></tr>\n",
       "\t<tr><td>2007-03-03</td><td>Colour 2  </td></tr>\n",
       "\t<tr><td>2007-04-06</td><td>Colour 3  </td></tr>\n",
       "\t<tr><td>2007-05-13</td><td>Colour 4  </td></tr>\n",
       "\t<tr><td>2007-01-14</td><td>Colour 5  </td></tr>\n",
       "\t<tr><td>2007-09-25</td><td>Colour 1  </td></tr>\n",
       "\t<tr><td>2007-05-20</td><td>Colour 2  </td></tr>\n",
       "\t<tr><td>2007-07-19</td><td>Colour 3  </td></tr>\n",
       "\t<tr><td>2007-11-08</td><td>Colour 4  </td></tr>\n",
       "\t<tr><td>2007-11-03</td><td>Colour 5  </td></tr>\n",
       "\t<tr><td>2007-06-04</td><td>Colour 1  </td></tr>\n",
       "\t<tr><td>2007-07-04</td><td>Colour 2  </td></tr>\n",
       "\t<tr><td>2007-07-03</td><td>Colour 3  </td></tr>\n",
       "\t<tr><td>2007-08-04</td><td>Colour 4  </td></tr>\n",
       "\t<tr><td>2007-08-20</td><td>Colour 5  </td></tr>\n",
       "\t<tr><td>2007-11-20</td><td>Colour 1  </td></tr>\n",
       "\t<tr><td>2007-08-16</td><td>Colour 2  </td></tr>\n",
       "\t<tr><td>2007-01-25</td><td>Colour 3  </td></tr>\n",
       "\t<tr><td>2007-04-07</td><td>Colour 4  </td></tr>\n",
       "\t<tr><td>2007-12-19</td><td>Colour 5  </td></tr>\n",
       "\t<tr><td>2007-12-25</td><td>Colour 1  </td></tr>\n",
       "\t<tr><td>2007-11-29</td><td>Colour 2  </td></tr>\n",
       "\t<tr><td>2007-06-19</td><td>Colour 3  </td></tr>\n",
       "\t<tr><td>2007-11-21</td><td>Colour 4  </td></tr>\n",
       "\t<tr><td>2007-01-25</td><td>Colour 5  </td></tr>\n",
       "\t<tr><td>...</td><td>...</td></tr>\n",
       "\t<tr><td>2007-12-02</td><td>Colour 1  </td></tr>\n",
       "\t<tr><td>2007-03-28</td><td>Colour 2  </td></tr>\n",
       "\t<tr><td>2007-09-15</td><td>Colour 3  </td></tr>\n",
       "\t<tr><td>2007-04-06</td><td>Colour 4  </td></tr>\n",
       "\t<tr><td>2007-09-10</td><td>Colour 5  </td></tr>\n",
       "\t<tr><td>2007-02-23</td><td>Colour 1  </td></tr>\n",
       "\t<tr><td>2007-11-14</td><td>Colour 2  </td></tr>\n",
       "\t<tr><td>2007-12-31</td><td>Colour 3  </td></tr>\n",
       "\t<tr><td>2007-06-14</td><td>Colour 4  </td></tr>\n",
       "\t<tr><td>2007-05-06</td><td>Colour 5  </td></tr>\n",
       "\t<tr><td>2007-04-15</td><td>Colour 1  </td></tr>\n",
       "\t<tr><td>2007-02-14</td><td>Colour 2  </td></tr>\n",
       "\t<tr><td>2007-11-26</td><td>Colour 3  </td></tr>\n",
       "\t<tr><td>2007-08-05</td><td>Colour 4  </td></tr>\n",
       "\t<tr><td>2007-08-25</td><td>Colour 5  </td></tr>\n",
       "\t<tr><td>2007-07-05</td><td>Colour 1  </td></tr>\n",
       "\t<tr><td>2007-07-31</td><td>Colour 2  </td></tr>\n",
       "\t<tr><td>2007-09-21</td><td>Colour 3  </td></tr>\n",
       "\t<tr><td>2007-09-10</td><td>Colour 4  </td></tr>\n",
       "\t<tr><td>2007-03-05</td><td>Colour 5  </td></tr>\n",
       "\t<tr><td>2007-12-11</td><td>Colour 1  </td></tr>\n",
       "\t<tr><td>2007-12-14</td><td>Colour 2  </td></tr>\n",
       "\t<tr><td>2007-11-02</td><td>Colour 3  </td></tr>\n",
       "\t<tr><td>2007-10-25</td><td>Colour 4  </td></tr>\n",
       "\t<tr><td>2007-03-05</td><td>Colour 5  </td></tr>\n",
       "\t<tr><td>2007-02-16</td><td>Colour 1  </td></tr>\n",
       "\t<tr><td>2007-01-13</td><td>Colour 2  </td></tr>\n",
       "\t<tr><td>2007-07-24</td><td>Colour 3  </td></tr>\n",
       "\t<tr><td>2007-02-27</td><td>Colour 4  </td></tr>\n",
       "\t<tr><td>2007-05-14</td><td>Colour 5  </td></tr>\n",
       "</tbody>\n",
       "</table>\n"
      ],
      "text/latex": [
       "\\begin{tabular}{r|ll}\n",
       " d & c\\\\\n",
       "\\hline\n",
       "\t 2007-11-10 & Colour 1  \\\\\n",
       "\t 2007-03-03 & Colour 2  \\\\\n",
       "\t 2007-10-24 & Colour 3  \\\\\n",
       "\t 2007-11-10 & Colour 4  \\\\\n",
       "\t 2007-08-25 & Colour 5  \\\\\n",
       "\t 2007-04-27 & Colour 1  \\\\\n",
       "\t 2007-03-03 & Colour 2  \\\\\n",
       "\t 2007-04-06 & Colour 3  \\\\\n",
       "\t 2007-05-13 & Colour 4  \\\\\n",
       "\t 2007-01-14 & Colour 5  \\\\\n",
       "\t 2007-09-25 & Colour 1  \\\\\n",
       "\t 2007-05-20 & Colour 2  \\\\\n",
       "\t 2007-07-19 & Colour 3  \\\\\n",
       "\t 2007-11-08 & Colour 4  \\\\\n",
       "\t 2007-11-03 & Colour 5  \\\\\n",
       "\t 2007-06-04 & Colour 1  \\\\\n",
       "\t 2007-07-04 & Colour 2  \\\\\n",
       "\t 2007-07-03 & Colour 3  \\\\\n",
       "\t 2007-08-04 & Colour 4  \\\\\n",
       "\t 2007-08-20 & Colour 5  \\\\\n",
       "\t 2007-11-20 & Colour 1  \\\\\n",
       "\t 2007-08-16 & Colour 2  \\\\\n",
       "\t 2007-01-25 & Colour 3  \\\\\n",
       "\t 2007-04-07 & Colour 4  \\\\\n",
       "\t 2007-12-19 & Colour 5  \\\\\n",
       "\t 2007-12-25 & Colour 1  \\\\\n",
       "\t 2007-11-29 & Colour 2  \\\\\n",
       "\t 2007-06-19 & Colour 3  \\\\\n",
       "\t 2007-11-21 & Colour 4  \\\\\n",
       "\t 2007-01-25 & Colour 5  \\\\\n",
       "\t ... & ...\\\\\n",
       "\t 2007-12-02 & Colour 1  \\\\\n",
       "\t 2007-03-28 & Colour 2  \\\\\n",
       "\t 2007-09-15 & Colour 3  \\\\\n",
       "\t 2007-04-06 & Colour 4  \\\\\n",
       "\t 2007-09-10 & Colour 5  \\\\\n",
       "\t 2007-02-23 & Colour 1  \\\\\n",
       "\t 2007-11-14 & Colour 2  \\\\\n",
       "\t 2007-12-31 & Colour 3  \\\\\n",
       "\t 2007-06-14 & Colour 4  \\\\\n",
       "\t 2007-05-06 & Colour 5  \\\\\n",
       "\t 2007-04-15 & Colour 1  \\\\\n",
       "\t 2007-02-14 & Colour 2  \\\\\n",
       "\t 2007-11-26 & Colour 3  \\\\\n",
       "\t 2007-08-05 & Colour 4  \\\\\n",
       "\t 2007-08-25 & Colour 5  \\\\\n",
       "\t 2007-07-05 & Colour 1  \\\\\n",
       "\t 2007-07-31 & Colour 2  \\\\\n",
       "\t 2007-09-21 & Colour 3  \\\\\n",
       "\t 2007-09-10 & Colour 4  \\\\\n",
       "\t 2007-03-05 & Colour 5  \\\\\n",
       "\t 2007-12-11 & Colour 1  \\\\\n",
       "\t 2007-12-14 & Colour 2  \\\\\n",
       "\t 2007-11-02 & Colour 3  \\\\\n",
       "\t 2007-10-25 & Colour 4  \\\\\n",
       "\t 2007-03-05 & Colour 5  \\\\\n",
       "\t 2007-02-16 & Colour 1  \\\\\n",
       "\t 2007-01-13 & Colour 2  \\\\\n",
       "\t 2007-07-24 & Colour 3  \\\\\n",
       "\t 2007-02-27 & Colour 4  \\\\\n",
       "\t 2007-05-14 & Colour 5  \\\\\n",
       "\\end{tabular}\n"
      ],
      "text/markdown": [
       "\n",
       "| d | c |\n",
       "|---|---|\n",
       "| 2007-11-10 | Colour 1   |\n",
       "| 2007-03-03 | Colour 2   |\n",
       "| 2007-10-24 | Colour 3   |\n",
       "| 2007-11-10 | Colour 4   |\n",
       "| 2007-08-25 | Colour 5   |\n",
       "| 2007-04-27 | Colour 1   |\n",
       "| 2007-03-03 | Colour 2   |\n",
       "| 2007-04-06 | Colour 3   |\n",
       "| 2007-05-13 | Colour 4   |\n",
       "| 2007-01-14 | Colour 5   |\n",
       "| 2007-09-25 | Colour 1   |\n",
       "| 2007-05-20 | Colour 2   |\n",
       "| 2007-07-19 | Colour 3   |\n",
       "| 2007-11-08 | Colour 4   |\n",
       "| 2007-11-03 | Colour 5   |\n",
       "| 2007-06-04 | Colour 1   |\n",
       "| 2007-07-04 | Colour 2   |\n",
       "| 2007-07-03 | Colour 3   |\n",
       "| 2007-08-04 | Colour 4   |\n",
       "| 2007-08-20 | Colour 5   |\n",
       "| 2007-11-20 | Colour 1   |\n",
       "| 2007-08-16 | Colour 2   |\n",
       "| 2007-01-25 | Colour 3   |\n",
       "| 2007-04-07 | Colour 4   |\n",
       "| 2007-12-19 | Colour 5   |\n",
       "| 2007-12-25 | Colour 1   |\n",
       "| 2007-11-29 | Colour 2   |\n",
       "| 2007-06-19 | Colour 3   |\n",
       "| 2007-11-21 | Colour 4   |\n",
       "| 2007-01-25 | Colour 5   |\n",
       "| ... | ... |\n",
       "| 2007-12-02 | Colour 1   |\n",
       "| 2007-03-28 | Colour 2   |\n",
       "| 2007-09-15 | Colour 3   |\n",
       "| 2007-04-06 | Colour 4   |\n",
       "| 2007-09-10 | Colour 5   |\n",
       "| 2007-02-23 | Colour 1   |\n",
       "| 2007-11-14 | Colour 2   |\n",
       "| 2007-12-31 | Colour 3   |\n",
       "| 2007-06-14 | Colour 4   |\n",
       "| 2007-05-06 | Colour 5   |\n",
       "| 2007-04-15 | Colour 1   |\n",
       "| 2007-02-14 | Colour 2   |\n",
       "| 2007-11-26 | Colour 3   |\n",
       "| 2007-08-05 | Colour 4   |\n",
       "| 2007-08-25 | Colour 5   |\n",
       "| 2007-07-05 | Colour 1   |\n",
       "| 2007-07-31 | Colour 2   |\n",
       "| 2007-09-21 | Colour 3   |\n",
       "| 2007-09-10 | Colour 4   |\n",
       "| 2007-03-05 | Colour 5   |\n",
       "| 2007-12-11 | Colour 1   |\n",
       "| 2007-12-14 | Colour 2   |\n",
       "| 2007-11-02 | Colour 3   |\n",
       "| 2007-10-25 | Colour 4   |\n",
       "| 2007-03-05 | Colour 5   |\n",
       "| 2007-02-16 | Colour 1   |\n",
       "| 2007-01-13 | Colour 2   |\n",
       "| 2007-07-24 | Colour 3   |\n",
       "| 2007-02-27 | Colour 4   |\n",
       "| 2007-05-14 | Colour 5   |\n",
       "\n"
      ],
      "text/plain": [
       "    d          c       \n",
       "1   2007-11-10 Colour 1\n",
       "2   2007-03-03 Colour 2\n",
       "3   2007-10-24 Colour 3\n",
       "4   2007-11-10 Colour 4\n",
       "5   2007-08-25 Colour 5\n",
       "6   2007-04-27 Colour 1\n",
       "7   2007-03-03 Colour 2\n",
       "8   2007-04-06 Colour 3\n",
       "9   2007-05-13 Colour 4\n",
       "10  2007-01-14 Colour 5\n",
       "11  2007-09-25 Colour 1\n",
       "12  2007-05-20 Colour 2\n",
       "13  2007-07-19 Colour 3\n",
       "14  2007-11-08 Colour 4\n",
       "15  2007-11-03 Colour 5\n",
       "16  2007-06-04 Colour 1\n",
       "17  2007-07-04 Colour 2\n",
       "18  2007-07-03 Colour 3\n",
       "19  2007-08-04 Colour 4\n",
       "20  2007-08-20 Colour 5\n",
       "21  2007-11-20 Colour 1\n",
       "22  2007-08-16 Colour 2\n",
       "23  2007-01-25 Colour 3\n",
       "24  2007-04-07 Colour 4\n",
       "25  2007-12-19 Colour 5\n",
       "26  2007-12-25 Colour 1\n",
       "27  2007-11-29 Colour 2\n",
       "28  2007-06-19 Colour 3\n",
       "29  2007-11-21 Colour 4\n",
       "30  2007-01-25 Colour 5\n",
       "... ...        ...     \n",
       "71  2007-12-02 Colour 1\n",
       "72  2007-03-28 Colour 2\n",
       "73  2007-09-15 Colour 3\n",
       "74  2007-04-06 Colour 4\n",
       "75  2007-09-10 Colour 5\n",
       "76  2007-02-23 Colour 1\n",
       "77  2007-11-14 Colour 2\n",
       "78  2007-12-31 Colour 3\n",
       "79  2007-06-14 Colour 4\n",
       "80  2007-05-06 Colour 5\n",
       "81  2007-04-15 Colour 1\n",
       "82  2007-02-14 Colour 2\n",
       "83  2007-11-26 Colour 3\n",
       "84  2007-08-05 Colour 4\n",
       "85  2007-08-25 Colour 5\n",
       "86  2007-07-05 Colour 1\n",
       "87  2007-07-31 Colour 2\n",
       "88  2007-09-21 Colour 3\n",
       "89  2007-09-10 Colour 4\n",
       "90  2007-03-05 Colour 5\n",
       "91  2007-12-11 Colour 1\n",
       "92  2007-12-14 Colour 2\n",
       "93  2007-11-02 Colour 3\n",
       "94  2007-10-25 Colour 4\n",
       "95  2007-03-05 Colour 5\n",
       "96  2007-02-16 Colour 1\n",
       "97  2007-01-13 Colour 2\n",
       "98  2007-07-24 Colour 3\n",
       "99  2007-02-27 Colour 4\n",
       "100 2007-05-14 Colour 5"
      ]
     },
     "metadata": {},
     "output_type": "display_data"
    }
   ],
   "source": [
    "(datf = data.frame(d=sample(dates2007,100,replace=TRUE),c=xf)  )"
   ]
  },
  {
   "cell_type": "markdown",
   "metadata": {},
   "source": [
    "  \n",
    "* Select the rows for which the date is after 1st June 2007."
   ]
  },
  {
   "cell_type": "code",
   "execution_count": 31,
   "metadata": {},
   "outputs": [
    {
     "data": {
      "text/html": [
       "<table>\n",
       "<thead><tr><th></th><th scope=col>d</th><th scope=col>c</th></tr></thead>\n",
       "<tbody>\n",
       "\t<tr><th scope=row>1</th><td>2007-11-10</td><td>Colour 1  </td></tr>\n",
       "\t<tr><th scope=row>3</th><td>2007-10-24</td><td>Colour 3  </td></tr>\n",
       "\t<tr><th scope=row>4</th><td>2007-11-10</td><td>Colour 4  </td></tr>\n",
       "\t<tr><th scope=row>5</th><td>2007-08-25</td><td>Colour 5  </td></tr>\n",
       "\t<tr><th scope=row>11</th><td>2007-09-25</td><td>Colour 1  </td></tr>\n",
       "\t<tr><th scope=row>13</th><td>2007-07-19</td><td>Colour 3  </td></tr>\n",
       "\t<tr><th scope=row>14</th><td>2007-11-08</td><td>Colour 4  </td></tr>\n",
       "\t<tr><th scope=row>15</th><td>2007-11-03</td><td>Colour 5  </td></tr>\n",
       "\t<tr><th scope=row>16</th><td>2007-06-04</td><td>Colour 1  </td></tr>\n",
       "\t<tr><th scope=row>17</th><td>2007-07-04</td><td>Colour 2  </td></tr>\n",
       "\t<tr><th scope=row>18</th><td>2007-07-03</td><td>Colour 3  </td></tr>\n",
       "\t<tr><th scope=row>19</th><td>2007-08-04</td><td>Colour 4  </td></tr>\n",
       "\t<tr><th scope=row>20</th><td>2007-08-20</td><td>Colour 5  </td></tr>\n",
       "\t<tr><th scope=row>21</th><td>2007-11-20</td><td>Colour 1  </td></tr>\n",
       "\t<tr><th scope=row>22</th><td>2007-08-16</td><td>Colour 2  </td></tr>\n",
       "\t<tr><th scope=row>25</th><td>2007-12-19</td><td>Colour 5  </td></tr>\n",
       "\t<tr><th scope=row>26</th><td>2007-12-25</td><td>Colour 1  </td></tr>\n",
       "\t<tr><th scope=row>27</th><td>2007-11-29</td><td>Colour 2  </td></tr>\n",
       "\t<tr><th scope=row>28</th><td>2007-06-19</td><td>Colour 3  </td></tr>\n",
       "\t<tr><th scope=row>29</th><td>2007-11-21</td><td>Colour 4  </td></tr>\n",
       "\t<tr><th scope=row>31</th><td>2007-11-07</td><td>Colour 1  </td></tr>\n",
       "\t<tr><th scope=row>33</th><td>2007-12-14</td><td>Colour 3  </td></tr>\n",
       "\t<tr><th scope=row>34</th><td>2007-06-23</td><td>Colour 4  </td></tr>\n",
       "\t<tr><th scope=row>35</th><td>2007-08-16</td><td>Colour 5  </td></tr>\n",
       "\t<tr><th scope=row>36</th><td>2007-11-24</td><td>Colour 1  </td></tr>\n",
       "\t<tr><th scope=row>38</th><td>2007-06-29</td><td>Colour 3  </td></tr>\n",
       "\t<tr><th scope=row>41</th><td>2007-07-30</td><td>Colour 1  </td></tr>\n",
       "\t<tr><th scope=row>47</th><td>2007-06-29</td><td>Colour 2  </td></tr>\n",
       "\t<tr><th scope=row>48</th><td>2007-07-23</td><td>Colour 3  </td></tr>\n",
       "\t<tr><th scope=row>49</th><td>2007-10-12</td><td>Colour 4  </td></tr>\n",
       "\t<tr><th scope=row>...</th><td>...</td><td>...</td></tr>\n",
       "\t<tr><th scope=row>51</th><td>2007-10-29</td><td>Colour 1  </td></tr>\n",
       "\t<tr><th scope=row>52</th><td>2007-07-05</td><td>Colour 2  </td></tr>\n",
       "\t<tr><th scope=row>53</th><td>2007-09-14</td><td>Colour 3  </td></tr>\n",
       "\t<tr><th scope=row>56</th><td>2007-10-13</td><td>Colour 1  </td></tr>\n",
       "\t<tr><th scope=row>57</th><td>2007-09-18</td><td>Colour 2  </td></tr>\n",
       "\t<tr><th scope=row>58</th><td>2007-11-12</td><td>Colour 3  </td></tr>\n",
       "\t<tr><th scope=row>59</th><td>2007-11-26</td><td>Colour 4  </td></tr>\n",
       "\t<tr><th scope=row>63</th><td>2007-07-05</td><td>Colour 3  </td></tr>\n",
       "\t<tr><th scope=row>64</th><td>2007-10-09</td><td>Colour 4  </td></tr>\n",
       "\t<tr><th scope=row>65</th><td>2007-11-20</td><td>Colour 5  </td></tr>\n",
       "\t<tr><th scope=row>66</th><td>2007-08-01</td><td>Colour 1  </td></tr>\n",
       "\t<tr><th scope=row>67</th><td>2007-12-16</td><td>Colour 2  </td></tr>\n",
       "\t<tr><th scope=row>71</th><td>2007-12-02</td><td>Colour 1  </td></tr>\n",
       "\t<tr><th scope=row>73</th><td>2007-09-15</td><td>Colour 3  </td></tr>\n",
       "\t<tr><th scope=row>75</th><td>2007-09-10</td><td>Colour 5  </td></tr>\n",
       "\t<tr><th scope=row>77</th><td>2007-11-14</td><td>Colour 2  </td></tr>\n",
       "\t<tr><th scope=row>78</th><td>2007-12-31</td><td>Colour 3  </td></tr>\n",
       "\t<tr><th scope=row>79</th><td>2007-06-14</td><td>Colour 4  </td></tr>\n",
       "\t<tr><th scope=row>83</th><td>2007-11-26</td><td>Colour 3  </td></tr>\n",
       "\t<tr><th scope=row>84</th><td>2007-08-05</td><td>Colour 4  </td></tr>\n",
       "\t<tr><th scope=row>85</th><td>2007-08-25</td><td>Colour 5  </td></tr>\n",
       "\t<tr><th scope=row>86</th><td>2007-07-05</td><td>Colour 1  </td></tr>\n",
       "\t<tr><th scope=row>87</th><td>2007-07-31</td><td>Colour 2  </td></tr>\n",
       "\t<tr><th scope=row>88</th><td>2007-09-21</td><td>Colour 3  </td></tr>\n",
       "\t<tr><th scope=row>89</th><td>2007-09-10</td><td>Colour 4  </td></tr>\n",
       "\t<tr><th scope=row>91</th><td>2007-12-11</td><td>Colour 1  </td></tr>\n",
       "\t<tr><th scope=row>92</th><td>2007-12-14</td><td>Colour 2  </td></tr>\n",
       "\t<tr><th scope=row>93</th><td>2007-11-02</td><td>Colour 3  </td></tr>\n",
       "\t<tr><th scope=row>94</th><td>2007-10-25</td><td>Colour 4  </td></tr>\n",
       "\t<tr><th scope=row>98</th><td>2007-07-24</td><td>Colour 3  </td></tr>\n",
       "</tbody>\n",
       "</table>\n"
      ],
      "text/latex": [
       "\\begin{tabular}{r|ll}\n",
       "  & d & c\\\\\n",
       "\\hline\n",
       "\t1 & 2007-11-10 & Colour 1  \\\\\n",
       "\t3 & 2007-10-24 & Colour 3  \\\\\n",
       "\t4 & 2007-11-10 & Colour 4  \\\\\n",
       "\t5 & 2007-08-25 & Colour 5  \\\\\n",
       "\t11 & 2007-09-25 & Colour 1  \\\\\n",
       "\t13 & 2007-07-19 & Colour 3  \\\\\n",
       "\t14 & 2007-11-08 & Colour 4  \\\\\n",
       "\t15 & 2007-11-03 & Colour 5  \\\\\n",
       "\t16 & 2007-06-04 & Colour 1  \\\\\n",
       "\t17 & 2007-07-04 & Colour 2  \\\\\n",
       "\t18 & 2007-07-03 & Colour 3  \\\\\n",
       "\t19 & 2007-08-04 & Colour 4  \\\\\n",
       "\t20 & 2007-08-20 & Colour 5  \\\\\n",
       "\t21 & 2007-11-20 & Colour 1  \\\\\n",
       "\t22 & 2007-08-16 & Colour 2  \\\\\n",
       "\t25 & 2007-12-19 & Colour 5  \\\\\n",
       "\t26 & 2007-12-25 & Colour 1  \\\\\n",
       "\t27 & 2007-11-29 & Colour 2  \\\\\n",
       "\t28 & 2007-06-19 & Colour 3  \\\\\n",
       "\t29 & 2007-11-21 & Colour 4  \\\\\n",
       "\t31 & 2007-11-07 & Colour 1  \\\\\n",
       "\t33 & 2007-12-14 & Colour 3  \\\\\n",
       "\t34 & 2007-06-23 & Colour 4  \\\\\n",
       "\t35 & 2007-08-16 & Colour 5  \\\\\n",
       "\t36 & 2007-11-24 & Colour 1  \\\\\n",
       "\t38 & 2007-06-29 & Colour 3  \\\\\n",
       "\t41 & 2007-07-30 & Colour 1  \\\\\n",
       "\t47 & 2007-06-29 & Colour 2  \\\\\n",
       "\t48 & 2007-07-23 & Colour 3  \\\\\n",
       "\t49 & 2007-10-12 & Colour 4  \\\\\n",
       "\t... & ... & ...\\\\\n",
       "\t51 & 2007-10-29 & Colour 1  \\\\\n",
       "\t52 & 2007-07-05 & Colour 2  \\\\\n",
       "\t53 & 2007-09-14 & Colour 3  \\\\\n",
       "\t56 & 2007-10-13 & Colour 1  \\\\\n",
       "\t57 & 2007-09-18 & Colour 2  \\\\\n",
       "\t58 & 2007-11-12 & Colour 3  \\\\\n",
       "\t59 & 2007-11-26 & Colour 4  \\\\\n",
       "\t63 & 2007-07-05 & Colour 3  \\\\\n",
       "\t64 & 2007-10-09 & Colour 4  \\\\\n",
       "\t65 & 2007-11-20 & Colour 5  \\\\\n",
       "\t66 & 2007-08-01 & Colour 1  \\\\\n",
       "\t67 & 2007-12-16 & Colour 2  \\\\\n",
       "\t71 & 2007-12-02 & Colour 1  \\\\\n",
       "\t73 & 2007-09-15 & Colour 3  \\\\\n",
       "\t75 & 2007-09-10 & Colour 5  \\\\\n",
       "\t77 & 2007-11-14 & Colour 2  \\\\\n",
       "\t78 & 2007-12-31 & Colour 3  \\\\\n",
       "\t79 & 2007-06-14 & Colour 4  \\\\\n",
       "\t83 & 2007-11-26 & Colour 3  \\\\\n",
       "\t84 & 2007-08-05 & Colour 4  \\\\\n",
       "\t85 & 2007-08-25 & Colour 5  \\\\\n",
       "\t86 & 2007-07-05 & Colour 1  \\\\\n",
       "\t87 & 2007-07-31 & Colour 2  \\\\\n",
       "\t88 & 2007-09-21 & Colour 3  \\\\\n",
       "\t89 & 2007-09-10 & Colour 4  \\\\\n",
       "\t91 & 2007-12-11 & Colour 1  \\\\\n",
       "\t92 & 2007-12-14 & Colour 2  \\\\\n",
       "\t93 & 2007-11-02 & Colour 3  \\\\\n",
       "\t94 & 2007-10-25 & Colour 4  \\\\\n",
       "\t98 & 2007-07-24 & Colour 3  \\\\\n",
       "\\end{tabular}\n"
      ],
      "text/markdown": [
       "\n",
       "| <!--/--> | d | c |\n",
       "|---|---|---|\n",
       "| 1 | 2007-11-10 | Colour 1   |\n",
       "| 3 | 2007-10-24 | Colour 3   |\n",
       "| 4 | 2007-11-10 | Colour 4   |\n",
       "| 5 | 2007-08-25 | Colour 5   |\n",
       "| 11 | 2007-09-25 | Colour 1   |\n",
       "| 13 | 2007-07-19 | Colour 3   |\n",
       "| 14 | 2007-11-08 | Colour 4   |\n",
       "| 15 | 2007-11-03 | Colour 5   |\n",
       "| 16 | 2007-06-04 | Colour 1   |\n",
       "| 17 | 2007-07-04 | Colour 2   |\n",
       "| 18 | 2007-07-03 | Colour 3   |\n",
       "| 19 | 2007-08-04 | Colour 4   |\n",
       "| 20 | 2007-08-20 | Colour 5   |\n",
       "| 21 | 2007-11-20 | Colour 1   |\n",
       "| 22 | 2007-08-16 | Colour 2   |\n",
       "| 25 | 2007-12-19 | Colour 5   |\n",
       "| 26 | 2007-12-25 | Colour 1   |\n",
       "| 27 | 2007-11-29 | Colour 2   |\n",
       "| 28 | 2007-06-19 | Colour 3   |\n",
       "| 29 | 2007-11-21 | Colour 4   |\n",
       "| 31 | 2007-11-07 | Colour 1   |\n",
       "| 33 | 2007-12-14 | Colour 3   |\n",
       "| 34 | 2007-06-23 | Colour 4   |\n",
       "| 35 | 2007-08-16 | Colour 5   |\n",
       "| 36 | 2007-11-24 | Colour 1   |\n",
       "| 38 | 2007-06-29 | Colour 3   |\n",
       "| 41 | 2007-07-30 | Colour 1   |\n",
       "| 47 | 2007-06-29 | Colour 2   |\n",
       "| 48 | 2007-07-23 | Colour 3   |\n",
       "| 49 | 2007-10-12 | Colour 4   |\n",
       "| ... | ... | ... |\n",
       "| 51 | 2007-10-29 | Colour 1   |\n",
       "| 52 | 2007-07-05 | Colour 2   |\n",
       "| 53 | 2007-09-14 | Colour 3   |\n",
       "| 56 | 2007-10-13 | Colour 1   |\n",
       "| 57 | 2007-09-18 | Colour 2   |\n",
       "| 58 | 2007-11-12 | Colour 3   |\n",
       "| 59 | 2007-11-26 | Colour 4   |\n",
       "| 63 | 2007-07-05 | Colour 3   |\n",
       "| 64 | 2007-10-09 | Colour 4   |\n",
       "| 65 | 2007-11-20 | Colour 5   |\n",
       "| 66 | 2007-08-01 | Colour 1   |\n",
       "| 67 | 2007-12-16 | Colour 2   |\n",
       "| 71 | 2007-12-02 | Colour 1   |\n",
       "| 73 | 2007-09-15 | Colour 3   |\n",
       "| 75 | 2007-09-10 | Colour 5   |\n",
       "| 77 | 2007-11-14 | Colour 2   |\n",
       "| 78 | 2007-12-31 | Colour 3   |\n",
       "| 79 | 2007-06-14 | Colour 4   |\n",
       "| 83 | 2007-11-26 | Colour 3   |\n",
       "| 84 | 2007-08-05 | Colour 4   |\n",
       "| 85 | 2007-08-25 | Colour 5   |\n",
       "| 86 | 2007-07-05 | Colour 1   |\n",
       "| 87 | 2007-07-31 | Colour 2   |\n",
       "| 88 | 2007-09-21 | Colour 3   |\n",
       "| 89 | 2007-09-10 | Colour 4   |\n",
       "| 91 | 2007-12-11 | Colour 1   |\n",
       "| 92 | 2007-12-14 | Colour 2   |\n",
       "| 93 | 2007-11-02 | Colour 3   |\n",
       "| 94 | 2007-10-25 | Colour 4   |\n",
       "| 98 | 2007-07-24 | Colour 3   |\n",
       "\n"
      ],
      "text/plain": [
       "    d          c       \n",
       "1   2007-11-10 Colour 1\n",
       "3   2007-10-24 Colour 3\n",
       "4   2007-11-10 Colour 4\n",
       "5   2007-08-25 Colour 5\n",
       "11  2007-09-25 Colour 1\n",
       "13  2007-07-19 Colour 3\n",
       "14  2007-11-08 Colour 4\n",
       "15  2007-11-03 Colour 5\n",
       "16  2007-06-04 Colour 1\n",
       "17  2007-07-04 Colour 2\n",
       "18  2007-07-03 Colour 3\n",
       "19  2007-08-04 Colour 4\n",
       "20  2007-08-20 Colour 5\n",
       "21  2007-11-20 Colour 1\n",
       "22  2007-08-16 Colour 2\n",
       "25  2007-12-19 Colour 5\n",
       "26  2007-12-25 Colour 1\n",
       "27  2007-11-29 Colour 2\n",
       "28  2007-06-19 Colour 3\n",
       "29  2007-11-21 Colour 4\n",
       "31  2007-11-07 Colour 1\n",
       "33  2007-12-14 Colour 3\n",
       "34  2007-06-23 Colour 4\n",
       "35  2007-08-16 Colour 5\n",
       "36  2007-11-24 Colour 1\n",
       "38  2007-06-29 Colour 3\n",
       "41  2007-07-30 Colour 1\n",
       "47  2007-06-29 Colour 2\n",
       "48  2007-07-23 Colour 3\n",
       "49  2007-10-12 Colour 4\n",
       "... ...        ...     \n",
       "51  2007-10-29 Colour 1\n",
       "52  2007-07-05 Colour 2\n",
       "53  2007-09-14 Colour 3\n",
       "56  2007-10-13 Colour 1\n",
       "57  2007-09-18 Colour 2\n",
       "58  2007-11-12 Colour 3\n",
       "59  2007-11-26 Colour 4\n",
       "63  2007-07-05 Colour 3\n",
       "64  2007-10-09 Colour 4\n",
       "65  2007-11-20 Colour 5\n",
       "66  2007-08-01 Colour 1\n",
       "67  2007-12-16 Colour 2\n",
       "71  2007-12-02 Colour 1\n",
       "73  2007-09-15 Colour 3\n",
       "75  2007-09-10 Colour 5\n",
       "77  2007-11-14 Colour 2\n",
       "78  2007-12-31 Colour 3\n",
       "79  2007-06-14 Colour 4\n",
       "83  2007-11-26 Colour 3\n",
       "84  2007-08-05 Colour 4\n",
       "85  2007-08-25 Colour 5\n",
       "86  2007-07-05 Colour 1\n",
       "87  2007-07-31 Colour 2\n",
       "88  2007-09-21 Colour 3\n",
       "89  2007-09-10 Colour 4\n",
       "91  2007-12-11 Colour 1\n",
       "92  2007-12-14 Colour 2\n",
       "93  2007-11-02 Colour 3\n",
       "94  2007-10-25 Colour 4\n",
       "98  2007-07-24 Colour 3"
      ]
     },
     "metadata": {},
     "output_type": "display_data"
    }
   ],
   "source": [
    "datf[datf$d-as.Date('1-June-2007', format=\"%d-%b-%Y\")>0,]"
   ]
  },
  {
   "cell_type": "markdown",
   "metadata": {},
   "source": [
    ":Solution+"
   ]
  },
  {
   "cell_type": "markdown",
   "metadata": {},
   "source": [
    "## Exercise: 2\n",
    "\n",
    "* Generate a matrix with 10 rows and 5 columns, with random entries between 0 and 10. (Hint: look at ```runif```)\n",
    "\n",
    "*  Write a function using ```for``` to calculate the column means of the matrix.\n",
    "\n",
    "*  Extract the even rows from the matrix.\n",
    "\n",
    "[Solution]()"
   ]
  },
  {
   "cell_type": "markdown",
   "metadata": {},
   "source": [
    "## Solution+: 2"
   ]
  },
  {
   "cell_type": "markdown",
   "metadata": {},
   "source": [
    "* Generate a matrix with 10 rows and 5 columns, with random entries\n",
    "  between 0 and 10. (Hint: look at ```runif```)"
   ]
  },
  {
   "cell_type": "code",
   "execution_count": 32,
   "metadata": {},
   "outputs": [
    {
     "data": {
      "text/html": [
       "<table>\n",
       "<tbody>\n",
       "\t<tr><td>9.804293  </td><td>4.9836626 </td><td>0.7089561 </td><td>0.64035735</td><td>8.655358  </td></tr>\n",
       "\t<tr><td>1.535470  </td><td>6.3303802 </td><td>9.0285600 </td><td>9.58436689</td><td>2.117108  </td></tr>\n",
       "\t<tr><td>7.054454  </td><td>0.2246136 </td><td>6.6611312 </td><td>6.70334340</td><td>7.309426  </td></tr>\n",
       "\t<tr><td>4.752587  </td><td>6.0213062 </td><td>7.7713002 </td><td>0.07117314</td><td>3.526904  </td></tr>\n",
       "\t<tr><td>3.143838  </td><td>5.7364747 </td><td>0.4074274 </td><td>4.43395158</td><td>7.922231  </td></tr>\n",
       "\t<tr><td>3.176729  </td><td>1.3561584 </td><td>2.1107383 </td><td>2.28420872</td><td>6.819195  </td></tr>\n",
       "\t<tr><td>5.302103  </td><td>9.8258713 </td><td>9.2962555 </td><td>4.64784942</td><td>3.751291  </td></tr>\n",
       "\t<tr><td>5.985252  </td><td>2.3348505 </td><td>7.1433309 </td><td>0.54225692</td><td>6.742854  </td></tr>\n",
       "\t<tr><td>7.494877  </td><td>1.6589038 </td><td>0.6764284 </td><td>9.18624923</td><td>9.676256  </td></tr>\n",
       "\t<tr><td>1.905350  </td><td>7.5088342 </td><td>9.7672090 </td><td>9.56431339</td><td>5.387983  </td></tr>\n",
       "</tbody>\n",
       "</table>\n"
      ],
      "text/latex": [
       "\\begin{tabular}{lllll}\n",
       "\t 9.804293   & 4.9836626  & 0.7089561  & 0.64035735 & 8.655358  \\\\\n",
       "\t 1.535470   & 6.3303802  & 9.0285600  & 9.58436689 & 2.117108  \\\\\n",
       "\t 7.054454   & 0.2246136  & 6.6611312  & 6.70334340 & 7.309426  \\\\\n",
       "\t 4.752587   & 6.0213062  & 7.7713002  & 0.07117314 & 3.526904  \\\\\n",
       "\t 3.143838   & 5.7364747  & 0.4074274  & 4.43395158 & 7.922231  \\\\\n",
       "\t 3.176729   & 1.3561584  & 2.1107383  & 2.28420872 & 6.819195  \\\\\n",
       "\t 5.302103   & 9.8258713  & 9.2962555  & 4.64784942 & 3.751291  \\\\\n",
       "\t 5.985252   & 2.3348505  & 7.1433309  & 0.54225692 & 6.742854  \\\\\n",
       "\t 7.494877   & 1.6589038  & 0.6764284  & 9.18624923 & 9.676256  \\\\\n",
       "\t 1.905350   & 7.5088342  & 9.7672090  & 9.56431339 & 5.387983  \\\\\n",
       "\\end{tabular}\n"
      ],
      "text/markdown": [
       "\n",
       "| 9.804293   | 4.9836626  | 0.7089561  | 0.64035735 | 8.655358   |\n",
       "| 1.535470   | 6.3303802  | 9.0285600  | 9.58436689 | 2.117108   |\n",
       "| 7.054454   | 0.2246136  | 6.6611312  | 6.70334340 | 7.309426   |\n",
       "| 4.752587   | 6.0213062  | 7.7713002  | 0.07117314 | 3.526904   |\n",
       "| 3.143838   | 5.7364747  | 0.4074274  | 4.43395158 | 7.922231   |\n",
       "| 3.176729   | 1.3561584  | 2.1107383  | 2.28420872 | 6.819195   |\n",
       "| 5.302103   | 9.8258713  | 9.2962555  | 4.64784942 | 3.751291   |\n",
       "| 5.985252   | 2.3348505  | 7.1433309  | 0.54225692 | 6.742854   |\n",
       "| 7.494877   | 1.6589038  | 0.6764284  | 9.18624923 | 9.676256   |\n",
       "| 1.905350   | 7.5088342  | 9.7672090  | 9.56431339 | 5.387983   |\n",
       "\n"
      ],
      "text/plain": [
       "      [,1]     [,2]      [,3]      [,4]       [,5]    \n",
       " [1,] 9.804293 4.9836626 0.7089561 0.64035735 8.655358\n",
       " [2,] 1.535470 6.3303802 9.0285600 9.58436689 2.117108\n",
       " [3,] 7.054454 0.2246136 6.6611312 6.70334340 7.309426\n",
       " [4,] 4.752587 6.0213062 7.7713002 0.07117314 3.526904\n",
       " [5,] 3.143838 5.7364747 0.4074274 4.43395158 7.922231\n",
       " [6,] 3.176729 1.3561584 2.1107383 2.28420872 6.819195\n",
       " [7,] 5.302103 9.8258713 9.2962555 4.64784942 3.751291\n",
       " [8,] 5.985252 2.3348505 7.1433309 0.54225692 6.742854\n",
       " [9,] 7.494877 1.6589038 0.6764284 9.18624923 9.676256\n",
       "[10,] 1.905350 7.5088342 9.7672090 9.56431339 5.387983"
      ]
     },
     "metadata": {},
     "output_type": "display_data"
    }
   ],
   "source": [
    "matti = matrix(runif(50,0,10),nrow=10)\n",
    "matti"
   ]
  },
  {
   "cell_type": "markdown",
   "metadata": {},
   "source": [
    "*  Write a function using ```for``` to calculate the column means of\n",
    "  the matrix."
   ]
  },
  {
   "cell_type": "code",
   "execution_count": 33,
   "metadata": {},
   "outputs": [
    {
     "data": {
      "text/html": [
       "<ol class=list-inline>\n",
       "\t<li>5.01549536734819</li>\n",
       "\t<li>4.598105562618</li>\n",
       "\t<li>5.35713369795121</li>\n",
       "\t<li>4.76580700511113</li>\n",
       "\t<li>6.1908606744837</li>\n",
       "</ol>\n"
      ],
      "text/latex": [
       "\\begin{enumerate*}\n",
       "\\item 5.01549536734819\n",
       "\\item 4.598105562618\n",
       "\\item 5.35713369795121\n",
       "\\item 4.76580700511113\n",
       "\\item 6.1908606744837\n",
       "\\end{enumerate*}\n"
      ],
      "text/markdown": [
       "1. 5.01549536734819\n",
       "2. 4.598105562618\n",
       "3. 5.35713369795121\n",
       "4. 4.76580700511113\n",
       "5. 6.1908606744837\n",
       "\n",
       "\n"
      ],
      "text/plain": [
       "[1] 5.015495 4.598106 5.357134 4.765807 6.190861"
      ]
     },
     "metadata": {},
     "output_type": "display_data"
    }
   ],
   "source": [
    "for (i in 1:5) mean(matti[,i])\n",
    "apply(matti,2,mean)"
   ]
  },
  {
   "cell_type": "markdown",
   "metadata": {},
   "source": [
    "*  Extract the even rows from the matrix."
   ]
  },
  {
   "cell_type": "code",
   "execution_count": 34,
   "metadata": {},
   "outputs": [
    {
     "data": {
      "text/html": [
       "<table>\n",
       "<tbody>\n",
       "\t<tr><td>1.535470  </td><td>6.330380  </td><td>9.028560  </td><td>9.58436689</td><td>2.117108  </td></tr>\n",
       "\t<tr><td>4.752587  </td><td>6.021306  </td><td>7.771300  </td><td>0.07117314</td><td>3.526904  </td></tr>\n",
       "\t<tr><td>3.176729  </td><td>1.356158  </td><td>2.110738  </td><td>2.28420872</td><td>6.819195  </td></tr>\n",
       "\t<tr><td>5.985252  </td><td>2.334851  </td><td>7.143331  </td><td>0.54225692</td><td>6.742854  </td></tr>\n",
       "\t<tr><td>1.905350  </td><td>7.508834  </td><td>9.767209  </td><td>9.56431339</td><td>5.387983  </td></tr>\n",
       "</tbody>\n",
       "</table>\n"
      ],
      "text/latex": [
       "\\begin{tabular}{lllll}\n",
       "\t 1.535470   & 6.330380   & 9.028560   & 9.58436689 & 2.117108  \\\\\n",
       "\t 4.752587   & 6.021306   & 7.771300   & 0.07117314 & 3.526904  \\\\\n",
       "\t 3.176729   & 1.356158   & 2.110738   & 2.28420872 & 6.819195  \\\\\n",
       "\t 5.985252   & 2.334851   & 7.143331   & 0.54225692 & 6.742854  \\\\\n",
       "\t 1.905350   & 7.508834   & 9.767209   & 9.56431339 & 5.387983  \\\\\n",
       "\\end{tabular}\n"
      ],
      "text/markdown": [
       "\n",
       "| 1.535470   | 6.330380   | 9.028560   | 9.58436689 | 2.117108   |\n",
       "| 4.752587   | 6.021306   | 7.771300   | 0.07117314 | 3.526904   |\n",
       "| 3.176729   | 1.356158   | 2.110738   | 2.28420872 | 6.819195   |\n",
       "| 5.985252   | 2.334851   | 7.143331   | 0.54225692 | 6.742854   |\n",
       "| 1.905350   | 7.508834   | 9.767209   | 9.56431339 | 5.387983   |\n",
       "\n"
      ],
      "text/plain": [
       "     [,1]     [,2]     [,3]     [,4]       [,5]    \n",
       "[1,] 1.535470 6.330380 9.028560 9.58436689 2.117108\n",
       "[2,] 4.752587 6.021306 7.771300 0.07117314 3.526904\n",
       "[3,] 3.176729 1.356158 2.110738 2.28420872 6.819195\n",
       "[4,] 5.985252 2.334851 7.143331 0.54225692 6.742854\n",
       "[5,] 1.905350 7.508834 9.767209 9.56431339 5.387983"
      ]
     },
     "metadata": {},
     "output_type": "display_data"
    }
   ],
   "source": [
    "matti[seq(2,10,2),]"
   ]
  },
  {
   "cell_type": "markdown",
   "metadata": {},
   "source": [
    ": solution+"
   ]
  }
 ],
 "metadata": {
  "kernelspec": {
   "display_name": "R",
   "language": "R",
   "name": "ir"
  },
  "language_info": {
   "codemirror_mode": "r",
   "file_extension": ".r",
   "mimetype": "text/x-r-source",
   "name": "R",
   "pygments_lexer": "r",
   "version": "3.6.1"
  }
 },
 "nbformat": 4,
 "nbformat_minor": 2
}
