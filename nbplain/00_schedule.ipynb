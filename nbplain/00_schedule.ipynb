{
 "cells": [
  {
   "cell_type": "markdown",
   "metadata": {
    "slideshow": {
     "slide_type": "slide"
    }
   },
   "source": [
    "# Introduction to R\n",
    "\n",
    "A brief introduction to the R programming language for the course Applied Statistical Inference."
   ]
  },
  {
   "cell_type": "markdown",
   "metadata": {
    "slideshow": {
     "slide_type": "subslide"
    }
   },
   "source": [
    "## Prerequisites:\n",
    "\n",
    "Make sure you have a working R installation!"
   ]
  },
  {
   "cell_type": "markdown",
   "metadata": {},
   "source": [
    "## Information:\n",
    "If you are looking for the [worksheets](./worksheet/01_r_worksheet.html) or their [solutions](./worksheet/01_r_worksheet-soln.html) click on the links."
   ]
  },
  {
   "cell_type": "markdown",
   "metadata": {
    "slideshow": {
     "slide_type": "slide"
    }
   },
   "source": [
    "## Schedule:\n",
    "\n",
    "| Episode | Description |\n",
    "|---|---|\n",
    "| [Intro](./01_intro.ipynb) | The introduction |\n",
    "| [Variables](./02_variables.ipynb) | Working with variables |\n",
    "| [Graphics](./03_graphics.ipynb) | Visualising data |\n",
    "| [Optimisation](./04_optimisation.ipynb) | Making your code faster |"
   ]
  }
 ],
 "metadata": {
  "kernelspec": {
   "display_name": "Python 3",
   "language": "python",
   "name": "python3"
  },
  "language_info": {
   "codemirror_mode": {
    "name": "ipython",
    "version": 3
   },
   "file_extension": ".py",
   "mimetype": "text/x-python",
   "name": "python",
   "nbconvert_exporter": "python",
   "pygments_lexer": "ipython3",
   "version": "3.8.5"
  }
 },
 "nbformat": 4,
 "nbformat_minor": 2
}
