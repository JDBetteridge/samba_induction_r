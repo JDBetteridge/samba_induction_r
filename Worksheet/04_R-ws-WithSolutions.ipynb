{
 "cells": [
  {
   "cell_type": "markdown",
   "metadata": {},
   "source": [
    "<div class=\"w3-bar w3-blue-grey w3-padding\">\n",
    "<div class=\"w3-bar-item\"><h2> SAMBa Training </h2></div>\n",
    "<div class=\"w3-bar-item w3-right\"><img class=\"w3-image w3-right\" style=\"width:40%;max-width:400px\" src=\"../images/SAMBa_white.png\"></div>\n",
    "</div>"
   ]
  },
  {
   "cell_type": "markdown",
   "metadata": {},
   "source": [
    "This worksheet contains a few simple problems involving some basic methods in probability and statistics. You are expected to solve these problems using the programming language $\\texttt{R}$."
   ]
  },
  {
   "cell_type": "markdown",
   "metadata": {},
   "source": [
    "\n",
    "<div class=\"w3-panel w3-leftbar w3-border-yellow w3-pale-yellow w3-padding-small\">\n",
    "    <h3><i class=\"fa fa-pencil-square-o\"></i> 1\n",
    "</h3>\n",
    "</div>"
   ]
  },
  {
   "cell_type": "markdown",
   "metadata": {},
   "source": [
    "The Central Limit Theorem states that the sum $Z = X_1 +...+ X_n$ of $n$ independent identically distributed (iid) random variables is approximately normally distributed for large $n$. In particular, if $X_1,... X_n$ have mean $\\mu$ and variance $\\sigma^2$, then the standardised sum $Z_s=((X_1-\\mu) + ... + (X_n-\\mu))/(\\sqrt{n\\sigma^2})$  has a standard normal distribution $N(0,1)$ for large $n$."
   ]
  },
  {
   "cell_type": "markdown",
   "metadata": {},
   "source": [
    "Susie D gets many emails each day. Let $X_i \\overset{\\text{iid}}{\\sim} Pois(70)$ for $i=1,...,n$ denote the number of emails she receives during day $i$."
   ]
  },
  {
   "cell_type": "markdown",
   "metadata": {},
   "source": [
    "Write a function `func` that takes n as input, generates a random sample $x$ of $n$ independent draws of $X_i$ and returns the sample mean and variance of $x$. You may find the function `rpois` and the following function structure helpful."
   ]
  },
  {
   "cell_type": "code",
   "execution_count": null,
   "metadata": {},
   "outputs": [],
   "source": [
    "# A function to generate n iid X_i and return the sample mean and variance.\n",
    "func<-function(n){\n",
    "  x <-rpois(n,70)\n",
    "    mean_x <-mean(x)\n",
    "    var_x <-var(x)\n",
    "    return(c(mean_x,var_x))\n",
    "}"
   ]
  },
  {
   "cell_type": "markdown",
   "metadata": {},
   "source": [
    "Write a function function `func2` that takes n as an input, makes a call to `func`, and uses both outputs of `func` to calculate an approximate standardised sum $Z_s$, and finally returns $Z_s$."
   ]
  },
  {
   "cell_type": "code",
   "execution_count": null,
   "metadata": {},
   "outputs": [],
   "source": [
    "func2<-function(n){\n",
    "  y=func(n)\n",
    "  Z_s=y[1]/sqrt(y[2])\n",
    "  Z_s\n",
    "}"
   ]
  },
  {
   "cell_type": "markdown",
   "metadata": {},
   "source": [
    "Use the function `sapply` with the first argument `rep(500,1000)` to generate $N = 1000$ such $Z_s$ for $n = 500$. "
   ]
  },
  {
   "cell_type": "code",
   "execution_count": null,
   "metadata": {},
   "outputs": [],
   "source": [
    "Zs_samples=sapply(rep(500,1000),func2)"
   ]
  },
  {
   "cell_type": "markdown",
   "metadata": {},
   "source": [
    "Plot a histogram of your samples of $Z_s$. What do you observe? Use the function `qqnorm` on your samples of $Z_s$ to produce a normal QQ plot. What do you observe and why is this the case? "
   ]
  },
  {
   "cell_type": "code",
   "execution_count": null,
   "metadata": {},
   "outputs": [],
   "source": [
    "hist(Zs_samples)\n",
    "qqnorm(Zs_samples)\n",
    "#they are normally distributed as says the CLT.\n",
    "#n=500 is sufficient for the sample variance to a good\n",
    "#approximation to the true variance."
   ]
  },
  {
   "cell_type": "markdown",
   "metadata": {},
   "source": [
    "\n",
    "<div class=\"w3-panel w3-leftbar w3-border-yellow w3-pale-yellow w3-padding-small\">\n",
    "    <h3><i class=\"fa fa-pencil-square-o\"></i> 2\n",
    "</h3>\n",
    "  \n",
    "\n",
    "</div>\n"
   ]
  },
  {
   "cell_type": "markdown",
   "metadata": {},
   "source": [
    "Data in $\\texttt{R}$ are usually stored in data frames. A data frame is a table in which each column is a vector containing the values of one variable. The variables can be of either numeric, factor or character type."
   ]
  },
  {
   "cell_type": "markdown",
   "metadata": {},
   "source": [
    "One of Andreas K's favourite built in datasets in R is called `trees`. Use the command `dat <- trees` to create a new data \n",
    "frame with this data. Have a play around with this dataset so that you are comfortable extracting a particular row or column. Use the following commands to perform some exploratory data analysis."
   ]
  },
  {
   "cell_type": "code",
   "execution_count": null,
   "metadata": {},
   "outputs": [],
   "source": [
    "dat <- trees #let dat be the trees dataframe\n",
    "dat[1:10,] #print the first 10 rows\n",
    "summary(dat) #print a summary of the dataset\n",
    "pairs(dat,pch=19) #plot a matrix of scatterplots"
   ]
  },
  {
   "cell_type": "markdown",
   "metadata": {},
   "source": [
    "Fit a simple linear model with response variable `Volume` and predictor variable `Girth`, storing the results as an object `mod`."
   ]
  },
  {
   "cell_type": "code",
   "execution_count": null,
   "metadata": {},
   "outputs": [],
   "source": [
    "mod=lm(Volume~Girth,data=dat)"
   ]
  },
  {
   "cell_type": "markdown",
   "metadata": {},
   "source": [
    "Use `plot(mod)` and `summary(mod)` to assess the goodness of fit of the model. Does `Girth` predict `Volume` well?"
   ]
  },
  {
   "cell_type": "code",
   "execution_count": null,
   "metadata": {},
   "outputs": [],
   "source": [
    "plot(mod)\n",
    "summary(mod)"
   ]
  },
  {
   "cell_type": "markdown",
   "metadata": {},
   "source": [
    "From the formula for the volume of a cylinder, we may expect the variable `Girth`$^2$ to be a better predictor for `Volume`. Add this variable as a new column `Girth2` to the data frame dat."
   ]
  },
  {
   "cell_type": "code",
   "execution_count": null,
   "metadata": {},
   "outputs": [],
   "source": [
    "dat$Girth2 <- (dat$Girth)^2 #note numerical operations are performed elementwise in R."
   ]
  },
  {
   "cell_type": "markdown",
   "metadata": {},
   "source": [
    "Fit a linear model as before but with `Girth` replaced by `Girth2`. Did this improve the model?"
   ]
  },
  {
   "cell_type": "code",
   "execution_count": null,
   "metadata": {},
   "outputs": [],
   "source": [
    "mod2=lm(Volume~Girth2,data=dat)\n",
    "summary(mod2)\n",
    "#improves- F-statistic increases, Residual se decreases etc"
   ]
  },
  {
   "cell_type": "markdown",
   "metadata": {},
   "source": [
    "<div class=\"w3-panel w3-leftbar w3-border-yellow w3-pale-yellow w3-padding-small\">\n",
    "    <h3><i class=\"fa fa-pencil-square-o\"></i> 3\n",
    "</h3>\n",
    "  \n",
    "\n",
    "</div>\n"
   ]
  },
  {
   "cell_type": "markdown",
   "metadata": {},
   "source": [
    "When Paul M was a child he sold newspapers at a kiosk. In the morning he bought newspapers at 25 Pesos each, but after the first 200 newspapers the price falls to 5 Pesos each. He sells the newspapers at 100 Pesos each. If any remain unsold at the end of the day, he gets no refund. From previous experiences, he infers the demand for newspapers each day is distributed according to a $N(178,21^2)$ distribution. He would like to know what the optimal number of newspapers to buy each day was."
   ]
  },
  {
   "cell_type": "markdown",
   "metadata": {},
   "source": [
    "Let $n$ be the number of papers Paul M buys each day. Write functions the following functions:"
   ]
  },
  {
   "cell_type": "markdown",
   "metadata": {},
   "source": [
    "`cost(n)` to give the cost of buying $n$ papers,"
   ]
  },
  {
   "cell_type": "markdown",
   "metadata": {},
   "source": [
    "`profit(n,d)` to give the profit from sales when there is demand for $d$ papers and Paul M bought $n$ papers, and"
   ]
  },
  {
   "cell_type": "markdown",
   "metadata": {},
   "source": [
    "`average.profit(n,nreps)` to simulate `nreps` values of demands $d\\sim N(178,21^2)$ and return the average profit for these cases."
   ]
  },
  {
   "cell_type": "code",
   "execution_count": null,
   "metadata": {},
   "outputs": [],
   "source": [
    "cost <- function(n){\n",
    "  min(200,n)*25+(n>200)*(n-200)*5\n",
    "}\n",
    "profit <- function(n,d){\n",
    "  100*min(n,d)-cost(n)\n",
    "}\n",
    "average.profit <- function(n,nreps){\n",
    "  demand_vec <- rnorm(nreps,178,21)# note that the 3rd argurment of rnorm in R is sd not variance!\n",
    "    profit_vec <- sapply(demand_vec,profit,n=n) #alternatively you may use a for loop. But sapply is a neat way to do things in R.\n",
    "  av_profit <- mean(profit_vec)\n",
    "    return(av_profit)\n",
    "}"
   ]
  },
  {
   "cell_type": "markdown",
   "metadata": {},
   "source": [
    "Use `average.profit` to work out the optimal number of newspapers Paul M should buy each day. You may find it helpful to use a small number of simulations initially, then increase this number to get accurate reuslts as your search closes in on the optimal value. Careful- a local maximum may not be a global maximum! Make sure to let Paul M know what you discover."
   ]
  },
  {
   "cell_type": "code",
   "execution_count": null,
   "metadata": {},
   "outputs": [],
   "source": [
    "#after some initial searching with small nreps, we find the maximum is in the interval (185,220)\n",
    "x=seq(from=185,to=220,by=0.5)\n",
    "y=sapply(x,average.profit,nreps=500000) #takes a minute\n",
    "plot(x,y)\n",
    "#global maximum is around 214"
   ]
  },
  {
   "cell_type": "markdown",
   "metadata": {},
   "source": [
    "<div class=\"w3-bar w3-blue-grey\">\n",
    "<a href=\"./03_matlab-ws.ipynb\" class=\"w3-bar-item w3-button\"><h2><i class=\"fa fa-angle-double-left\"></i> Previous</h2></a>\n",
    "<a href=\"./00_schedule.ipynb\" class=\"w3-bar-item w3-button w3-center\" style=\"width:60%\"><h2>Schedule</h2></a>\n",
    "<a href=\"./00_schedule.ipynb\" class=\"w3-bar-item w3-button w3-right\"><h2>Next <i class=\"fa fa-angle-double-right\"></i></h2></a>\n",
    "</div>"
   ]
  }
 ],
 "metadata": {
  "kernelspec": {
   "display_name": "R",
   "language": "R",
   "name": "ir"
  },
  "language_info": {
   "codemirror_mode": "r",
   "file_extension": ".r",
   "mimetype": "text/x-r-source",
   "name": "R",
   "pygments_lexer": "r",
   "version": "3.5.0"
  }
 },
 "nbformat": 4,
 "nbformat_minor": 2
}
